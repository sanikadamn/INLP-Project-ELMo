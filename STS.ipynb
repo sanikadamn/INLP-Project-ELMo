{
 "cells": [
  {
   "cell_type": "code",
   "execution_count": null,
   "metadata": {},
   "outputs": [],
   "source": [
    "import torch\n",
    "import torch.nn as nn\n",
    "from tqdm import tqdm\n",
    "from ELMO import ELMo\n",
    "import torch.nn.functional as F\n",
    "from sts_loader import STSDataset\n",
    "from torch.utils.data import DataLoader"
   ]
  },
  {
   "cell_type": "code",
   "execution_count": null,
   "metadata": {},
   "outputs": [],
   "source": [
    "device = torch.device(\"cuda\" if torch.cuda.is_available() else \"cpu\")\n",
    "torch.manual_seed(42)\n",
    "print(device)"
   ]
  },
  {
   "cell_type": "code",
   "execution_count": null,
   "metadata": {},
   "outputs": [],
   "source": [
    "# Load vocabularies\n",
    "vocab = torch.load('Hin_vocab.pt')\n",
    "character_vocab = torch.load('Hin_character_vocab.pt')"
   ]
  },
  {
   "cell_type": "code",
   "execution_count": null,
   "metadata": {},
   "outputs": [],
   "source": [
    "# Get Sentences and Scores\n",
    "\n",
    "path = 'sts-train-hi.tsv'\n",
    "sts_dataset = STSDataset(path)\n",
    "s1, s2, scores = sts_dataset.format(character_vocab)\n",
    "scores = torch.tensor(scores, dtype=torch.float32)"
   ]
  },
  {
   "cell_type": "code",
   "execution_count": null,
   "metadata": {},
   "outputs": [],
   "source": [
    "def create_dataloader(s1, s2, scores, batch_size):\n",
    "    zipped = list(zip(s1, s2, scores))\n",
    "    dataloader = DataLoader(zipped, batch_size=batch_size, shuffle=True)\n",
    "    return dataloader"
   ]
  },
  {
   "cell_type": "code",
   "execution_count": null,
   "metadata": {},
   "outputs": [],
   "source": [
    "# make the dataloader\n",
    "s1_val = s1[:1000]\n",
    "s2_val = s2[:1000]\n",
    "scores_val = scores[:1000]\n",
    "batch_size = 64\n",
    "val_dataloader = create_dataloader(s1_val, s2_val, scores_val, batch_size)\n",
    "train_dataloader = create_dataloader(s1[1000:], s2[1000:], scores[1000:], batch_size)"
   ]
  },
  {
   "cell_type": "code",
   "execution_count": null,
   "metadata": {},
   "outputs": [],
   "source": [
    "# s1[1]"
   ]
  },
  {
   "cell_type": "code",
   "execution_count": null,
   "metadata": {},
   "outputs": [],
   "source": [
    "model = ELMo(cnn_config = {'character_embedding_size': 16, \n",
    "                           'num_filters': 32, \n",
    "                           'kernel_size': 5, \n",
    "                           'max_word_length': 10, \n",
    "                           'char_vocab_size': len(character_vocab)}, \n",
    "             elmo_config = {'num_layers': 3,\n",
    "                            'word_embedding_dim': 300,\n",
    "                            'vocab_size': len(vocab)}, \n",
    "             char_vocab_size = len(character_vocab)).to(device)\n"
   ]
  },
  {
   "cell_type": "code",
   "execution_count": null,
   "metadata": {},
   "outputs": [],
   "source": [
    "model.load_state_dict(torch.load('Hin_model.pt'))"
   ]
  },
  {
   "cell_type": "code",
   "execution_count": 1,
   "metadata": {},
   "outputs": [
    {
     "ename": "NameError",
     "evalue": "name 'nn' is not defined",
     "output_type": "error",
     "traceback": [
      "\u001b[1;31m---------------------------------------------------------------------------\u001b[0m",
      "\u001b[1;31mNameError\u001b[0m                                 Traceback (most recent call last)",
      "Cell \u001b[1;32mIn[1], line 4\u001b[0m\n\u001b[0;32m      1\u001b[0m word_embedding_dim \u001b[38;5;241m=\u001b[39m \u001b[38;5;241m300\u001b[39m\n\u001b[0;32m      3\u001b[0m \u001b[38;5;66;03m# make a model for sentence similairty\u001b[39;00m\n\u001b[1;32m----> 4\u001b[0m \u001b[38;5;28;01mclass\u001b[39;00m \u001b[38;5;21;01mSimilarityModel\u001b[39;00m(\u001b[43mnn\u001b[49m\u001b[38;5;241m.\u001b[39mModule):\n\u001b[0;32m      5\u001b[0m     \u001b[38;5;28;01mdef\u001b[39;00m \u001b[38;5;21m__init__\u001b[39m(\u001b[38;5;28mself\u001b[39m, elmo):\n\u001b[0;32m      6\u001b[0m         \u001b[38;5;28msuper\u001b[39m(SimilarityModel, \u001b[38;5;28mself\u001b[39m)\u001b[38;5;241m.\u001b[39m\u001b[38;5;21m__init__\u001b[39m()\n",
      "\u001b[1;31mNameError\u001b[0m: name 'nn' is not defined"
     ]
    }
   ],
   "source": [
    "word_embedding_dim = 300\n",
    "\n",
    "# make a model for sentence similairty\n",
    "class SimilarityModel(nn.Module):\n",
    "    def __init__(self, elmo):\n",
    "        super(SimilarityModel, self).__init__()\n",
    "        self.elmo = elmo\n",
    "        self.lstm = nn.LSTM(word_embedding_dim, word_embedding_dim/2, batch_first=True, bidirectional=True)\n",
    "        \n",
    "    def forward(self, sentence1, sentence2):\n",
    "        _, sentence1 = self.elmo(sentence1)\n",
    "        _, sentence2 = self.elmo(sentence2)\n",
    "        return (F.cosine_similarity(sentence1.mean(dim=1), sentence2.mean(dim=1)) + 1)*(5/2)"
   ]
  },
  {
   "cell_type": "code",
   "execution_count": null,
   "metadata": {},
   "outputs": [],
   "source": [
    "# similarity_model = SimilarityModel(model)\n",
    "similarity_model = SimilarityModel(model, 128).to(device)"
   ]
  },
  {
   "cell_type": "code",
   "execution_count": null,
   "metadata": {},
   "outputs": [],
   "source": [
    "num_epochs = 10\n",
    "criterion = nn.MSELoss()\n",
    "optimizer = torch.optim.Adam(similarity_model.parameters(), lr=0.001)\n"
   ]
  },
  {
   "cell_type": "code",
   "execution_count": null,
   "metadata": {},
   "outputs": [],
   "source": [
    "# train the model\n",
    "for epoch in range(num_epochs):\n",
    "    similarity_model.train()\n",
    "    total_loss = 0\n",
    "    for s1, s2, scores in tqdm(train_dataloader):\n",
    "        s1 = s1\n",
    "        s2 = s2\n",
    "        scores = scores.to(device)\n",
    "        optimizer.zero_grad()\n",
    "        outputs = similarity_model(s1, s2)\n",
    "        loss = criterion(outputs, scores)\n",
    "        loss.backward()\n",
    "        optimizer.step()\n",
    "        total_loss += loss.item()\n",
    "    print(f\"Epoch {epoch} Loss: {total_loss}\")\n",
    "\n",
    "    similarity_model.eval()\n",
    "    with torch.no_grad():\n",
    "        total_loss = 0\n",
    "        for s1, s2, scores in val_dataloader:\n",
    "            s1 = s1\n",
    "            s2 = s2\n",
    "            scores = scores.to(device)\n",
    "            outputs = similarity_model(s1, s2)\n",
    "            loss = criterion(outputs, scores)\n",
    "            total_loss += loss.item()\n",
    "        print(f\"Validation Loss: {total_loss}\")"
   ]
  },
  {
   "cell_type": "code",
   "execution_count": null,
   "metadata": {},
   "outputs": [],
   "source": [
    "# iterate over the dataloader"
   ]
  },
  {
   "cell_type": "code",
   "execution_count": null,
   "metadata": {},
   "outputs": [],
   "source": []
  }
 ],
 "metadata": {
  "kernelspec": {
   "display_name": "Python 3",
   "language": "python",
   "name": "python3"
  },
  "language_info": {
   "codemirror_mode": {
    "name": "ipython",
    "version": 3
   },
   "file_extension": ".py",
   "mimetype": "text/x-python",
   "name": "python",
   "nbconvert_exporter": "python",
   "pygments_lexer": "ipython3",
   "version": "3.12.2"
  }
 },
 "nbformat": 4,
 "nbformat_minor": 2
}
