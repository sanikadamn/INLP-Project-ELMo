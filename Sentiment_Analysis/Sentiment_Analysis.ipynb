{
 "cells": [
  {
   "cell_type": "code",
   "execution_count": 1,
   "metadata": {},
   "outputs": [],
   "source": [
    "import torch\n",
    "import torch.nn as nn\n",
    "from sentiment_preprocessing import SentimentAnalysisDataset, EmbeddingDataset\n",
    "from torch.utils.data import DataLoader, Dataset\n",
    "from tqdm import tqdm\n",
    "torch.random.manual_seed(13)\n",
    "import sys\n",
    "sys.path.append('..')\n",
    "from ELMO import ELMo\n",
    "from sentiment_models import SentimentAnalysis, SentimentAnalysis_WithoutELMo\n",
    "import wandb"
   ]
  },
  {
   "cell_type": "code",
   "execution_count": 2,
   "metadata": {},
   "outputs": [
    {
     "data": {
      "text/plain": [
       "device(type='cuda')"
      ]
     },
     "execution_count": 2,
     "metadata": {},
     "output_type": "execute_result"
    }
   ],
   "source": [
    "device = torch.device('cuda' if torch.cuda.is_available() else 'cpu')\n",
    "device"
   ]
  },
  {
   "cell_type": "code",
   "execution_count": 3,
   "metadata": {},
   "outputs": [],
   "source": [
    "path = 'Marathi_Semantic/pos_train.txt'\n",
    "with open (path, \"r\", encoding='utf-8') as f:\n",
    "    pos_train = f.readlines()\n",
    "path = 'Marathi_Semantic/neg_train.txt'\n",
    "with open (path, \"r\", encoding='utf-8') as f:\n",
    "    neg_train = f.readlines()"
   ]
  },
  {
   "cell_type": "code",
   "execution_count": 4,
   "metadata": {},
   "outputs": [],
   "source": [
    "# make a tensor of labels\n",
    "y_pos = torch.ones(len(pos_train), dtype=torch.long)\n",
    "y_neg = torch.zeros(len(neg_train), dtype=torch.long)\n",
    "labels = torch.cat((y_pos, y_neg), dim=0)"
   ]
  },
  {
   "cell_type": "code",
   "execution_count": 5,
   "metadata": {},
   "outputs": [],
   "source": [
    "data = pos_train + neg_train"
   ]
  },
  {
   "cell_type": "code",
   "execution_count": 6,
   "metadata": {},
   "outputs": [],
   "source": [
    "char_vocab = torch.load('../ELMo/char_vocab_marathi.pt')\n",
    "word_vocab = torch.load('../ELMo/word_vocab_marathi.pt')"
   ]
  },
  {
   "cell_type": "code",
   "execution_count": 7,
   "metadata": {},
   "outputs": [],
   "source": [
    "elmo = ELMo(cnn_config = {'character_embedding_size': 16, \n",
    "                           'num_filters': 32, \n",
    "                           'kernel_size': 5, \n",
    "                           'max_word_length': 10, \n",
    "                           'char_vocab_size': char_vocab.num_chars}, \n",
    "             elmo_config = {'num_layers': 3,\n",
    "                            'word_embedding_dim': 150,\n",
    "                            'vocab_size': word_vocab.num_words}, \n",
    "             char_vocab_size = char_vocab.num_chars).to(device)"
   ]
  },
  {
   "cell_type": "code",
   "execution_count": 8,
   "metadata": {},
   "outputs": [
    {
     "data": {
      "text/plain": [
       "<All keys matched successfully>"
      ]
     },
     "execution_count": 8,
     "metadata": {},
     "output_type": "execute_result"
    }
   ],
   "source": [
    "# load model\n",
    "elmo.load_state_dict(torch.load('../ELMo/elmo_epoch_3.pt'))"
   ]
  },
  {
   "cell_type": "code",
   "execution_count": 36,
   "metadata": {},
   "outputs": [],
   "source": [
    "def train_sentiment(model, train_loader, val_loader, optimizer, criterion, epochs):\n",
    "    model.train()\n",
    "    model.to(device)\n",
    "    for epoch in range(epochs):\n",
    "        model.train()\n",
    "        total_loss = 0\n",
    "        predictions = []\n",
    "        targets = []\n",
    "        predictions_val = []\n",
    "        targets_val = []\n",
    "        loss_val = 0\n",
    "        for batch in tqdm(train_loader):\n",
    "            optimizer.zero_grad()\n",
    "            sentences, labels = batch\n",
    "            sentences = sentences.to(device)\n",
    "            labels = labels.to(device)\n",
    "            output = model(sentences)\n",
    "            onehot_labels = torch.nn.functional.one_hot(labels, num_classes=2).float()\n",
    "            loss = criterion(output, onehot_labels)\n",
    "            loss.backward()\n",
    "            optimizer.step()   \n",
    "            total_loss += loss.item()\n",
    "            predictions.extend(torch.argmax(output, dim=1).tolist())\n",
    "            targets.extend(labels.tolist())\n",
    "        model.eval()\n",
    "        with torch.no_grad():\n",
    "            for batch in val_loader:\n",
    "                sentences, labels = batch\n",
    "                sentences = sentences.to(device)\n",
    "                labels = labels.to(device)\n",
    "                output = model(sentences)\n",
    "                onehot_labels = torch.nn.functional.one_hot(labels, num_classes=2).float()\n",
    "                loss = criterion(output, onehot_labels)\n",
    "                predictions_val.extend(torch.argmax(output, dim=1).tolist())\n",
    "                targets_val.extend(labels.tolist())\n",
    "                loss_val += loss.item()\n",
    "\n",
    "        wandb.log({\"Train Loss\": total_loss/len(train_loader), \n",
    "                   \"Train Accuracy\": torch.sum(torch.tensor(predictions) == torch.tensor(targets)).item()/len(targets), \n",
    "                   \"Val Accuracy\": torch.sum(torch.tensor(predictions_val) == torch.tensor(targets_val)).item()/len(targets_val)})\n",
    "        print(f\"Epoch {epoch+1}\")\n",
    "        print(f\"Train Loss: {total_loss/len(train_loader)}\")\n",
    "        print(f\"Train Accuracy: {torch.sum(torch.tensor(predictions) == torch.tensor(targets)).item()/len(targets)}\")  \n",
    "        print(f\"Val Accuracy: {torch.sum(torch.tensor(predictions_val) == torch.tensor(targets_val)).item()/len(targets_val)}\")\n"
   ]
  },
  {
   "cell_type": "code",
   "execution_count": 84,
   "metadata": {},
   "outputs": [],
   "source": [
    "dataset = SentimentAnalysisDataset(data, labels, word_vocab, char_vocab)\n",
    "# split into train and val\n",
    "train_size = int(0.8 * len(dataset))\n",
    "val_size = len(dataset) - train_size\n",
    "train_dataset, val_dataset = torch.utils.data.random_split(dataset, [train_size, val_size])\n",
    "train_dataloader = DataLoader(train_dataset, batch_size=32, shuffle=True, collate_fn=dataset.collate_fn)\n",
    "val_dataloader = DataLoader(val_dataset, batch_size=16, shuffle=True, collate_fn=dataset.collate_fn)"
   ]
  },
  {
   "cell_type": "code",
   "execution_count": 85,
   "metadata": {},
   "outputs": [],
   "source": [
    "sentiment_analysis = SentimentAnalysis(elmo, 300, 2).to(device)\n",
    "optimizer = torch.optim.Adam(sentiment_analysis.parameters(), lr=0.0005)\n",
    "criterion = nn.CrossEntropyLoss()"
   ]
  },
  {
   "cell_type": "code",
   "execution_count": 86,
   "metadata": {},
   "outputs": [
    {
     "data": {
      "application/vnd.jupyter.widget-view+json": {
       "model_id": "2e5c82a57cef46c1b2c44f1f31ac71f1",
       "version_major": 2,
       "version_minor": 0
      },
      "text/plain": [
       "VBox(children=(Label(value='Waiting for wandb.init()...\\r'), FloatProgress(value=0.0111135837311546, max=1.0))…"
      ]
     },
     "metadata": {},
     "output_type": "display_data"
    },
    {
     "data": {
      "text/html": [
       "wandb version 0.16.6 is available!  To upgrade, please run:\n",
       " $ pip install wandb --upgrade"
      ],
      "text/plain": [
       "<IPython.core.display.HTML object>"
      ]
     },
     "metadata": {},
     "output_type": "display_data"
    },
    {
     "data": {
      "text/html": [
       "Tracking run with wandb version 0.16.0"
      ],
      "text/plain": [
       "<IPython.core.display.HTML object>"
      ]
     },
     "metadata": {},
     "output_type": "display_data"
    },
    {
     "data": {
      "text/html": [
       "Run data is saved locally in <code>/home2/sanika/inlp/INLP-Project-ELMo/Sentiment_Analysis/wandb/run-20240424_232626-omzrewbn</code>"
      ],
      "text/plain": [
       "<IPython.core.display.HTML object>"
      ]
     },
     "metadata": {},
     "output_type": "display_data"
    },
    {
     "data": {
      "text/html": [
       "Syncing run <strong><a href='https://wandb.ai/project-ai-scream/INLP-Project-ELMo/runs/omzrewbn' target=\"_blank\">Marathi with ELMo</a></strong> to <a href='https://wandb.ai/project-ai-scream/INLP-Project-ELMo' target=\"_blank\">Weights & Biases</a> (<a href='https://wandb.me/run' target=\"_blank\">docs</a>)<br/>"
      ],
      "text/plain": [
       "<IPython.core.display.HTML object>"
      ]
     },
     "metadata": {},
     "output_type": "display_data"
    },
    {
     "data": {
      "text/html": [
       " View project at <a href='https://wandb.ai/project-ai-scream/INLP-Project-ELMo' target=\"_blank\">https://wandb.ai/project-ai-scream/INLP-Project-ELMo</a>"
      ],
      "text/plain": [
       "<IPython.core.display.HTML object>"
      ]
     },
     "metadata": {},
     "output_type": "display_data"
    },
    {
     "data": {
      "text/html": [
       " View run at <a href='https://wandb.ai/project-ai-scream/INLP-Project-ELMo/runs/omzrewbn' target=\"_blank\">https://wandb.ai/project-ai-scream/INLP-Project-ELMo/runs/omzrewbn</a>"
      ],
      "text/plain": [
       "<IPython.core.display.HTML object>"
      ]
     },
     "metadata": {},
     "output_type": "display_data"
    },
    {
     "name": "stderr",
     "output_type": "stream",
     "text": [
      "  0%|          | 0/60 [00:00<?, ?it/s]/home2/sanika/inlp/INLP-Project-ELMo/Sentiment_Analysis/sentiment_preprocessing.py:35: UserWarning: To copy construct from a tensor, it is recommended to use sourceTensor.clone().detach() or sourceTensor.clone().detach().requires_grad_(True), rather than torch.tensor(sourceTensor).\n",
      "  return [torch.tensor([self.char_vocab.char_to_index(char) for char in word], dtype=torch.long) for word in sentence], torch.tensor(self.labels[idx], dtype=torch.long)\n",
      "100%|██████████| 60/60 [00:03<00:00, 19.44it/s]\n"
     ]
    },
    {
     "name": "stdout",
     "output_type": "stream",
     "text": [
      "Epoch 1\n",
      "Train Loss: 0.6826742847760519\n",
      "Train Accuracy: 0.5620743844944998\n",
      "Val Accuracy: 0.6192468619246861\n"
     ]
    },
    {
     "name": "stderr",
     "output_type": "stream",
     "text": [
      "100%|██████████| 60/60 [00:03<00:00, 18.10it/s]\n"
     ]
    },
    {
     "name": "stdout",
     "output_type": "stream",
     "text": [
      "Epoch 2\n",
      "Train Loss: 0.5674161990483602\n",
      "Train Accuracy: 0.7213200628601362\n",
      "Val Accuracy: 0.6841004184100419\n"
     ]
    },
    {
     "name": "stderr",
     "output_type": "stream",
     "text": [
      "100%|██████████| 60/60 [00:03<00:00, 18.87it/s]\n"
     ]
    },
    {
     "name": "stdout",
     "output_type": "stream",
     "text": [
      "Epoch 3\n",
      "Train Loss: 0.3875229224562645\n",
      "Train Accuracy: 0.8386589837611315\n",
      "Val Accuracy: 0.7217573221757322\n"
     ]
    },
    {
     "name": "stderr",
     "output_type": "stream",
     "text": [
      "100%|██████████| 60/60 [00:03<00:00, 19.67it/s]\n"
     ]
    },
    {
     "name": "stdout",
     "output_type": "stream",
     "text": [
      "Epoch 4\n",
      "Train Loss: 0.24341179927190146\n",
      "Train Accuracy: 0.9083289680460974\n",
      "Val Accuracy: 0.7217573221757322\n"
     ]
    },
    {
     "name": "stderr",
     "output_type": "stream",
     "text": [
      "100%|██████████| 60/60 [00:03<00:00, 19.53it/s]\n"
     ]
    },
    {
     "name": "stdout",
     "output_type": "stream",
     "text": [
      "Epoch 5\n",
      "Train Loss: 0.15980822313576937\n",
      "Train Accuracy: 0.9418543740178104\n",
      "Val Accuracy: 0.7196652719665272\n"
     ]
    },
    {
     "name": "stderr",
     "output_type": "stream",
     "text": [
      "wandb: WARNING Source type is set to 'repo' but some required information is missing from the environment. A job will not be created from this run. See https://docs.wandb.ai/guides/launch/create-job\n"
     ]
    },
    {
     "data": {
      "application/vnd.jupyter.widget-view+json": {
       "model_id": "e412dd84e2c6432c90e10d6216b0e9a7",
       "version_major": 2,
       "version_minor": 0
      },
      "text/plain": [
       "VBox(children=(Label(value='0.005 MB of 0.005 MB uploaded\\r'), FloatProgress(value=1.0, max=1.0)))"
      ]
     },
     "metadata": {},
     "output_type": "display_data"
    },
    {
     "data": {
      "text/html": [
       "<style>\n",
       "    table.wandb td:nth-child(1) { padding: 0 10px; text-align: left ; width: auto;} td:nth-child(2) {text-align: left ; width: 100%}\n",
       "    .wandb-row { display: flex; flex-direction: row; flex-wrap: wrap; justify-content: flex-start; width: 100% }\n",
       "    .wandb-col { display: flex; flex-direction: column; flex-basis: 100%; flex: 1; padding: 10px; }\n",
       "    </style>\n",
       "<div class=\"wandb-row\"><div class=\"wandb-col\"><h3>Run history:</h3><br/><table class=\"wandb\"><tr><td>Train Accuracy</td><td>▁▄▆▇█</td></tr><tr><td>Train Loss</td><td>█▆▄▂▁</td></tr><tr><td>Val Accuracy</td><td>▁▅███</td></tr></table><br/></div><div class=\"wandb-col\"><h3>Run summary:</h3><br/><table class=\"wandb\"><tr><td>Train Accuracy</td><td>0.94185</td></tr><tr><td>Train Loss</td><td>0.15981</td></tr><tr><td>Val Accuracy</td><td>0.71967</td></tr></table><br/></div></div>"
      ],
      "text/plain": [
       "<IPython.core.display.HTML object>"
      ]
     },
     "metadata": {},
     "output_type": "display_data"
    },
    {
     "data": {
      "text/html": [
       " View run <strong style=\"color:#cdcd00\">Marathi with ELMo</strong> at: <a href='https://wandb.ai/project-ai-scream/INLP-Project-ELMo/runs/omzrewbn' target=\"_blank\">https://wandb.ai/project-ai-scream/INLP-Project-ELMo/runs/omzrewbn</a><br/>Synced 6 W&B file(s), 0 media file(s), 0 artifact file(s) and 0 other file(s)"
      ],
      "text/plain": [
       "<IPython.core.display.HTML object>"
      ]
     },
     "metadata": {},
     "output_type": "display_data"
    },
    {
     "data": {
      "text/html": [
       "Find logs at: <code>./wandb/run-20240424_232626-omzrewbn/logs</code>"
      ],
      "text/plain": [
       "<IPython.core.display.HTML object>"
      ]
     },
     "metadata": {},
     "output_type": "display_data"
    }
   ],
   "source": [
    "config = {'model': 'ELMo', 'language': 'Marathi', 'epochs': 5, 'batch_size': 32, 'lr': 0.0005}\n",
    "\n",
    "wandb.init(project='INLP-Project-ELMo', group='Sentiment Analysis', name='Marathi with ELMo', config=config)\n",
    "wandb.watch(sentiment_analysis)\n",
    "train_sentiment(sentiment_analysis, train_dataloader, val_dataloader, optimizer, criterion, 5)  \n",
    "# end wandb run\n",
    "wandb.join()"
   ]
  },
  {
   "cell_type": "code",
   "execution_count": 87,
   "metadata": {},
   "outputs": [],
   "source": [
    "dataset2 = EmbeddingDataset(data, labels, word_vocab)\n",
    "# split into train and val\n",
    "train_size = int(0.8 * len(dataset2))\n",
    "val_size = len(dataset2) - train_size\n",
    "train_dataset2, val_dataset2 = torch.utils.data.random_split(dataset2, [train_size, val_size])\n",
    "train_dataloader2 = DataLoader(train_dataset2, batch_size=32, shuffle=True, collate_fn=dataset2.collate_fn)\n",
    "val_dataloader2 = DataLoader(val_dataset2, batch_size=16, shuffle=True, collate_fn=dataset2.collate_fn)"
   ]
  },
  {
   "cell_type": "code",
   "execution_count": 88,
   "metadata": {},
   "outputs": [],
   "source": [
    "sentiment_analysis_wo_elmo = SentimentAnalysis_WithoutELMo(300, 2, word_vocab).to(device)\n",
    "optimizer = torch.optim.Adam(sentiment_analysis_wo_elmo.parameters(), lr=0.0005)\n",
    "criterion = nn.CrossEntropyLoss()"
   ]
  },
  {
   "cell_type": "code",
   "execution_count": 89,
   "metadata": {},
   "outputs": [
    {
     "data": {
      "application/vnd.jupyter.widget-view+json": {
       "model_id": "8e9a77d13ca847439d602b99d3699d8c",
       "version_major": 2,
       "version_minor": 0
      },
      "text/plain": [
       "VBox(children=(Label(value='Waiting for wandb.init()...\\r'), FloatProgress(value=0.011112983876632319, max=1.0…"
      ]
     },
     "metadata": {},
     "output_type": "display_data"
    },
    {
     "data": {
      "text/html": [
       "wandb version 0.16.6 is available!  To upgrade, please run:\n",
       " $ pip install wandb --upgrade"
      ],
      "text/plain": [
       "<IPython.core.display.HTML object>"
      ]
     },
     "metadata": {},
     "output_type": "display_data"
    },
    {
     "data": {
      "text/html": [
       "Tracking run with wandb version 0.16.0"
      ],
      "text/plain": [
       "<IPython.core.display.HTML object>"
      ]
     },
     "metadata": {},
     "output_type": "display_data"
    },
    {
     "data": {
      "text/html": [
       "Run data is saved locally in <code>/home2/sanika/inlp/INLP-Project-ELMo/Sentiment_Analysis/wandb/run-20240424_232703-cbrhir3z</code>"
      ],
      "text/plain": [
       "<IPython.core.display.HTML object>"
      ]
     },
     "metadata": {},
     "output_type": "display_data"
    },
    {
     "data": {
      "text/html": [
       "Syncing run <strong><a href='https://wandb.ai/project-ai-scream/INLP-Project-ELMo/runs/cbrhir3z' target=\"_blank\">Marathi without ELMo</a></strong> to <a href='https://wandb.ai/project-ai-scream/INLP-Project-ELMo' target=\"_blank\">Weights & Biases</a> (<a href='https://wandb.me/run' target=\"_blank\">docs</a>)<br/>"
      ],
      "text/plain": [
       "<IPython.core.display.HTML object>"
      ]
     },
     "metadata": {},
     "output_type": "display_data"
    },
    {
     "data": {
      "text/html": [
       " View project at <a href='https://wandb.ai/project-ai-scream/INLP-Project-ELMo' target=\"_blank\">https://wandb.ai/project-ai-scream/INLP-Project-ELMo</a>"
      ],
      "text/plain": [
       "<IPython.core.display.HTML object>"
      ]
     },
     "metadata": {},
     "output_type": "display_data"
    },
    {
     "data": {
      "text/html": [
       " View run at <a href='https://wandb.ai/project-ai-scream/INLP-Project-ELMo/runs/cbrhir3z' target=\"_blank\">https://wandb.ai/project-ai-scream/INLP-Project-ELMo/runs/cbrhir3z</a>"
      ],
      "text/plain": [
       "<IPython.core.display.HTML object>"
      ]
     },
     "metadata": {},
     "output_type": "display_data"
    },
    {
     "name": "stderr",
     "output_type": "stream",
     "text": [
      "  0%|          | 0/60 [00:00<?, ?it/s]/home2/sanika/inlp/INLP-Project-ELMo/Sentiment_Analysis/sentiment_preprocessing.py:77: UserWarning: To copy construct from a tensor, it is recommended to use sourceTensor.clone().detach() or sourceTensor.clone().detach().requires_grad_(True), rather than torch.tensor(sourceTensor).\n",
      "  return torch.tensor([self.word_vocab.word_to_index(word) for word in self.data[idx]]), torch.tensor(self.labels[idx])\n",
      "100%|██████████| 60/60 [00:01<00:00, 45.45it/s]\n"
     ]
    },
    {
     "name": "stdout",
     "output_type": "stream",
     "text": [
      "Epoch 1\n",
      "Train Loss: 0.6840167939662933\n",
      "Train Accuracy: 0.5500261917234154\n",
      "Val Accuracy: 0.5794979079497908\n"
     ]
    },
    {
     "name": "stderr",
     "output_type": "stream",
     "text": [
      "100%|██████████| 60/60 [00:01<00:00, 52.51it/s]\n"
     ]
    },
    {
     "name": "stdout",
     "output_type": "stream",
     "text": [
      "Epoch 2\n",
      "Train Loss: 0.6005390425523122\n",
      "Train Accuracy: 0.6820324777370351\n",
      "Val Accuracy: 0.6652719665271967\n"
     ]
    },
    {
     "name": "stderr",
     "output_type": "stream",
     "text": [
      "100%|██████████| 60/60 [00:01<00:00, 53.55it/s]\n"
     ]
    },
    {
     "name": "stdout",
     "output_type": "stream",
     "text": [
      "Epoch 3\n",
      "Train Loss: 0.46662328218420346\n",
      "Train Accuracy: 0.7925615505500262\n",
      "Val Accuracy: 0.6317991631799164\n"
     ]
    },
    {
     "name": "stderr",
     "output_type": "stream",
     "text": [
      "100%|██████████| 60/60 [00:01<00:00, 50.38it/s]\n"
     ]
    },
    {
     "name": "stdout",
     "output_type": "stream",
     "text": [
      "Epoch 4\n",
      "Train Loss: 0.32939918811122576\n",
      "Train Accuracy: 0.8653745416448402\n",
      "Val Accuracy: 0.6841004184100419\n"
     ]
    },
    {
     "name": "stderr",
     "output_type": "stream",
     "text": [
      "100%|██████████| 60/60 [00:01<00:00, 50.71it/s]\n"
     ]
    },
    {
     "name": "stdout",
     "output_type": "stream",
     "text": [
      "Epoch 5\n",
      "Train Loss: 0.19817009239147107\n",
      "Train Accuracy: 0.9245678365636459\n",
      "Val Accuracy: 0.694560669456067\n"
     ]
    },
    {
     "name": "stderr",
     "output_type": "stream",
     "text": [
      "wandb: WARNING Source type is set to 'repo' but some required information is missing from the environment. A job will not be created from this run. See https://docs.wandb.ai/guides/launch/create-job\n"
     ]
    },
    {
     "data": {
      "application/vnd.jupyter.widget-view+json": {
       "model_id": "8c1c0691d7404cbfa60013fee5637914",
       "version_major": 2,
       "version_minor": 0
      },
      "text/plain": [
       "VBox(children=(Label(value='0.005 MB of 0.005 MB uploaded\\r'), FloatProgress(value=1.0, max=1.0)))"
      ]
     },
     "metadata": {},
     "output_type": "display_data"
    },
    {
     "data": {
      "text/html": [
       "<style>\n",
       "    table.wandb td:nth-child(1) { padding: 0 10px; text-align: left ; width: auto;} td:nth-child(2) {text-align: left ; width: 100%}\n",
       "    .wandb-row { display: flex; flex-direction: row; flex-wrap: wrap; justify-content: flex-start; width: 100% }\n",
       "    .wandb-col { display: flex; flex-direction: column; flex-basis: 100%; flex: 1; padding: 10px; }\n",
       "    </style>\n",
       "<div class=\"wandb-row\"><div class=\"wandb-col\"><h3>Run history:</h3><br/><table class=\"wandb\"><tr><td>Train Accuracy</td><td>▁▃▆▇█</td></tr><tr><td>Train Loss</td><td>█▇▅▃▁</td></tr><tr><td>Val Accuracy</td><td>▁▆▄▇█</td></tr></table><br/></div><div class=\"wandb-col\"><h3>Run summary:</h3><br/><table class=\"wandb\"><tr><td>Train Accuracy</td><td>0.92457</td></tr><tr><td>Train Loss</td><td>0.19817</td></tr><tr><td>Val Accuracy</td><td>0.69456</td></tr></table><br/></div></div>"
      ],
      "text/plain": [
       "<IPython.core.display.HTML object>"
      ]
     },
     "metadata": {},
     "output_type": "display_data"
    },
    {
     "data": {
      "text/html": [
       " View run <strong style=\"color:#cdcd00\">Marathi without ELMo</strong> at: <a href='https://wandb.ai/project-ai-scream/INLP-Project-ELMo/runs/cbrhir3z' target=\"_blank\">https://wandb.ai/project-ai-scream/INLP-Project-ELMo/runs/cbrhir3z</a><br/>Synced 6 W&B file(s), 0 media file(s), 0 artifact file(s) and 0 other file(s)"
      ],
      "text/plain": [
       "<IPython.core.display.HTML object>"
      ]
     },
     "metadata": {},
     "output_type": "display_data"
    },
    {
     "data": {
      "text/html": [
       "Find logs at: <code>./wandb/run-20240424_232703-cbrhir3z/logs</code>"
      ],
      "text/plain": [
       "<IPython.core.display.HTML object>"
      ]
     },
     "metadata": {},
     "output_type": "display_data"
    }
   ],
   "source": [
    "config = {'model': 'No ELMo', 'language': 'Marathi', 'epochs': 5, 'batch_size': 32, 'lr': 0.0005}\n",
    "wandb.init(project='INLP-Project-ELMo', group='Sentiment Analysis', name='Marathi without ELMo', config=config)\n",
    "\n",
    "wandb.watch(sentiment_analysis_wo_elmo)\n",
    "train_sentiment(sentiment_analysis_wo_elmo, train_dataloader2, val_dataloader2, optimizer, criterion, 5)  \n",
    "# end wandb run\n",
    "wandb.join()"
   ]
  }
 ],
 "metadata": {
  "kernelspec": {
   "display_name": "smai",
   "language": "python",
   "name": "python3"
  },
  "language_info": {
   "codemirror_mode": {
    "name": "ipython",
    "version": 3
   },
   "file_extension": ".py",
   "mimetype": "text/x-python",
   "name": "python",
   "nbconvert_exporter": "python",
   "pygments_lexer": "ipython3",
   "version": "3.7.16"
  }
 },
 "nbformat": 4,
 "nbformat_minor": 2
}
