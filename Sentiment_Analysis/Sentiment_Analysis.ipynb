{
 "cells": [
  {
   "cell_type": "code",
   "execution_count": 14,
   "metadata": {},
   "outputs": [],
   "source": [
    "import torch\n",
    "import torch.nn as nn\n",
    "from sentiment_preprocessing import SentimentAnalysisDataset\n",
    "from torch.utils.data import DataLoader\n",
    "from tqdm import tqdm\n",
    "import sys\n",
    "sys.path.append('..')\n",
    "from ELMO import ELMo"
   ]
  },
  {
   "cell_type": "code",
   "execution_count": 4,
   "metadata": {},
   "outputs": [
    {
     "data": {
      "text/plain": [
       "device(type='cuda')"
      ]
     },
     "execution_count": 4,
     "metadata": {},
     "output_type": "execute_result"
    }
   ],
   "source": [
    "device = torch.device('cuda' if torch.cuda.is_available() else 'cpu')\n",
    "device"
   ]
  },
  {
   "cell_type": "code",
   "execution_count": 5,
   "metadata": {},
   "outputs": [],
   "source": [
    "path = 'Marathi_Semantic/pos_train.txt'\n",
    "with open (path, \"r\", encoding='utf-8') as f:\n",
    "    pos_train = f.readlines()\n",
    "path = 'Marathi_Semantic/neg_train.txt'\n",
    "with open (path, \"r\", encoding='utf-8') as f:\n",
    "    neg_train = f.readlines()"
   ]
  },
  {
   "cell_type": "code",
   "execution_count": 6,
   "metadata": {},
   "outputs": [],
   "source": [
    "# make a tensor of labels\n",
    "y_pos = torch.ones(len(pos_train), dtype=torch.long)\n",
    "y_neg = torch.zeros(len(neg_train), dtype=torch.long)\n",
    "labels = torch.cat((y_pos, y_neg), dim=0)"
   ]
  },
  {
   "cell_type": "code",
   "execution_count": 7,
   "metadata": {},
   "outputs": [],
   "source": [
    "data = pos_train + neg_train"
   ]
  },
  {
   "cell_type": "code",
   "execution_count": 8,
   "metadata": {},
   "outputs": [],
   "source": [
    "char_vocab = torch.load('../ELMo/char_vocab_marathi.pt')\n",
    "word_vocab = torch.load('../ELMo/word_vocab_marathi.pt')"
   ]
  },
  {
   "cell_type": "code",
   "execution_count": 9,
   "metadata": {},
   "outputs": [],
   "source": [
    "elmo = ELMo(cnn_config = {'character_embedding_size': 16, \n",
    "                           'num_filters': 32, \n",
    "                           'kernel_size': 5, \n",
    "                           'max_word_length': 10, \n",
    "                           'char_vocab_size': char_vocab.num_chars}, \n",
    "             elmo_config = {'num_layers': 3,\n",
    "                            'word_embedding_dim': 150,\n",
    "                            'vocab_size': word_vocab.num_words}, \n",
    "             char_vocab_size = char_vocab.num_chars).to(device)"
   ]
  },
  {
   "cell_type": "code",
   "execution_count": 10,
   "metadata": {},
   "outputs": [
    {
     "data": {
      "text/plain": [
       "<All keys matched successfully>"
      ]
     },
     "execution_count": 10,
     "metadata": {},
     "output_type": "execute_result"
    }
   ],
   "source": [
    "# load model\n",
    "elmo.load_state_dict(torch.load('../ELMo/elmo_epoch_3.pt'))"
   ]
  },
  {
   "cell_type": "code",
   "execution_count": 11,
   "metadata": {},
   "outputs": [],
   "source": [
    "dataset = SentimentAnalysisDataset(data[:2], labels, word_vocab, char_vocab)\n",
    "# split into train and val\n",
    "train_size = int(0.8 * len(dataset))\n",
    "val_size = len(dataset) - train_size\n",
    "train_dataset, val_dataset = torch.utils.data.random_split(dataset, [train_size, val_size])\n",
    "train_dataloader = DataLoader(dataset, batch_size=32, shuffle=True, collate_fn=dataset.collate_fn)\n",
    "val_dataloader = DataLoader(val_dataset, batch_size=32, shuffle=False)"
   ]
  },
  {
   "cell_type": "code",
   "execution_count": 12,
   "metadata": {},
   "outputs": [],
   "source": [
    "class SentimentAnalysis(nn.Module):\n",
    "    def __init__(self, elmo, embedding_dim, num_classes):\n",
    "        super(SentimentAnalysis, self).__init__()\n",
    "        self.elmo = elmo\n",
    "        self.lambdas = nn.Parameter(torch.randn(3))\n",
    "        self.lstm = nn.LSTM(embedding_dim, embedding_dim, batch_first=True, bidirectional=True, num_layers=2)\n",
    "        self.fc = nn.Linear(embedding_dim, embedding_dim//2)\n",
    "        self.fc2 = nn.Linear(embedding_dim//2, num_classes)\n",
    "        self.relu = nn.ReLU()\n",
    "\n",
    "        for param in self.elmo.parameters():\n",
    "            param.requires_grad = False\n",
    "\n",
    "    def forward(self, x):\n",
    "        forward_output, backward_output, final_embeddings = self.elmo(x)\n",
    "        encoding = torch.zeros_like(final_embeddings[0])\n",
    "        for i in range(3):\n",
    "            encoding += self.lambdas[i] * final_embeddings[i]\n",
    "        output, (hidden, cell) = self.lstm(encoding)\n",
    "        final_output = torch.cat((hidden[-2,:,:], hidden[-1,:,:]), dim=1)\n",
    "        output = self.fc(final_output)\n",
    "        output = self.relu(output)\n",
    "        output = self.fc2(output)\n",
    "        return output"
   ]
  },
  {
   "cell_type": "code",
   "execution_count": 13,
   "metadata": {},
   "outputs": [],
   "source": [
    "sentiment_analysis = SentimentAnalysis(elmo, 300, 2).to(device)\n",
    "optimizer = torch.optim.Adam(sentiment_analysis.parameters(), lr=0.001)\n",
    "criterion = nn.CrossEntropyLoss()"
   ]
  },
  {
   "cell_type": "code",
   "execution_count": null,
   "metadata": {},
   "outputs": [],
   "source": [
    "def train_sentiment(model, train_loader, val_loader, optimizer, criterion, epochs):\n",
    "    model.train()\n",
    "    model.to(device)\n",
    "    for epoch in range(epochs):\n",
    "        total_loss = 0\n",
    "        predictions = []\n",
    "        targets = []\n",
    "        for batch in tqdm(train_dataloader)\n",
    "    "
   ]
  }
 ],
 "metadata": {
  "kernelspec": {
   "display_name": "smai",
   "language": "python",
   "name": "python3"
  },
  "language_info": {
   "codemirror_mode": {
    "name": "ipython",
    "version": 3
   },
   "file_extension": ".py",
   "mimetype": "text/x-python",
   "name": "python",
   "nbconvert_exporter": "python",
   "pygments_lexer": "ipython3",
   "version": "3.7.16"
  }
 },
 "nbformat": 4,
 "nbformat_minor": 2
}
