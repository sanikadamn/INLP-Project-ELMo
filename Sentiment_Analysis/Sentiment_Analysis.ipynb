{
 "cells": [
  {
   "cell_type": "code",
   "execution_count": 22,
   "metadata": {},
   "outputs": [],
   "source": [
    "import torch\n",
    "import torch.nn as nn\n",
    "from sentiment_preprocessing import SentimentAnalysisDataset, EmbeddingDataset\n",
    "from torch.utils.data import DataLoader, Dataset\n",
    "from tqdm import tqdm\n",
    "torch.random.manual_seed(13)\n",
    "from sklearn.metrics import accuracy_score, f1_score, precision_score, recall_score\n",
    "import sys\n",
    "sys.path.append('..')\n",
    "from ELMO import ELMo\n",
    "from sentiment_models import SentimentAnalysis, SentimentAnalysis_WithoutELMo\n",
    "import wandb\n",
    "import pandas as pd"
   ]
  },
  {
   "cell_type": "code",
   "execution_count": 23,
   "metadata": {},
   "outputs": [
    {
     "data": {
      "text/plain": [
       "device(type='cuda')"
      ]
     },
     "execution_count": 23,
     "metadata": {},
     "output_type": "execute_result"
    }
   ],
   "source": [
    "device = torch.device('cuda' if torch.cuda.is_available() else 'cpu')\n",
    "device"
   ]
  },
  {
   "cell_type": "code",
   "execution_count": 29,
   "metadata": {},
   "outputs": [],
   "source": [
    "data = pd.read_csv('dataset/tamil_tweets.csv', encoding='utf-8')"
   ]
  },
  {
   "cell_type": "code",
   "execution_count": 30,
   "metadata": {},
   "outputs": [],
   "source": [
    "# randomly split into train and val\n",
    "train = data.sample(frac=0.8, random_state=13)\n",
    "val = data.drop(train.index)"
   ]
  },
  {
   "cell_type": "code",
   "execution_count": 3,
   "metadata": {},
   "outputs": [],
   "source": [
    "train = pd.read_csv('dataset/marathi_train_tweets.csv')\n",
    "val = pd.read_csv('dataset/marathi_valid_tweets.csv')"
   ]
  },
  {
   "cell_type": "code",
   "execution_count": 31,
   "metadata": {},
   "outputs": [],
   "source": [
    "train = train.dropna()\n",
    "val = val.dropna()"
   ]
  },
  {
   "cell_type": "code",
   "execution_count": 33,
   "metadata": {},
   "outputs": [],
   "source": [
    "# for marathi dataset\n",
    "train_data = train.iloc[:, 0].values\n",
    "train_labels = train.iloc[:, 1].values\n",
    "val_data = val.iloc[:, 0].values\n",
    "val_labels = val.iloc[:, 1].values"
   ]
  },
  {
   "cell_type": "code",
   "execution_count": 34,
   "metadata": {},
   "outputs": [],
   "source": [
    "label_map = {label: i for i, label in enumerate(set(train_labels))}\n",
    "train_labels = [label_map[label] for label in train_labels]\n",
    "val_labels = [label_map[label] for label in val_labels]"
   ]
  },
  {
   "cell_type": "code",
   "execution_count": 3,
   "metadata": {},
   "outputs": [],
   "source": [
    "path = 'dataset/hindi_pos_train_movies.txt'\n",
    "with open (path, \"r\", encoding='utf-8') as f:\n",
    "    pos_train = f.readlines()\n",
    "path = 'dataset/hindi_neg_train_movies.txt' \n",
    "with open (path, \"r\", encoding='utf-8') as f:\n",
    "    neg_train = f.readlines()\n",
    "\n",
    "# make a tensor of labels\n",
    "y_pos = torch.ones(len(pos_train), dtype=torch.long)\n",
    "y_neg = torch.zeros(len(neg_train), dtype=torch.long)\n",
    "labels = torch.cat((y_pos, y_neg), dim=0)\n",
    "\n",
    "data = pos_train + neg_train"
   ]
  },
  {
   "cell_type": "code",
   "execution_count": 35,
   "metadata": {},
   "outputs": [],
   "source": [
    "char_vocab = torch.load('../ELMo/char_vocab_tamil.pt')\n",
    "word_vocab = torch.load('../ELMo/word_vocab_tamil.pt')"
   ]
  },
  {
   "cell_type": "code",
   "execution_count": 36,
   "metadata": {},
   "outputs": [],
   "source": [
    "elmo = ELMo(cnn_config = {'character_embedding_size': 16, \n",
    "                           'num_filters': 32, \n",
    "                           'kernel_size': 5, \n",
    "                           'max_word_length': 10, \n",
    "                           'char_vocab_size': char_vocab.num_chars}, \n",
    "             elmo_config = {'num_layers': 3,\n",
    "                            'word_embedding_dim': 150,\n",
    "                            'vocab_size': word_vocab.num_words}, \n",
    "             char_vocab_size = char_vocab.num_chars).to(device)"
   ]
  },
  {
   "cell_type": "code",
   "execution_count": 37,
   "metadata": {},
   "outputs": [
    {
     "data": {
      "text/plain": [
       "<All keys matched successfully>"
      ]
     },
     "execution_count": 37,
     "metadata": {},
     "output_type": "execute_result"
    }
   ],
   "source": [
    "# load model\n",
    "elmo.load_state_dict(torch.load('../ELMo/elmo_tamil.pt'))"
   ]
  },
  {
   "cell_type": "code",
   "execution_count": 38,
   "metadata": {},
   "outputs": [
    {
     "data": {
      "text/plain": [
       "2"
      ]
     },
     "execution_count": 38,
     "metadata": {},
     "output_type": "execute_result"
    }
   ],
   "source": [
    "num_classes = len(set(train_labels))\n",
    "num_classes"
   ]
  },
  {
   "cell_type": "code",
   "execution_count": 39,
   "metadata": {},
   "outputs": [],
   "source": [
    "def train_sentiment(model, train_loader, val_loader, optimizer, criterion, epochs):\n",
    "    model.train()\n",
    "    model.to(device)\n",
    "    for epoch in range(epochs):\n",
    "        model.train()\n",
    "        total_loss = 0\n",
    "        predictions = []\n",
    "        targets = []\n",
    "        predictions_val = []\n",
    "        targets_val = []\n",
    "        loss_val = 0\n",
    "        for batch in tqdm(train_loader):\n",
    "            optimizer.zero_grad()\n",
    "            sentences, labels = batch\n",
    "            sentences = sentences.to(device)\n",
    "            labels = labels.to(device)\n",
    "            output = model(sentences)\n",
    "            onehot_labels = torch.nn.functional.one_hot(labels, num_classes=num_classes).float()\n",
    "            loss = criterion(output, onehot_labels)\n",
    "            loss.backward()\n",
    "            optimizer.step()   \n",
    "            total_loss += loss.item()\n",
    "            predictions.extend(torch.argmax(output, dim=1).tolist())\n",
    "            targets.extend(labels.tolist())\n",
    "        model.eval()\n",
    "        with torch.no_grad():\n",
    "            for batch in val_loader:\n",
    "                sentences, labels = batch\n",
    "                sentences = sentences.to(device)\n",
    "                labels = labels.to(device)\n",
    "                output = model(sentences)\n",
    "                onehot_labels = torch.nn.functional.one_hot(labels, num_classes=num_classes).float()\n",
    "                loss = criterion(output, onehot_labels)\n",
    "                predictions_val.extend(torch.argmax(output, dim=1).tolist())\n",
    "                targets_val.extend(labels.tolist())\n",
    "                loss_val += loss.item()\n",
    "\n",
    "        wandb.log({\"Train Loss\": total_loss/len(train_loader), \n",
    "                   \"Train Accuracy\": torch.sum(torch.tensor(predictions) == torch.tensor(targets)).item()/len(targets), \n",
    "                   \"Val Accuracy\": torch.sum(torch.tensor(predictions_val) == torch.tensor(targets_val)).item()/len(targets_val),\n",
    "                   \"Val Loss\": loss_val/len(val_loader),\n",
    "                   \"Val F1\": f1_score(targets_val, predictions_val, average='macro', zero_division=0),\n",
    "                   \"Val Precision\": precision_score(targets_val, predictions_val, average='macro', zero_division=0),\n",
    "                   \"Val Recall\": recall_score(targets_val, predictions_val, average='macro', zero_division=0)                     \n",
    "                   })\n",
    "        # print(f\"Epoch {epoch+1}\")\n",
    "        # print(f\"Train Loss: {total_loss/len(train_loader)}\")\n",
    "        # print(f\"Train Accuracy: {torch.sum(torch.tensor(predictions) == torch.tensor(targets)).item()/len(targets)}\")  \n",
    "        # print(f\"Val Accuracy: {torch.sum(torch.tensor(predictions_val) == torch.tensor(targets_val)).item()/len(targets_val)}\")\n"
   ]
  },
  {
   "cell_type": "code",
   "execution_count": null,
   "metadata": {},
   "outputs": [],
   "source": [
    "# dataset = SentimentAnalysisDataset(data, labels, word_vocab, char_vocab)\n",
    "# # split into train and val\n",
    "# train_size = int(0.8 * len(dataset))\n",
    "# val_size = len(dataset) - train_size\n",
    "# train_dataset, val_dataset = torch.utils.data.random_split(dataset, [train_size, val_size])"
   ]
  },
  {
   "cell_type": "code",
   "execution_count": 45,
   "metadata": {},
   "outputs": [],
   "source": [
    "configs = [\n",
    "    {'model': 'ELMo', 'language': 'Tamil', 'dataset': 'Tweets', 'num_classes': num_classes, 'epochs': 15, 'batch_size': 32, 'lr': 0.00005},\n",
    "    # {'model': 'ELMo', 'language': 'Tamil', 'dataset': 'Tweets', 'num_classes': num_classes, 'epochs': 15, 'batch_size': 64, 'lr': 0.0001},\n",
    "    {'model': 'ELMo', 'language': 'Tamil', 'dataset': 'Tweets', 'num_classes': num_classes, 'epochs': 15, 'batch_size': 64, 'lr': 0.00005},\n",
    "    # {'model': 'ELMo', 'language': 'Tamil', 'dataset': 'Tweets', 'num_classes': num_classes, 'epochs': 15, 'batch_size': 32, 'lr': 0.0001},\n",
    "]"
   ]
  },
  {
   "cell_type": "code",
   "execution_count": 46,
   "metadata": {},
   "outputs": [
    {
     "data": {
      "application/vnd.jupyter.widget-view+json": {
       "model_id": "02f289573cc14c37ba5087544f922d51",
       "version_major": 2,
       "version_minor": 0
      },
      "text/plain": [
       "VBox(children=(Label(value='Waiting for wandb.init()...\\r'), FloatProgress(value=0.011113573266710672, max=1.0…"
      ]
     },
     "metadata": {},
     "output_type": "display_data"
    },
    {
     "data": {
      "text/html": [
       "wandb version 0.17.0 is available!  To upgrade, please run:\n",
       " $ pip install wandb --upgrade"
      ],
      "text/plain": [
       "<IPython.core.display.HTML object>"
      ]
     },
     "metadata": {},
     "output_type": "display_data"
    },
    {
     "data": {
      "text/html": [
       "Tracking run with wandb version 0.16.0"
      ],
      "text/plain": [
       "<IPython.core.display.HTML object>"
      ]
     },
     "metadata": {},
     "output_type": "display_data"
    },
    {
     "data": {
      "text/html": [
       "Run data is saved locally in <code>/home2/sanika/inlp/INLP-Project-ELMo/Sentiment_Analysis/wandb/run-20240508_042221-ygkjxzm7</code>"
      ],
      "text/plain": [
       "<IPython.core.display.HTML object>"
      ]
     },
     "metadata": {},
     "output_type": "display_data"
    },
    {
     "data": {
      "text/html": [
       "Syncing run <strong><a href='https://wandb.ai/project-ai-scream/INLP-Project-ELMo/runs/ygkjxzm7' target=\"_blank\">Tamil with ELMo</a></strong> to <a href='https://wandb.ai/project-ai-scream/INLP-Project-ELMo' target=\"_blank\">Weights & Biases</a> (<a href='https://wandb.me/run' target=\"_blank\">docs</a>)<br/>"
      ],
      "text/plain": [
       "<IPython.core.display.HTML object>"
      ]
     },
     "metadata": {},
     "output_type": "display_data"
    },
    {
     "data": {
      "text/html": [
       " View project at <a href='https://wandb.ai/project-ai-scream/INLP-Project-ELMo' target=\"_blank\">https://wandb.ai/project-ai-scream/INLP-Project-ELMo</a>"
      ],
      "text/plain": [
       "<IPython.core.display.HTML object>"
      ]
     },
     "metadata": {},
     "output_type": "display_data"
    },
    {
     "data": {
      "text/html": [
       " View run at <a href='https://wandb.ai/project-ai-scream/INLP-Project-ELMo/runs/ygkjxzm7' target=\"_blank\">https://wandb.ai/project-ai-scream/INLP-Project-ELMo/runs/ygkjxzm7</a>"
      ],
      "text/plain": [
       "<IPython.core.display.HTML object>"
      ]
     },
     "metadata": {},
     "output_type": "display_data"
    },
    {
     "name": "stderr",
     "output_type": "stream",
     "text": [
      "100%|██████████| 26/26 [00:01<00:00, 20.88it/s]\n",
      "100%|██████████| 26/26 [00:01<00:00, 23.21it/s]\n",
      "100%|██████████| 26/26 [00:01<00:00, 23.12it/s]\n",
      "100%|██████████| 26/26 [00:01<00:00, 23.13it/s]\n",
      "100%|██████████| 26/26 [00:01<00:00, 22.94it/s]\n",
      "100%|██████████| 26/26 [00:01<00:00, 21.78it/s]\n",
      "100%|██████████| 26/26 [00:01<00:00, 24.12it/s]\n",
      "100%|██████████| 26/26 [00:01<00:00, 22.96it/s]\n",
      "100%|██████████| 26/26 [00:01<00:00, 23.00it/s]\n",
      "100%|██████████| 26/26 [00:01<00:00, 22.18it/s]\n",
      "100%|██████████| 26/26 [00:01<00:00, 20.40it/s]\n",
      "100%|██████████| 26/26 [00:01<00:00, 22.88it/s]\n",
      "100%|██████████| 26/26 [00:01<00:00, 22.76it/s]\n",
      "100%|██████████| 26/26 [00:01<00:00, 19.13it/s]\n",
      "100%|██████████| 26/26 [00:01<00:00, 23.17it/s]\n",
      "wandb: WARNING Source type is set to 'repo' but some required information is missing from the environment. A job will not be created from this run. See https://docs.wandb.ai/guides/launch/create-job\n"
     ]
    },
    {
     "data": {
      "application/vnd.jupyter.widget-view+json": {
       "model_id": "e8c8d06ee4ff46a39863eb0fdaba9cbd",
       "version_major": 2,
       "version_minor": 0
      },
      "text/plain": [
       "VBox(children=(Label(value='0.005 MB of 0.012 MB uploaded\\r'), FloatProgress(value=0.4567343249239872, max=1.0…"
      ]
     },
     "metadata": {},
     "output_type": "display_data"
    },
    {
     "data": {
      "text/html": [
       "<style>\n",
       "    table.wandb td:nth-child(1) { padding: 0 10px; text-align: left ; width: auto;} td:nth-child(2) {text-align: left ; width: 100%}\n",
       "    .wandb-row { display: flex; flex-direction: row; flex-wrap: wrap; justify-content: flex-start; width: 100% }\n",
       "    .wandb-col { display: flex; flex-direction: column; flex-basis: 100%; flex: 1; padding: 10px; }\n",
       "    </style>\n",
       "<div class=\"wandb-row\"><div class=\"wandb-col\"><h3>Run history:</h3><br/><table class=\"wandb\"><tr><td>Train Accuracy</td><td>▁▂▃▃▂▃▄▄▅▆▆▆▇██</td></tr><tr><td>Train Loss</td><td>████▇▇▇▆▆▅▄▄▃▂▁</td></tr><tr><td>Val Accuracy</td><td>▁▃▄▁▆▇▆▆▆▅▇▆▆▆█</td></tr><tr><td>Val F1</td><td>▁▃▄▁▆▇▇▆▆▄▇▆▆▆█</td></tr><tr><td>Val Loss</td><td>▅▅▄▄▂▂▂▂▄▁▄█▄▄▇</td></tr><tr><td>Val Precision</td><td>▁▃▁▂▅▇▆▅▇▃▇▇▅▅█</td></tr><tr><td>Val Recall</td><td>▁▃▁▁▅▇▆▆▆▃▇▆▅▅█</td></tr></table><br/></div><div class=\"wandb-col\"><h3>Run summary:</h3><br/><table class=\"wandb\"><tr><td>Train Accuracy</td><td>0.80443</td></tr><tr><td>Train Loss</td><td>0.42298</td></tr><tr><td>Val Accuracy</td><td>0.65347</td></tr><tr><td>Val F1</td><td>0.65179</td></tr><tr><td>Val Loss</td><td>0.70687</td></tr><tr><td>Val Precision</td><td>0.65235</td></tr><tr><td>Val Recall</td><td>0.65447</td></tr></table><br/></div></div>"
      ],
      "text/plain": [
       "<IPython.core.display.HTML object>"
      ]
     },
     "metadata": {},
     "output_type": "display_data"
    },
    {
     "data": {
      "text/html": [
       " View run <strong style=\"color:#cdcd00\">Tamil with ELMo</strong> at: <a href='https://wandb.ai/project-ai-scream/INLP-Project-ELMo/runs/ygkjxzm7' target=\"_blank\">https://wandb.ai/project-ai-scream/INLP-Project-ELMo/runs/ygkjxzm7</a><br/>Synced 6 W&B file(s), 0 media file(s), 0 artifact file(s) and 0 other file(s)"
      ],
      "text/plain": [
       "<IPython.core.display.HTML object>"
      ]
     },
     "metadata": {},
     "output_type": "display_data"
    },
    {
     "data": {
      "text/html": [
       "Find logs at: <code>./wandb/run-20240508_042221-ygkjxzm7/logs</code>"
      ],
      "text/plain": [
       "<IPython.core.display.HTML object>"
      ]
     },
     "metadata": {},
     "output_type": "display_data"
    },
    {
     "data": {
      "application/vnd.jupyter.widget-view+json": {
       "model_id": "630a86d8ae1048ee884195e6a29991f0",
       "version_major": 2,
       "version_minor": 0
      },
      "text/plain": [
       "VBox(children=(Label(value='Waiting for wandb.init()...\\r'), FloatProgress(value=0.011113828744419152, max=1.0…"
      ]
     },
     "metadata": {},
     "output_type": "display_data"
    },
    {
     "data": {
      "text/html": [
       "wandb version 0.17.0 is available!  To upgrade, please run:\n",
       " $ pip install wandb --upgrade"
      ],
      "text/plain": [
       "<IPython.core.display.HTML object>"
      ]
     },
     "metadata": {},
     "output_type": "display_data"
    },
    {
     "data": {
      "text/html": [
       "Tracking run with wandb version 0.16.0"
      ],
      "text/plain": [
       "<IPython.core.display.HTML object>"
      ]
     },
     "metadata": {},
     "output_type": "display_data"
    },
    {
     "data": {
      "text/html": [
       "Run data is saved locally in <code>/home2/sanika/inlp/INLP-Project-ELMo/Sentiment_Analysis/wandb/run-20240508_042255-tvj5qwt8</code>"
      ],
      "text/plain": [
       "<IPython.core.display.HTML object>"
      ]
     },
     "metadata": {},
     "output_type": "display_data"
    },
    {
     "data": {
      "text/html": [
       "Syncing run <strong><a href='https://wandb.ai/project-ai-scream/INLP-Project-ELMo/runs/tvj5qwt8' target=\"_blank\">Tamil with ELMo</a></strong> to <a href='https://wandb.ai/project-ai-scream/INLP-Project-ELMo' target=\"_blank\">Weights & Biases</a> (<a href='https://wandb.me/run' target=\"_blank\">docs</a>)<br/>"
      ],
      "text/plain": [
       "<IPython.core.display.HTML object>"
      ]
     },
     "metadata": {},
     "output_type": "display_data"
    },
    {
     "data": {
      "text/html": [
       " View project at <a href='https://wandb.ai/project-ai-scream/INLP-Project-ELMo' target=\"_blank\">https://wandb.ai/project-ai-scream/INLP-Project-ELMo</a>"
      ],
      "text/plain": [
       "<IPython.core.display.HTML object>"
      ]
     },
     "metadata": {},
     "output_type": "display_data"
    },
    {
     "data": {
      "text/html": [
       " View run at <a href='https://wandb.ai/project-ai-scream/INLP-Project-ELMo/runs/tvj5qwt8' target=\"_blank\">https://wandb.ai/project-ai-scream/INLP-Project-ELMo/runs/tvj5qwt8</a>"
      ],
      "text/plain": [
       "<IPython.core.display.HTML object>"
      ]
     },
     "metadata": {},
     "output_type": "display_data"
    },
    {
     "name": "stderr",
     "output_type": "stream",
     "text": [
      "100%|██████████| 13/13 [00:00<00:00, 15.70it/s]\n",
      "100%|██████████| 13/13 [00:00<00:00, 16.11it/s]\n",
      "100%|██████████| 13/13 [00:00<00:00, 15.26it/s]\n",
      "100%|██████████| 13/13 [00:00<00:00, 15.20it/s]\n",
      "100%|██████████| 13/13 [00:00<00:00, 16.13it/s]\n",
      "100%|██████████| 13/13 [00:00<00:00, 15.49it/s]\n",
      "100%|██████████| 13/13 [00:00<00:00, 13.88it/s]\n",
      "100%|██████████| 13/13 [00:00<00:00, 16.08it/s]\n",
      "100%|██████████| 13/13 [00:00<00:00, 16.37it/s]\n",
      "100%|██████████| 13/13 [00:00<00:00, 16.37it/s]\n",
      "100%|██████████| 13/13 [00:00<00:00, 16.33it/s]\n",
      "100%|██████████| 13/13 [00:00<00:00, 16.36it/s]\n",
      "100%|██████████| 13/13 [00:00<00:00, 16.39it/s]\n",
      "100%|██████████| 13/13 [00:00<00:00, 16.33it/s]\n",
      "100%|██████████| 13/13 [00:00<00:00, 14.49it/s]\n",
      "wandb: WARNING Source type is set to 'repo' but some required information is missing from the environment. A job will not be created from this run. See https://docs.wandb.ai/guides/launch/create-job\n"
     ]
    },
    {
     "data": {
      "application/vnd.jupyter.widget-view+json": {
       "model_id": "775148f220504504b5d1c9d2709c3a36",
       "version_major": 2,
       "version_minor": 0
      },
      "text/plain": [
       "VBox(children=(Label(value='0.005 MB of 0.012 MB uploaded\\r'), FloatProgress(value=0.4568540433925049, max=1.0…"
      ]
     },
     "metadata": {},
     "output_type": "display_data"
    },
    {
     "data": {
      "text/html": [
       "<style>\n",
       "    table.wandb td:nth-child(1) { padding: 0 10px; text-align: left ; width: auto;} td:nth-child(2) {text-align: left ; width: 100%}\n",
       "    .wandb-row { display: flex; flex-direction: row; flex-wrap: wrap; justify-content: flex-start; width: 100% }\n",
       "    .wandb-col { display: flex; flex-direction: column; flex-basis: 100%; flex: 1; padding: 10px; }\n",
       "    </style>\n",
       "<div class=\"wandb-row\"><div class=\"wandb-col\"><h3>Run history:</h3><br/><table class=\"wandb\"><tr><td>Train Accuracy</td><td>▁▃▄▅▅▅▅▆▆▇▇████</td></tr><tr><td>Train Loss</td><td>██▇▇▇▇▆▆▆▅▄▃▃▂▁</td></tr><tr><td>Val Accuracy</td><td>▂▁▅▆▅▆▆▇▇█▇▅█▅▇</td></tr><tr><td>Val F1</td><td>▂▁▆▆▆▆▆▇▇█▇▆█▄▆</td></tr><tr><td>Val Loss</td><td>█▇▇▆█▇▆▅▅▆▂▃▄▅▁</td></tr><tr><td>Val Precision</td><td>▁▁▅▅▄▄▅▆▆█▅▅█▃▅</td></tr><tr><td>Val Recall</td><td>▂▁▅▅▅▅▆▆▇█▆▅█▂▅</td></tr></table><br/></div><div class=\"wandb-col\"><h3>Run summary:</h3><br/><table class=\"wandb\"><tr><td>Train Accuracy</td><td>0.69619</td></tr><tr><td>Train Loss</td><td>0.57137</td></tr><tr><td>Val Accuracy</td><td>0.62376</td></tr><tr><td>Val F1</td><td>0.60125</td></tr><tr><td>Val Loss</td><td>0.62934</td></tr><tr><td>Val Precision</td><td>0.61752</td></tr><tr><td>Val Recall</td><td>0.60406</td></tr></table><br/></div></div>"
      ],
      "text/plain": [
       "<IPython.core.display.HTML object>"
      ]
     },
     "metadata": {},
     "output_type": "display_data"
    },
    {
     "data": {
      "text/html": [
       " View run <strong style=\"color:#cdcd00\">Tamil with ELMo</strong> at: <a href='https://wandb.ai/project-ai-scream/INLP-Project-ELMo/runs/tvj5qwt8' target=\"_blank\">https://wandb.ai/project-ai-scream/INLP-Project-ELMo/runs/tvj5qwt8</a><br/>Synced 6 W&B file(s), 0 media file(s), 0 artifact file(s) and 0 other file(s)"
      ],
      "text/plain": [
       "<IPython.core.display.HTML object>"
      ]
     },
     "metadata": {},
     "output_type": "display_data"
    },
    {
     "data": {
      "text/html": [
       "Find logs at: <code>./wandb/run-20240508_042255-tvj5qwt8/logs</code>"
      ],
      "text/plain": [
       "<IPython.core.display.HTML object>"
      ]
     },
     "metadata": {},
     "output_type": "display_data"
    }
   ],
   "source": [
    "for config in configs:\n",
    "    wandb.init(project='INLP-Project-ELMo', group=\"Sentiment Analysis\", name=\"Tamil with ELMo\", config=config)\n",
    "    train_dataset = SentimentAnalysisDataset(train_data, train_labels, word_vocab, char_vocab)\n",
    "    train_dataloader = DataLoader(train_dataset, batch_size=config['batch_size'], shuffle=True, collate_fn=train_dataset.collate_fn)\n",
    "    val_dataset = SentimentAnalysisDataset(val_data, val_labels, word_vocab, char_vocab)\n",
    "    val_dataloader = DataLoader(val_dataset, batch_size=config['batch_size'], shuffle=True, collate_fn=val_dataset.collate_fn)\n",
    "    sentiment_analysis = SentimentAnalysis(elmo, 300, num_classes)\n",
    "    wandb.watch(sentiment_analysis)\n",
    "\n",
    "    optimizer = torch.optim.Adam(sentiment_analysis.parameters(), lr=config['lr'])\n",
    "    criterion = nn.CrossEntropyLoss()\n",
    "    train_sentiment(sentiment_analysis, train_dataloader, val_dataloader, optimizer, criterion, config['epochs'])\n",
    "    wandb.join()"
   ]
  },
  {
   "cell_type": "code",
   "execution_count": 43,
   "metadata": {},
   "outputs": [],
   "source": [
    "configs = [\n",
    "    {'model': 'No ELMo', 'language': 'Tamil', 'dataset': 'Tweets', 'num_classes': num_classes, 'epochs': 15, 'batch_size': 32, 'lr': 0.0005},\n",
    "    {'model': 'No ELMo', 'language': 'Tamil', 'dataset': 'Tweets', 'num_classes': num_classes, 'epochs': 15, 'batch_size': 64, 'lr': 0.0001},\n",
    "    {'model': 'No ELMo', 'language': 'Tamil', 'dataset': 'Tweets', 'num_classes': num_classes, 'epochs': 15, 'batch_size': 64, 'lr': 0.0005},\n",
    "    {'model': 'No ELMo', 'language': 'Tamil', 'dataset': 'Tweets', 'num_classes': num_classes, 'epochs': 15, 'batch_size': 32, 'lr': 0.0001},\n",
    "]"
   ]
  },
  {
   "cell_type": "code",
   "execution_count": null,
   "metadata": {},
   "outputs": [],
   "source": [
    "dataset = EmbeddingDataset(data, labels, word_vocab)\n",
    "train_size = int(0.8 * len(dataset))\n",
    "val_size = len(dataset) - train_size\n",
    "train_dataset, val_dataset = torch.utils.data.random_split(dataset, [train_size, val_size])"
   ]
  },
  {
   "cell_type": "code",
   "execution_count": 44,
   "metadata": {},
   "outputs": [
    {
     "data": {
      "application/vnd.jupyter.widget-view+json": {
       "model_id": "b725dfe2796649aa98f3991ba995f5bf",
       "version_major": 2,
       "version_minor": 0
      },
      "text/plain": [
       "VBox(children=(Label(value='Waiting for wandb.init()...\\r'), FloatProgress(value=0.011112813277739204, max=1.0…"
      ]
     },
     "metadata": {},
     "output_type": "display_data"
    },
    {
     "data": {
      "text/html": [
       "wandb version 0.17.0 is available!  To upgrade, please run:\n",
       " $ pip install wandb --upgrade"
      ],
      "text/plain": [
       "<IPython.core.display.HTML object>"
      ]
     },
     "metadata": {},
     "output_type": "display_data"
    },
    {
     "data": {
      "text/html": [
       "Tracking run with wandb version 0.16.0"
      ],
      "text/plain": [
       "<IPython.core.display.HTML object>"
      ]
     },
     "metadata": {},
     "output_type": "display_data"
    },
    {
     "data": {
      "text/html": [
       "Run data is saved locally in <code>/home2/sanika/inlp/INLP-Project-ELMo/Sentiment_Analysis/wandb/run-20240508_042115-57os47yh</code>"
      ],
      "text/plain": [
       "<IPython.core.display.HTML object>"
      ]
     },
     "metadata": {},
     "output_type": "display_data"
    },
    {
     "data": {
      "text/html": [
       "Syncing run <strong><a href='https://wandb.ai/project-ai-scream/INLP-Project-ELMo/runs/57os47yh' target=\"_blank\">Tamil without ELMo</a></strong> to <a href='https://wandb.ai/project-ai-scream/INLP-Project-ELMo' target=\"_blank\">Weights & Biases</a> (<a href='https://wandb.me/run' target=\"_blank\">docs</a>)<br/>"
      ],
      "text/plain": [
       "<IPython.core.display.HTML object>"
      ]
     },
     "metadata": {},
     "output_type": "display_data"
    },
    {
     "data": {
      "text/html": [
       " View project at <a href='https://wandb.ai/project-ai-scream/INLP-Project-ELMo' target=\"_blank\">https://wandb.ai/project-ai-scream/INLP-Project-ELMo</a>"
      ],
      "text/plain": [
       "<IPython.core.display.HTML object>"
      ]
     },
     "metadata": {},
     "output_type": "display_data"
    },
    {
     "data": {
      "text/html": [
       " View run at <a href='https://wandb.ai/project-ai-scream/INLP-Project-ELMo/runs/57os47yh' target=\"_blank\">https://wandb.ai/project-ai-scream/INLP-Project-ELMo/runs/57os47yh</a>"
      ],
      "text/plain": [
       "<IPython.core.display.HTML object>"
      ]
     },
     "metadata": {},
     "output_type": "display_data"
    },
    {
     "name": "stderr",
     "output_type": "stream",
     "text": [
      "100%|██████████| 26/26 [00:00<00:00, 107.33it/s]\n",
      "100%|██████████| 26/26 [00:00<00:00, 112.20it/s]\n",
      "100%|██████████| 26/26 [00:00<00:00, 113.05it/s]\n",
      "100%|██████████| 26/26 [00:00<00:00, 112.88it/s]\n",
      "100%|██████████| 26/26 [00:00<00:00, 115.22it/s]\n",
      "100%|██████████| 26/26 [00:00<00:00, 96.60it/s]\n",
      "100%|██████████| 26/26 [00:00<00:00, 93.20it/s]\n",
      "100%|██████████| 26/26 [00:00<00:00, 92.72it/s]\n",
      "100%|██████████| 26/26 [00:00<00:00, 91.42it/s]\n",
      "100%|██████████| 26/26 [00:00<00:00, 92.38it/s]\n",
      "100%|██████████| 26/26 [00:00<00:00, 93.94it/s]\n",
      "100%|██████████| 26/26 [00:00<00:00, 99.82it/s] \n",
      "100%|██████████| 26/26 [00:00<00:00, 92.14it/s]\n",
      "100%|██████████| 26/26 [00:00<00:00, 89.37it/s]\n",
      "100%|██████████| 26/26 [00:00<00:00, 91.41it/s]\n",
      "wandb: WARNING Source type is set to 'repo' but some required information is missing from the environment. A job will not be created from this run. See https://docs.wandb.ai/guides/launch/create-job\n"
     ]
    },
    {
     "data": {
      "application/vnd.jupyter.widget-view+json": {
       "model_id": "fd1c7fcb497e4210a915e7a883d28d39",
       "version_major": 2,
       "version_minor": 0
      },
      "text/plain": [
       "VBox(children=(Label(value='0.005 MB of 0.005 MB uploaded\\r'), FloatProgress(value=1.0, max=1.0)))"
      ]
     },
     "metadata": {},
     "output_type": "display_data"
    },
    {
     "data": {
      "text/html": [
       "<style>\n",
       "    table.wandb td:nth-child(1) { padding: 0 10px; text-align: left ; width: auto;} td:nth-child(2) {text-align: left ; width: 100%}\n",
       "    .wandb-row { display: flex; flex-direction: row; flex-wrap: wrap; justify-content: flex-start; width: 100% }\n",
       "    .wandb-col { display: flex; flex-direction: column; flex-basis: 100%; flex: 1; padding: 10px; }\n",
       "    </style>\n",
       "<div class=\"wandb-row\"><div class=\"wandb-col\"><h3>Run history:</h3><br/><table class=\"wandb\"><tr><td>Train Accuracy</td><td>▁▂▁▂▂▂▂▃▄▅▆▆▇██</td></tr><tr><td>Train Loss</td><td>███████▇▇▅▄▄▂▁▁</td></tr><tr><td>Val Accuracy</td><td>▃▄▁▄▄▅▆▇▇▇▇█▇▆▇</td></tr><tr><td>Val F1</td><td>▃▃▁▄▅▃▅▆▇▆▇█▇▆▇</td></tr><tr><td>Val Loss</td><td>▇▇█▇▇▆▆▄▂▂▂▁▆▆█</td></tr><tr><td>Val Precision</td><td>▁▂▁▃▃▅▄▇▇▆▆█▇▅█</td></tr><tr><td>Val Recall</td><td>▂▂▁▃▃▃▄▅▇▆▆█▇▅█</td></tr></table><br/></div><div class=\"wandb-col\"><h3>Run summary:</h3><br/><table class=\"wandb\"><tr><td>Train Accuracy</td><td>0.78721</td></tr><tr><td>Train Loss</td><td>0.4537</td></tr><tr><td>Val Accuracy</td><td>0.64851</td></tr><tr><td>Val F1</td><td>0.6439</td></tr><tr><td>Val Loss</td><td>0.69983</td></tr><tr><td>Val Precision</td><td>0.69218</td></tr><tr><td>Val Recall</td><td>0.67152</td></tr></table><br/></div></div>"
      ],
      "text/plain": [
       "<IPython.core.display.HTML object>"
      ]
     },
     "metadata": {},
     "output_type": "display_data"
    },
    {
     "data": {
      "text/html": [
       " View run <strong style=\"color:#cdcd00\">Tamil without ELMo</strong> at: <a href='https://wandb.ai/project-ai-scream/INLP-Project-ELMo/runs/57os47yh' target=\"_blank\">https://wandb.ai/project-ai-scream/INLP-Project-ELMo/runs/57os47yh</a><br/>Synced 6 W&B file(s), 0 media file(s), 0 artifact file(s) and 0 other file(s)"
      ],
      "text/plain": [
       "<IPython.core.display.HTML object>"
      ]
     },
     "metadata": {},
     "output_type": "display_data"
    },
    {
     "data": {
      "text/html": [
       "Find logs at: <code>./wandb/run-20240508_042115-57os47yh/logs</code>"
      ],
      "text/plain": [
       "<IPython.core.display.HTML object>"
      ]
     },
     "metadata": {},
     "output_type": "display_data"
    },
    {
     "data": {
      "application/vnd.jupyter.widget-view+json": {
       "model_id": "2222312322654bf7b822044e00baf96b",
       "version_major": 2,
       "version_minor": 0
      },
      "text/plain": [
       "VBox(children=(Label(value='Waiting for wandb.init()...\\r'), FloatProgress(value=0.011113109977789767, max=1.0…"
      ]
     },
     "metadata": {},
     "output_type": "display_data"
    },
    {
     "data": {
      "text/html": [
       "wandb version 0.17.0 is available!  To upgrade, please run:\n",
       " $ pip install wandb --upgrade"
      ],
      "text/plain": [
       "<IPython.core.display.HTML object>"
      ]
     },
     "metadata": {},
     "output_type": "display_data"
    },
    {
     "data": {
      "text/html": [
       "Tracking run with wandb version 0.16.0"
      ],
      "text/plain": [
       "<IPython.core.display.HTML object>"
      ]
     },
     "metadata": {},
     "output_type": "display_data"
    },
    {
     "data": {
      "text/html": [
       "Run data is saved locally in <code>/home2/sanika/inlp/INLP-Project-ELMo/Sentiment_Analysis/wandb/run-20240508_042133-kpi9mbd0</code>"
      ],
      "text/plain": [
       "<IPython.core.display.HTML object>"
      ]
     },
     "metadata": {},
     "output_type": "display_data"
    },
    {
     "data": {
      "text/html": [
       "Syncing run <strong><a href='https://wandb.ai/project-ai-scream/INLP-Project-ELMo/runs/kpi9mbd0' target=\"_blank\">Tamil without ELMo</a></strong> to <a href='https://wandb.ai/project-ai-scream/INLP-Project-ELMo' target=\"_blank\">Weights & Biases</a> (<a href='https://wandb.me/run' target=\"_blank\">docs</a>)<br/>"
      ],
      "text/plain": [
       "<IPython.core.display.HTML object>"
      ]
     },
     "metadata": {},
     "output_type": "display_data"
    },
    {
     "data": {
      "text/html": [
       " View project at <a href='https://wandb.ai/project-ai-scream/INLP-Project-ELMo' target=\"_blank\">https://wandb.ai/project-ai-scream/INLP-Project-ELMo</a>"
      ],
      "text/plain": [
       "<IPython.core.display.HTML object>"
      ]
     },
     "metadata": {},
     "output_type": "display_data"
    },
    {
     "data": {
      "text/html": [
       " View run at <a href='https://wandb.ai/project-ai-scream/INLP-Project-ELMo/runs/kpi9mbd0' target=\"_blank\">https://wandb.ai/project-ai-scream/INLP-Project-ELMo/runs/kpi9mbd0</a>"
      ],
      "text/plain": [
       "<IPython.core.display.HTML object>"
      ]
     },
     "metadata": {},
     "output_type": "display_data"
    },
    {
     "name": "stderr",
     "output_type": "stream",
     "text": [
      "100%|██████████| 13/13 [00:00<00:00, 63.41it/s]\n",
      "100%|██████████| 13/13 [00:00<00:00, 64.08it/s]\n",
      "100%|██████████| 13/13 [00:00<00:00, 66.96it/s]\n",
      "100%|██████████| 13/13 [00:00<00:00, 68.29it/s]\n",
      "100%|██████████| 13/13 [00:00<00:00, 67.36it/s]\n",
      "100%|██████████| 13/13 [00:00<00:00, 68.46it/s]\n",
      "100%|██████████| 13/13 [00:00<00:00, 66.90it/s]\n",
      "100%|██████████| 13/13 [00:00<00:00, 67.37it/s]\n",
      "100%|██████████| 13/13 [00:00<00:00, 59.44it/s]\n",
      "100%|██████████| 13/13 [00:00<00:00, 64.58it/s]\n",
      "100%|██████████| 13/13 [00:00<00:00, 67.53it/s]\n",
      "100%|██████████| 13/13 [00:00<00:00, 66.57it/s]\n",
      "100%|██████████| 13/13 [00:00<00:00, 66.53it/s]\n",
      "100%|██████████| 13/13 [00:00<00:00, 66.91it/s]\n",
      "100%|██████████| 13/13 [00:00<00:00, 68.36it/s]\n",
      "wandb: WARNING Source type is set to 'repo' but some required information is missing from the environment. A job will not be created from this run. See https://docs.wandb.ai/guides/launch/create-job\n"
     ]
    },
    {
     "data": {
      "application/vnd.jupyter.widget-view+json": {
       "model_id": "c97149f9f19445ffa160f3254eac11ce",
       "version_major": 2,
       "version_minor": 0
      },
      "text/plain": [
       "VBox(children=(Label(value='0.005 MB of 0.012 MB uploaded\\r'), FloatProgress(value=0.4572744469117526, max=1.0…"
      ]
     },
     "metadata": {},
     "output_type": "display_data"
    },
    {
     "data": {
      "text/html": [
       "<style>\n",
       "    table.wandb td:nth-child(1) { padding: 0 10px; text-align: left ; width: auto;} td:nth-child(2) {text-align: left ; width: 100%}\n",
       "    .wandb-row { display: flex; flex-direction: row; flex-wrap: wrap; justify-content: flex-start; width: 100% }\n",
       "    .wandb-col { display: flex; flex-direction: column; flex-basis: 100%; flex: 1; padding: 10px; }\n",
       "    </style>\n",
       "<div class=\"wandb-row\"><div class=\"wandb-col\"><h3>Run history:</h3><br/><table class=\"wandb\"><tr><td>Train Accuracy</td><td>▁▃▅▆▃▇▃▄▅▇▅▆▄▆█</td></tr><tr><td>Train Loss</td><td>█▆▅▄▅▃▄▄▂▃▂▂▃▂▁</td></tr><tr><td>Val Accuracy</td><td>▂▆▅▄▁▄▅▇▄▆▆▇▆▄█</td></tr><tr><td>Val F1</td><td>▃▆▅▃▁▃▆▇▄▇▆█▅▃█</td></tr><tr><td>Val Loss</td><td>▆▇▆▆█▅▃▅▆▅▁▄▅▃▁</td></tr><tr><td>Val Precision</td><td>▂█▆▃▁▅▅▅▃▇▄▆▄▇▆</td></tr><tr><td>Val Recall</td><td>▃█▇▃▁▅▆▆▄▇▅▆▄▇▆</td></tr></table><br/></div><div class=\"wandb-col\"><h3>Run summary:</h3><br/><table class=\"wandb\"><tr><td>Train Accuracy</td><td>0.58426</td></tr><tr><td>Train Loss</td><td>0.67949</td></tr><tr><td>Val Accuracy</td><td>0.55941</td></tr><tr><td>Val F1</td><td>0.54878</td></tr><tr><td>Val Loss</td><td>0.67154</td></tr><tr><td>Val Precision</td><td>0.55</td></tr><tr><td>Val Recall</td><td>0.54892</td></tr></table><br/></div></div>"
      ],
      "text/plain": [
       "<IPython.core.display.HTML object>"
      ]
     },
     "metadata": {},
     "output_type": "display_data"
    },
    {
     "data": {
      "text/html": [
       " View run <strong style=\"color:#cdcd00\">Tamil without ELMo</strong> at: <a href='https://wandb.ai/project-ai-scream/INLP-Project-ELMo/runs/kpi9mbd0' target=\"_blank\">https://wandb.ai/project-ai-scream/INLP-Project-ELMo/runs/kpi9mbd0</a><br/>Synced 6 W&B file(s), 0 media file(s), 0 artifact file(s) and 0 other file(s)"
      ],
      "text/plain": [
       "<IPython.core.display.HTML object>"
      ]
     },
     "metadata": {},
     "output_type": "display_data"
    },
    {
     "data": {
      "text/html": [
       "Find logs at: <code>./wandb/run-20240508_042133-kpi9mbd0/logs</code>"
      ],
      "text/plain": [
       "<IPython.core.display.HTML object>"
      ]
     },
     "metadata": {},
     "output_type": "display_data"
    },
    {
     "data": {
      "application/vnd.jupyter.widget-view+json": {
       "model_id": "26b236f55e18426d9c6ff2467b922f50",
       "version_major": 2,
       "version_minor": 0
      },
      "text/plain": [
       "VBox(children=(Label(value='Waiting for wandb.init()...\\r'), FloatProgress(value=0.011113037944435038, max=1.0…"
      ]
     },
     "metadata": {},
     "output_type": "display_data"
    },
    {
     "data": {
      "text/html": [
       "wandb version 0.17.0 is available!  To upgrade, please run:\n",
       " $ pip install wandb --upgrade"
      ],
      "text/plain": [
       "<IPython.core.display.HTML object>"
      ]
     },
     "metadata": {},
     "output_type": "display_data"
    },
    {
     "data": {
      "text/html": [
       "Tracking run with wandb version 0.16.0"
      ],
      "text/plain": [
       "<IPython.core.display.HTML object>"
      ]
     },
     "metadata": {},
     "output_type": "display_data"
    },
    {
     "data": {
      "text/html": [
       "Run data is saved locally in <code>/home2/sanika/inlp/INLP-Project-ELMo/Sentiment_Analysis/wandb/run-20240508_042148-nwrnl1xf</code>"
      ],
      "text/plain": [
       "<IPython.core.display.HTML object>"
      ]
     },
     "metadata": {},
     "output_type": "display_data"
    },
    {
     "data": {
      "text/html": [
       "Syncing run <strong><a href='https://wandb.ai/project-ai-scream/INLP-Project-ELMo/runs/nwrnl1xf' target=\"_blank\">Tamil without ELMo</a></strong> to <a href='https://wandb.ai/project-ai-scream/INLP-Project-ELMo' target=\"_blank\">Weights & Biases</a> (<a href='https://wandb.me/run' target=\"_blank\">docs</a>)<br/>"
      ],
      "text/plain": [
       "<IPython.core.display.HTML object>"
      ]
     },
     "metadata": {},
     "output_type": "display_data"
    },
    {
     "data": {
      "text/html": [
       " View project at <a href='https://wandb.ai/project-ai-scream/INLP-Project-ELMo' target=\"_blank\">https://wandb.ai/project-ai-scream/INLP-Project-ELMo</a>"
      ],
      "text/plain": [
       "<IPython.core.display.HTML object>"
      ]
     },
     "metadata": {},
     "output_type": "display_data"
    },
    {
     "data": {
      "text/html": [
       " View run at <a href='https://wandb.ai/project-ai-scream/INLP-Project-ELMo/runs/nwrnl1xf' target=\"_blank\">https://wandb.ai/project-ai-scream/INLP-Project-ELMo/runs/nwrnl1xf</a>"
      ],
      "text/plain": [
       "<IPython.core.display.HTML object>"
      ]
     },
     "metadata": {},
     "output_type": "display_data"
    },
    {
     "name": "stderr",
     "output_type": "stream",
     "text": [
      "100%|██████████| 13/13 [00:00<00:00, 67.86it/s]\n",
      "100%|██████████| 13/13 [00:00<00:00, 74.23it/s]\n",
      "100%|██████████| 13/13 [00:00<00:00, 76.25it/s]\n",
      "100%|██████████| 13/13 [00:00<00:00, 77.94it/s]\n",
      "100%|██████████| 13/13 [00:00<00:00, 75.28it/s]\n",
      "100%|██████████| 13/13 [00:00<00:00, 77.54it/s]\n",
      "100%|██████████| 13/13 [00:00<00:00, 75.76it/s]\n",
      "100%|██████████| 13/13 [00:00<00:00, 76.77it/s]\n",
      "100%|██████████| 13/13 [00:00<00:00, 76.76it/s]\n",
      "100%|██████████| 13/13 [00:00<00:00, 67.72it/s]\n",
      "100%|██████████| 13/13 [00:00<00:00, 66.11it/s]\n",
      "100%|██████████| 13/13 [00:00<00:00, 66.81it/s]\n",
      "100%|██████████| 13/13 [00:00<00:00, 73.92it/s]\n",
      "100%|██████████| 13/13 [00:00<00:00, 68.26it/s]\n",
      "100%|██████████| 13/13 [00:00<00:00, 68.59it/s]\n",
      "wandb: WARNING Source type is set to 'repo' but some required information is missing from the environment. A job will not be created from this run. See https://docs.wandb.ai/guides/launch/create-job\n"
     ]
    },
    {
     "data": {
      "application/vnd.jupyter.widget-view+json": {
       "model_id": "cc98600651a1439e95100193a5f1851d",
       "version_major": 2,
       "version_minor": 0
      },
      "text/plain": [
       "VBox(children=(Label(value='0.005 MB of 0.005 MB uploaded\\r'), FloatProgress(value=1.0, max=1.0)))"
      ]
     },
     "metadata": {},
     "output_type": "display_data"
    },
    {
     "data": {
      "text/html": [
       "<style>\n",
       "    table.wandb td:nth-child(1) { padding: 0 10px; text-align: left ; width: auto;} td:nth-child(2) {text-align: left ; width: 100%}\n",
       "    .wandb-row { display: flex; flex-direction: row; flex-wrap: wrap; justify-content: flex-start; width: 100% }\n",
       "    .wandb-col { display: flex; flex-direction: column; flex-basis: 100%; flex: 1; padding: 10px; }\n",
       "    </style>\n",
       "<div class=\"wandb-row\"><div class=\"wandb-col\"><h3>Run history:</h3><br/><table class=\"wandb\"><tr><td>Train Accuracy</td><td>▁▂▂▃▂▃▄▃▃▄▅▆▆▇█</td></tr><tr><td>Train Loss</td><td>███▇██▇▇▇▇▇▅▅▃▁</td></tr><tr><td>Val Accuracy</td><td>▂▁▄▃▄▂▃▂▆▄▅▅▇██</td></tr><tr><td>Val F1</td><td>▄▁▄▄▄▄▅▄▅▅▆▆██▆</td></tr><tr><td>Val Loss</td><td>▆█▆█▅▅▆▆▆▆▅▆▂▁▄</td></tr><tr><td>Val Precision</td><td>▁▂▂▃▂▁▂▂▄▃▃▇▅▇█</td></tr><tr><td>Val Recall</td><td>▁▁▂▃▁▁▂▃▄▄▄█▇█▆</td></tr></table><br/></div><div class=\"wandb-col\"><h3>Run summary:</h3><br/><table class=\"wandb\"><tr><td>Train Accuracy</td><td>0.70357</td></tr><tr><td>Train Loss</td><td>0.57068</td></tr><tr><td>Val Accuracy</td><td>0.63861</td></tr><tr><td>Val F1</td><td>0.57336</td></tr><tr><td>Val Loss</td><td>0.65124</td></tr><tr><td>Val Precision</td><td>0.67717</td></tr><tr><td>Val Recall</td><td>0.60063</td></tr></table><br/></div></div>"
      ],
      "text/plain": [
       "<IPython.core.display.HTML object>"
      ]
     },
     "metadata": {},
     "output_type": "display_data"
    },
    {
     "data": {
      "text/html": [
       " View run <strong style=\"color:#cdcd00\">Tamil without ELMo</strong> at: <a href='https://wandb.ai/project-ai-scream/INLP-Project-ELMo/runs/nwrnl1xf' target=\"_blank\">https://wandb.ai/project-ai-scream/INLP-Project-ELMo/runs/nwrnl1xf</a><br/>Synced 6 W&B file(s), 0 media file(s), 0 artifact file(s) and 0 other file(s)"
      ],
      "text/plain": [
       "<IPython.core.display.HTML object>"
      ]
     },
     "metadata": {},
     "output_type": "display_data"
    },
    {
     "data": {
      "text/html": [
       "Find logs at: <code>./wandb/run-20240508_042148-nwrnl1xf/logs</code>"
      ],
      "text/plain": [
       "<IPython.core.display.HTML object>"
      ]
     },
     "metadata": {},
     "output_type": "display_data"
    },
    {
     "data": {
      "application/vnd.jupyter.widget-view+json": {
       "model_id": "bae1ef5c33e24312adc4c4f8c8e829ad",
       "version_major": 2,
       "version_minor": 0
      },
      "text/plain": [
       "VBox(children=(Label(value='Waiting for wandb.init()...\\r'), FloatProgress(value=0.011113320422252097, max=1.0…"
      ]
     },
     "metadata": {},
     "output_type": "display_data"
    },
    {
     "data": {
      "text/html": [
       "wandb version 0.17.0 is available!  To upgrade, please run:\n",
       " $ pip install wandb --upgrade"
      ],
      "text/plain": [
       "<IPython.core.display.HTML object>"
      ]
     },
     "metadata": {},
     "output_type": "display_data"
    },
    {
     "data": {
      "text/html": [
       "Tracking run with wandb version 0.16.0"
      ],
      "text/plain": [
       "<IPython.core.display.HTML object>"
      ]
     },
     "metadata": {},
     "output_type": "display_data"
    },
    {
     "data": {
      "text/html": [
       "Run data is saved locally in <code>/home2/sanika/inlp/INLP-Project-ELMo/Sentiment_Analysis/wandb/run-20240508_042204-mjm6clye</code>"
      ],
      "text/plain": [
       "<IPython.core.display.HTML object>"
      ]
     },
     "metadata": {},
     "output_type": "display_data"
    },
    {
     "data": {
      "text/html": [
       "Syncing run <strong><a href='https://wandb.ai/project-ai-scream/INLP-Project-ELMo/runs/mjm6clye' target=\"_blank\">Tamil without ELMo</a></strong> to <a href='https://wandb.ai/project-ai-scream/INLP-Project-ELMo' target=\"_blank\">Weights & Biases</a> (<a href='https://wandb.me/run' target=\"_blank\">docs</a>)<br/>"
      ],
      "text/plain": [
       "<IPython.core.display.HTML object>"
      ]
     },
     "metadata": {},
     "output_type": "display_data"
    },
    {
     "data": {
      "text/html": [
       " View project at <a href='https://wandb.ai/project-ai-scream/INLP-Project-ELMo' target=\"_blank\">https://wandb.ai/project-ai-scream/INLP-Project-ELMo</a>"
      ],
      "text/plain": [
       "<IPython.core.display.HTML object>"
      ]
     },
     "metadata": {},
     "output_type": "display_data"
    },
    {
     "data": {
      "text/html": [
       " View run at <a href='https://wandb.ai/project-ai-scream/INLP-Project-ELMo/runs/mjm6clye' target=\"_blank\">https://wandb.ai/project-ai-scream/INLP-Project-ELMo/runs/mjm6clye</a>"
      ],
      "text/plain": [
       "<IPython.core.display.HTML object>"
      ]
     },
     "metadata": {},
     "output_type": "display_data"
    },
    {
     "name": "stderr",
     "output_type": "stream",
     "text": [
      "100%|██████████| 26/26 [00:00<00:00, 104.90it/s]\n",
      "100%|██████████| 26/26 [00:00<00:00, 116.27it/s]\n",
      "100%|██████████| 26/26 [00:00<00:00, 117.03it/s]\n",
      "100%|██████████| 26/26 [00:00<00:00, 92.12it/s]\n",
      "100%|██████████| 26/26 [00:00<00:00, 80.80it/s]\n",
      "100%|██████████| 26/26 [00:00<00:00, 89.88it/s]\n",
      "100%|██████████| 26/26 [00:00<00:00, 105.59it/s]\n",
      "100%|██████████| 26/26 [00:00<00:00, 90.10it/s]\n",
      "100%|██████████| 26/26 [00:00<00:00, 93.06it/s]\n",
      "100%|██████████| 26/26 [00:00<00:00, 91.74it/s]\n",
      "100%|██████████| 26/26 [00:00<00:00, 87.33it/s]\n",
      "100%|██████████| 26/26 [00:00<00:00, 77.15it/s]\n",
      "100%|██████████| 26/26 [00:00<00:00, 83.13it/s]\n",
      "100%|██████████| 26/26 [00:00<00:00, 93.88it/s]\n",
      "100%|██████████| 26/26 [00:00<00:00, 96.63it/s]\n",
      "wandb: WARNING Source type is set to 'repo' but some required information is missing from the environment. A job will not be created from this run. See https://docs.wandb.ai/guides/launch/create-job\n"
     ]
    },
    {
     "data": {
      "application/vnd.jupyter.widget-view+json": {
       "model_id": "ec6ba6be6b584db3ba724b7c5c943882",
       "version_major": 2,
       "version_minor": 0
      },
      "text/plain": [
       "VBox(children=(Label(value='0.005 MB of 0.005 MB uploaded\\r'), FloatProgress(value=1.0, max=1.0)))"
      ]
     },
     "metadata": {},
     "output_type": "display_data"
    },
    {
     "data": {
      "text/html": [
       "<style>\n",
       "    table.wandb td:nth-child(1) { padding: 0 10px; text-align: left ; width: auto;} td:nth-child(2) {text-align: left ; width: 100%}\n",
       "    .wandb-row { display: flex; flex-direction: row; flex-wrap: wrap; justify-content: flex-start; width: 100% }\n",
       "    .wandb-col { display: flex; flex-direction: column; flex-basis: 100%; flex: 1; padding: 10px; }\n",
       "    </style>\n",
       "<div class=\"wandb-row\"><div class=\"wandb-col\"><h3>Run history:</h3><br/><table class=\"wandb\"><tr><td>Train Accuracy</td><td>▁▅▃▅▅▆▄▆▄▆▇▇▅█▇</td></tr><tr><td>Train Loss</td><td>█▆▆▆▄▃▅▄▄▄▄▄▃▂▁</td></tr><tr><td>Val Accuracy</td><td>▅▁▅▄▅▄▃▅▃▅▄▄█▅▆</td></tr><tr><td>Val F1</td><td>▃▁▅▄▅▅▃▅▃▅▄▄█▆▆</td></tr><tr><td>Val Loss</td><td>▆▇▆▆▇▇█▅▅█▄▃▁▂▃</td></tr><tr><td>Val Precision</td><td>▄▁▆▇▅▅▅▅▃▅▄▅█▆▆</td></tr><tr><td>Val Recall</td><td>▃▁▆▆▅▅▅▅▃▅▄▅█▆▆</td></tr></table><br/></div><div class=\"wandb-col\"><h3>Run summary:</h3><br/><table class=\"wandb\"><tr><td>Train Accuracy</td><td>0.57934</td></tr><tr><td>Train Loss</td><td>0.67496</td></tr><tr><td>Val Accuracy</td><td>0.54455</td></tr><tr><td>Val F1</td><td>0.54005</td></tr><tr><td>Val Loss</td><td>0.68091</td></tr><tr><td>Val Precision</td><td>0.5401</td></tr><tr><td>Val Recall</td><td>0.54042</td></tr></table><br/></div></div>"
      ],
      "text/plain": [
       "<IPython.core.display.HTML object>"
      ]
     },
     "metadata": {},
     "output_type": "display_data"
    },
    {
     "data": {
      "text/html": [
       " View run <strong style=\"color:#cdcd00\">Tamil without ELMo</strong> at: <a href='https://wandb.ai/project-ai-scream/INLP-Project-ELMo/runs/mjm6clye' target=\"_blank\">https://wandb.ai/project-ai-scream/INLP-Project-ELMo/runs/mjm6clye</a><br/>Synced 6 W&B file(s), 0 media file(s), 0 artifact file(s) and 0 other file(s)"
      ],
      "text/plain": [
       "<IPython.core.display.HTML object>"
      ]
     },
     "metadata": {},
     "output_type": "display_data"
    },
    {
     "data": {
      "text/html": [
       "Find logs at: <code>./wandb/run-20240508_042204-mjm6clye/logs</code>"
      ],
      "text/plain": [
       "<IPython.core.display.HTML object>"
      ]
     },
     "metadata": {},
     "output_type": "display_data"
    }
   ],
   "source": [
    "for config in configs:\n",
    "    wandb.init(project='INLP-Project-ELMo', group=\"Sentiment Analysis\", name=\"Tamil without ELMo\", config=config)\n",
    "    train_dataset = EmbeddingDataset(train_data, train_labels, word_vocab)\n",
    "    train_dataloader = DataLoader(train_dataset, batch_size=config['batch_size'], shuffle=True, collate_fn=train_dataset.collate_fn)\n",
    "    val_dataset = EmbeddingDataset(val_data, val_labels, word_vocab)\n",
    "    val_dataloader = DataLoader(val_dataset, batch_size=config['batch_size'], shuffle=True, collate_fn=val_dataset.collate_fn)\n",
    "    sentiment_analysis = SentimentAnalysis_WithoutELMo(150, num_classes, word_vocab)\n",
    "    wandb.watch(sentiment_analysis)\n",
    "\n",
    "    optimizer = torch.optim.Adam(sentiment_analysis.parameters(), lr=config['lr'])\n",
    "    criterion = nn.CrossEntropyLoss()\n",
    "    train_sentiment(sentiment_analysis, train_dataloader, val_dataloader, optimizer, criterion, config['epochs'])\n",
    "    wandb.join()"
   ]
  },
  {
   "cell_type": "code",
   "execution_count": null,
   "metadata": {},
   "outputs": [],
   "source": []
  }
 ],
 "metadata": {
  "kernelspec": {
   "display_name": "smai",
   "language": "python",
   "name": "python3"
  },
  "language_info": {
   "codemirror_mode": {
    "name": "ipython",
    "version": 3
   },
   "file_extension": ".py",
   "mimetype": "text/x-python",
   "name": "python",
   "nbconvert_exporter": "python",
   "pygments_lexer": "ipython3",
   "version": "3.7.16"
  }
 },
 "nbformat": 4,
 "nbformat_minor": 2
}
