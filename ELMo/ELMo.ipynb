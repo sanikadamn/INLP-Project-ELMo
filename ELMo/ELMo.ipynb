{
 "cells": [
  {
   "cell_type": "code",
   "execution_count": 1,
   "metadata": {},
   "outputs": [],
   "source": [
    "import torch\n",
    "import torch.nn as nn\n",
    "from preprocessing import CharLevelDataset\n",
    "from tqdm import tqdm\n",
    "from torch.utils.data import DataLoader, Dataset\n",
    "from ELMO import ELMo"
   ]
  },
  {
   "cell_type": "code",
   "execution_count": 2,
   "metadata": {},
   "outputs": [],
   "source": [
    "device = torch.device(\"cuda\" if torch.cuda.is_available() else \"cpu\")"
   ]
  },
  {
   "cell_type": "code",
   "execution_count": 3,
   "metadata": {},
   "outputs": [],
   "source": [
    "path = '/scratch/sanika/cleaned_marathi.txt'"
   ]
  },
  {
   "cell_type": "code",
   "execution_count": 22,
   "metadata": {},
   "outputs": [],
   "source": [
    "# read from characters_marathi.txt\n",
    "with open('characters_marathi.txt', 'r') as f:\n",
    "    characters = f.read().splitlines()\n",
    "\n",
    "# add comma, space, . , newline, tab\n",
    "characters += [' ', ',', '.', '\\n', '\\t', '-', '?', '!', ':', ';', '(', ')', '।', '॥', '“', '”']"
   ]
  },
  {
   "cell_type": "code",
   "execution_count": null,
   "metadata": {},
   "outputs": [],
   "source": [
    "# read from 'scratch/sanika/content/sample_data/fulldataset_dedup_final.txt\n",
    "with open('/scratch/sanika/content/sample_data/fulldataset_dedup_final.txt', 'r', encoding='utf-8') as f:\n",
    "    # split at newline\n",
    "    new_lines = []\n",
    "    for i, line in enumerate(f):\n",
    "        # only add if all characters part of characters\n",
    "        if all([c in characters for c in line]):\n",
    "            new_lines.append(line)\n",
    "        else:\n",
    "            print(line)"
   ]
  },
  {
   "cell_type": "code",
   "execution_count": 29,
   "metadata": {},
   "outputs": [
    {
     "data": {
      "text/plain": [
       "'तो घरी आला.\\n'"
      ]
     },
     "execution_count": 29,
     "metadata": {},
     "output_type": "execute_result"
    }
   ],
   "source": [
    "new_lines[0]"
   ]
  },
  {
   "cell_type": "code",
   "execution_count": 4,
   "metadata": {},
   "outputs": [],
   "source": [
    "dataset = CharLevelDataset(path, 0, 1085998)\n",
    "# dataloader = DataLoader(dataset, batch_size=32, shuffle=True, collate_fn=dataset.collate_fn)"
   ]
  },
  {
   "cell_type": "code",
   "execution_count": 6,
   "metadata": {},
   "outputs": [
    {
     "name": "stdout",
     "output_type": "stream",
     "text": [
      "50807\n",
      "80\n"
     ]
    }
   ],
   "source": [
    "# save the vocabulary\n",
    "vocab = dataset.word_vocab\n",
    "torch.save(vocab, 'word_vocab.pt')\n",
    "torch.save(dataset.character_vocab, 'char_vocab.pt')\n",
    "print(dataset.word_vocab.num_words)\n",
    "print(dataset.character_vocab.num_chars)"
   ]
  },
  {
   "cell_type": "code",
   "execution_count": 18,
   "metadata": {},
   "outputs": [],
   "source": [
    "def train(model, len_vocab, word_vocab, character_vocabulary):\n",
    "    current = 0\n",
    "    model.to(device)\n",
    "    optimizer = torch.optim.Adam(model.parameters(), lr=0.001)\n",
    "    criterion = nn.CrossEntropyLoss()\n",
    "    for epoch in range(5):\n",
    "        model.train()\n",
    "        total_loss = 0\n",
    "        total_items = 0\n",
    "        correct = 0\n",
    "\n",
    "        for i in range(10):\n",
    "            batch_loss = 0\n",
    "            total_items_batch = 0\n",
    "            correct_batch = 0\n",
    "            dataset = CharLevelDataset(path=path, start=current, end=current+100000, character_vocab=character_vocabulary, word_vocab=word_vocab)\n",
    "            dataloader = DataLoader(dataset, batch_size=128, shuffle=True, collate_fn=dataset.collate_fn)\n",
    "            current += 100000\n",
    "            for batch in tqdm(dataloader):\n",
    "                sentences, targets = batch\n",
    "                optimizer.zero_grad()\n",
    "                sentences = sentences.to(device)\n",
    "                targets = targets.to(device)\n",
    "                forward_output, backward_output, final_embeddings = model(sentences)\n",
    "                # now, to calculate loss we need to calculate the probability of each word in the vocabulary for forward and backward separately\n",
    "                # calculate the loss for the forward part\n",
    "                # one hot encode the targets (shifted by 1)\n",
    "                targets_forward = targets[:, 1:]\n",
    "                targets_forward = torch.nn.functional.one_hot(targets_forward, num_classes=len_vocab)\n",
    "                targets_forward = targets_forward.float()\n",
    "                # shift the target by 1 to the other side for backward\n",
    "                targets_backward = targets[:, :-1] \n",
    "                targets_backward = torch.nn.functional.one_hot(targets_backward, num_classes=len_vocab)\n",
    "                targets_backward = targets_backward.float()\n",
    "                # calculate the probabilities\n",
    "                forward_output = forward_output[:, :-1, :]\n",
    "                backward_output = backward_output[:, 1:, :]\n",
    "                # calculate the loss per word\n",
    "                loss = criterion(forward_output, targets_forward) + criterion(backward_output, targets_backward)\n",
    "                loss.backward()\n",
    "                optimizer.step()\n",
    "                batch_loss += loss.item()\n",
    "                total_loss += loss.item()\n",
    "                \n",
    "\n",
    "                # calculate accuracy, prediction is correct if it is within the top k predictions\n",
    "                # return top k predictions for k = 20\n",
    "                _, topk = torch.topk(forward_output, 20)\n",
    "                targets_forward = torch.argmax(targets_forward, dim=2)\n",
    "                targets_forward = targets_forward.unsqueeze(2)\n",
    "                total_items_batch += targets_forward.shape[0]*targets_forward.shape[1]\n",
    "                # check if target is in top k\n",
    "                correct_predictions = targets_forward == topk\n",
    "                # correct += targets_forward == topk\n",
    "                correct_batch += torch.sum(correct_predictions)\n",
    "                correct += torch.sum(correct_predictions)\n",
    "                total_items += targets_forward.shape[0]*targets_forward.shape[1]\n",
    "                \n",
    "                _, topk = torch.topk(backward_output, 20)\n",
    "                targets_backward = torch.argmax(targets_backward, dim=2)\n",
    "                targets_backward = targets_backward.unsqueeze(2)\n",
    "                total_items_batch += targets_backward.shape[0]*targets_backward.shape[1]\n",
    "                # check if target is in top k\n",
    "                correct_predictions = targets_backward == topk\n",
    "                # correct += targets_backward == topk\n",
    "                correct_batch += torch.sum(correct_predictions)\n",
    "                correct += torch.sum(correct_predictions)\n",
    "                total_items += targets_backward.shape[0]*targets_forward.shape[1]\n",
    "\n",
    "            print(f'Batch Loss {i}: {batch_loss}')\n",
    "            print(f'Batch Accuracy {i}: {correct_batch/total_items_batch}')\n",
    "\n",
    "        # save model\n",
    "        torch.save(model.state_dict(), f'elmo_epoch_{epoch}.pt')\n",
    "        print(f'Epoch {epoch} Loss: {total_loss} Accuracy: {correct/total_items}')"
   ]
  },
  {
   "cell_type": "code",
   "execution_count": 8,
   "metadata": {},
   "outputs": [
    {
     "name": "stdout",
     "output_type": "stream",
     "text": [
      "50807\n"
     ]
    }
   ],
   "source": [
    "print(dataset.word_vocab.num_words)"
   ]
  },
  {
   "cell_type": "code",
   "execution_count": 19,
   "metadata": {},
   "outputs": [],
   "source": [
    "model = ELMo(cnn_config = {'character_embedding_size': 16, \n",
    "                           'num_filters': 32, \n",
    "                           'kernel_size': 5, \n",
    "                           'max_word_length': 10, \n",
    "                           'char_vocab_size': dataset.character_vocab.num_chars}, \n",
    "             elmo_config = {'num_layers': 3,\n",
    "                            'word_embedding_dim': 150,\n",
    "                            'vocab_size': dataset.word_vocab.num_words}, \n",
    "             char_vocab_size = dataset.character_vocab.num_chars).to(device)\n"
   ]
  },
  {
   "cell_type": "code",
   "execution_count": 20,
   "metadata": {},
   "outputs": [
    {
     "name": "stderr",
     "output_type": "stream",
     "text": [
      "100%|██████████| 782/782 [02:21<00:00,  5.51it/s]\n"
     ]
    },
    {
     "name": "stdout",
     "output_type": "stream",
     "text": [
      "Batch Loss 0: 1.2178260030923411\n",
      "Batch Accuracy 0: 0.5567686557769775\n"
     ]
    },
    {
     "name": "stderr",
     "output_type": "stream",
     "text": [
      "100%|██████████| 782/782 [02:20<00:00,  5.55it/s]\n"
     ]
    },
    {
     "name": "stdout",
     "output_type": "stream",
     "text": [
      "Batch Loss 1: 1.1368769069667906\n",
      "Batch Accuracy 1: 0.749113917350769\n"
     ]
    },
    {
     "name": "stderr",
     "output_type": "stream",
     "text": [
      "100%|██████████| 782/782 [02:20<00:00,  5.57it/s]\n"
     ]
    },
    {
     "name": "stdout",
     "output_type": "stream",
     "text": [
      "Batch Loss 2: 1.1107494086027145\n",
      "Batch Accuracy 2: 0.7631421089172363\n"
     ]
    },
    {
     "name": "stderr",
     "output_type": "stream",
     "text": [
      " 99%|█████████▊| 771/782 [02:16<00:01,  5.63it/s]\n"
     ]
    },
    {
     "ename": "KeyboardInterrupt",
     "evalue": "",
     "output_type": "error",
     "traceback": [
      "\u001b[0;31m---------------------------------------------------------------------------\u001b[0m",
      "\u001b[0;31mKeyboardInterrupt\u001b[0m                         Traceback (most recent call last)",
      "\u001b[0;32m/tmp/ipykernel_25441/1772818697.py\u001b[0m in \u001b[0;36m<module>\u001b[0;34m\u001b[0m\n\u001b[0;32m----> 1\u001b[0;31m \u001b[0mtrain\u001b[0m\u001b[0;34m(\u001b[0m\u001b[0mmodel\u001b[0m\u001b[0;34m,\u001b[0m \u001b[0mdataset\u001b[0m\u001b[0;34m.\u001b[0m\u001b[0mword_vocab\u001b[0m\u001b[0;34m.\u001b[0m\u001b[0mnum_words\u001b[0m\u001b[0;34m,\u001b[0m \u001b[0mdataset\u001b[0m\u001b[0;34m.\u001b[0m\u001b[0mword_vocab\u001b[0m\u001b[0;34m,\u001b[0m \u001b[0mdataset\u001b[0m\u001b[0;34m.\u001b[0m\u001b[0mcharacter_vocab\u001b[0m\u001b[0;34m)\u001b[0m\u001b[0;34m\u001b[0m\u001b[0;34m\u001b[0m\u001b[0m\n\u001b[0m",
      "\u001b[0;32m/tmp/ipykernel_25441/2718019137.py\u001b[0m in \u001b[0;36mtrain\u001b[0;34m(model, len_vocab, word_vocab, character_vocabulary)\u001b[0m\n\u001b[1;32m     38\u001b[0m                 \u001b[0;31m# calculate the loss per word\u001b[0m\u001b[0;34m\u001b[0m\u001b[0;34m\u001b[0m\u001b[0;34m\u001b[0m\u001b[0m\n\u001b[1;32m     39\u001b[0m                 \u001b[0mloss\u001b[0m \u001b[0;34m=\u001b[0m \u001b[0mcriterion\u001b[0m\u001b[0;34m(\u001b[0m\u001b[0mforward_output\u001b[0m\u001b[0;34m,\u001b[0m \u001b[0mtargets_forward\u001b[0m\u001b[0;34m)\u001b[0m \u001b[0;34m+\u001b[0m \u001b[0mcriterion\u001b[0m\u001b[0;34m(\u001b[0m\u001b[0mbackward_output\u001b[0m\u001b[0;34m,\u001b[0m \u001b[0mtargets_backward\u001b[0m\u001b[0;34m)\u001b[0m\u001b[0;34m\u001b[0m\u001b[0;34m\u001b[0m\u001b[0m\n\u001b[0;32m---> 40\u001b[0;31m                 \u001b[0mloss\u001b[0m\u001b[0;34m.\u001b[0m\u001b[0mbackward\u001b[0m\u001b[0;34m(\u001b[0m\u001b[0;34m)\u001b[0m\u001b[0;34m\u001b[0m\u001b[0;34m\u001b[0m\u001b[0m\n\u001b[0m\u001b[1;32m     41\u001b[0m                 \u001b[0moptimizer\u001b[0m\u001b[0;34m.\u001b[0m\u001b[0mstep\u001b[0m\u001b[0;34m(\u001b[0m\u001b[0;34m)\u001b[0m\u001b[0;34m\u001b[0m\u001b[0;34m\u001b[0m\u001b[0m\n\u001b[1;32m     42\u001b[0m                 \u001b[0mbatch_loss\u001b[0m \u001b[0;34m+=\u001b[0m \u001b[0mloss\u001b[0m\u001b[0;34m.\u001b[0m\u001b[0mitem\u001b[0m\u001b[0;34m(\u001b[0m\u001b[0;34m)\u001b[0m\u001b[0;34m\u001b[0m\u001b[0;34m\u001b[0m\u001b[0m\n",
      "\u001b[0;32m~/miniconda3/envs/smai/lib/python3.7/site-packages/torch/_tensor.py\u001b[0m in \u001b[0;36mbackward\u001b[0;34m(self, gradient, retain_graph, create_graph, inputs)\u001b[0m\n\u001b[1;32m    487\u001b[0m             )\n\u001b[1;32m    488\u001b[0m         torch.autograd.backward(\n\u001b[0;32m--> 489\u001b[0;31m             \u001b[0mself\u001b[0m\u001b[0;34m,\u001b[0m \u001b[0mgradient\u001b[0m\u001b[0;34m,\u001b[0m \u001b[0mretain_graph\u001b[0m\u001b[0;34m,\u001b[0m \u001b[0mcreate_graph\u001b[0m\u001b[0;34m,\u001b[0m \u001b[0minputs\u001b[0m\u001b[0;34m=\u001b[0m\u001b[0minputs\u001b[0m\u001b[0;34m\u001b[0m\u001b[0;34m\u001b[0m\u001b[0m\n\u001b[0m\u001b[1;32m    490\u001b[0m         )\n\u001b[1;32m    491\u001b[0m \u001b[0;34m\u001b[0m\u001b[0m\n",
      "\u001b[0;32m~/miniconda3/envs/smai/lib/python3.7/site-packages/torch/autograd/__init__.py\u001b[0m in \u001b[0;36mbackward\u001b[0;34m(tensors, grad_tensors, retain_graph, create_graph, grad_variables, inputs)\u001b[0m\n\u001b[1;32m    197\u001b[0m     Variable._execution_engine.run_backward(  # Calls into the C++ engine to run the backward pass\n\u001b[1;32m    198\u001b[0m         \u001b[0mtensors\u001b[0m\u001b[0;34m,\u001b[0m \u001b[0mgrad_tensors_\u001b[0m\u001b[0;34m,\u001b[0m \u001b[0mretain_graph\u001b[0m\u001b[0;34m,\u001b[0m \u001b[0mcreate_graph\u001b[0m\u001b[0;34m,\u001b[0m \u001b[0minputs\u001b[0m\u001b[0;34m,\u001b[0m\u001b[0;34m\u001b[0m\u001b[0;34m\u001b[0m\u001b[0m\n\u001b[0;32m--> 199\u001b[0;31m         allow_unreachable=True, accumulate_grad=True)  # Calls into the C++ engine to run the backward pass\n\u001b[0m\u001b[1;32m    200\u001b[0m \u001b[0;34m\u001b[0m\u001b[0m\n\u001b[1;32m    201\u001b[0m def grad(\n",
      "\u001b[0;31mKeyboardInterrupt\u001b[0m: "
     ]
    }
   ],
   "source": [
    "train(model, dataset.word_vocab.num_words, dataset.word_vocab, dataset.character_vocab)"
   ]
  },
  {
   "cell_type": "code",
   "execution_count": null,
   "metadata": {},
   "outputs": [],
   "source": [
    "# save model as .pt\n",
    "torch.save(model.state_dict(), 'model_elmo_marathi.pt')"
   ]
  },
  {
   "cell_type": "code",
   "execution_count": null,
   "metadata": {},
   "outputs": [],
   "source": [
    "# save character and word vocab as .pt\n",
    "torch.save(dataset.character_vocab, 'character_vocab_marathi.pt')\n",
    "torch.save(dataset.word_vocab, 'vocab_marathi.pt')\n",
    "print(dataset.character_vocab.num_chars)"
   ]
  },
  {
   "cell_type": "code",
   "execution_count": 21,
   "metadata": {},
   "outputs": [
    {
     "name": "stdout",
     "output_type": "stream",
     "text": [
      "ELMo(\n",
      "  (char_cnn): CharCNN(\n",
      "    (char_embedding): Embedding(126, 16)\n",
      "    (conv_layers): ModuleList(\n",
      "      (0): Conv1d(16, 32, kernel_size=(5,), stride=(1,))\n",
      "      (1): Conv1d(16, 32, kernel_size=(5,), stride=(1,))\n",
      "      (2): Conv1d(16, 32, kernel_size=(5,), stride=(1,))\n",
      "      (3): Conv1d(16, 32, kernel_size=(5,), stride=(1,))\n",
      "      (4): Conv1d(16, 32, kernel_size=(5,), stride=(1,))\n",
      "      (5): Conv1d(16, 32, kernel_size=(5,), stride=(1,))\n",
      "    )\n",
      "    (fc): Linear(in_features=192, out_features=300, bias=True)\n",
      "  )\n",
      "  (forward_lstm): LSTM(300, 150)\n",
      "  (backward_lstm): LSTM(300, 150)\n",
      "  (forward_lstms): ModuleList(\n",
      "    (0): LSTM(300, 150)\n",
      "    (1): LSTM(300, 150)\n",
      "    (2): LSTM(300, 150)\n",
      "  )\n",
      "  (backward_lstms): ModuleList(\n",
      "    (0): LSTM(300, 150)\n",
      "    (1): LSTM(300, 150)\n",
      "    (2): LSTM(300, 150)\n",
      "  )\n",
      "  (fc): Linear(in_features=300, out_features=36377, bias=True)\n",
      ")\n"
     ]
    },
    {
     "ename": "",
     "evalue": "",
     "output_type": "error",
     "traceback": [
      "\u001b[1;31mThe Kernel crashed while executing code in the current cell or a previous cell. \n",
      "\u001b[1;31mPlease review the code in the cell(s) to identify a possible cause of the failure. \n",
      "\u001b[1;31mClick <a href='https://aka.ms/vscodeJupyterKernelCrash'>here</a> for more info. \n",
      "\u001b[1;31mView Jupyter <a href='command:jupyter.viewOutput'>log</a> for further details."
     ]
    }
   ],
   "source": [
    "# print model layers\n",
    "print(model)"
   ]
  }
 ],
 "metadata": {
  "kernelspec": {
   "display_name": "smai",
   "language": "python",
   "name": "python3"
  },
  "language_info": {
   "codemirror_mode": {
    "name": "ipython",
    "version": 3
   },
   "file_extension": ".py",
   "mimetype": "text/x-python",
   "name": "python",
   "nbconvert_exporter": "python",
   "pygments_lexer": "ipython3",
   "version": "3.7.16"
  }
 },
 "nbformat": 4,
 "nbformat_minor": 2
}
