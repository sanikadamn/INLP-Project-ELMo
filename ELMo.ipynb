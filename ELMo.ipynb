{
 "cells": [
  {
   "cell_type": "code",
   "execution_count": 1,
   "metadata": {},
   "outputs": [
    {
     "name": "stderr",
     "output_type": "stream",
     "text": [
      "/home2/sanika/miniconda3/envs/smai/lib/python3.7/site-packages/tqdm/auto.py:21: TqdmWarning: IProgress not found. Please update jupyter and ipywidgets. See https://ipywidgets.readthedocs.io/en/stable/user_install.html\n",
      "  from .autonotebook import tqdm as notebook_tqdm\n"
     ]
    }
   ],
   "source": [
    "import torch\n",
    "import torch.nn as nn\n",
    "from preprocessing import NextWordDataset\n",
    "from tqdm import tqdm"
   ]
  },
  {
   "cell_type": "code",
   "execution_count": 2,
   "metadata": {},
   "outputs": [],
   "source": [
    "device = torch.device(\"cuda\" if torch.cuda.is_available() else \"cpu\")"
   ]
  },
  {
   "cell_type": "code",
   "execution_count": 3,
   "metadata": {},
   "outputs": [],
   "source": [
    "path = '/scratch/sanika/content/sample_data/fulldataset_dedup_final.txt'"
   ]
  },
  {
   "cell_type": "code",
   "execution_count": 4,
   "metadata": {},
   "outputs": [],
   "source": [
    "# make the character embedding and convolutional layer with max pooling\n",
    "class CharCNN(nn.Module):\n",
    "    def __init__(self, character_embedding_size, num_filters, kernel_size, max_word_length, char_vocab_size, word_embedding_dim, device=None):\n",
    "        super(CharCNN, self).__init__()\n",
    "        if device is None:\n",
    "            device = torch.device(\"cuda\" if torch.cuda.is_available() else \"cpu\")\n",
    "\n",
    "        self.char_embedding = nn.Embedding(char_vocab_size, character_embedding_size).to(device)\n",
    "        self.conv_layers = nn.ModuleList([nn.Conv1d(character_embedding_size, num_filters, kernel_size).to(device) for _ in range(max_word_length - kernel_size + 1)])\n",
    "        self.fc = nn.Linear(num_filters * (max_word_length - kernel_size + 1), word_embedding_dim).to(device)\n",
    "        self.device = device\n",
    "\n",
    "    def forward(self, x):\n",
    "        # x is a batch of words. Each word is a list of characters (batch_size, max_word_length)\n",
    "        # first, we convert the characters to embeddings\n",
    "        x = x.to(self.device)\n",
    "        x = self.char_embedding(x) # (batch_size, max_word_length, character_embedding_size)\n",
    "        # print(x.shape)\n",
    "        x = x.permute(0, 2, 1) # (batch_size, character_embedding_size, max_word_length)\n",
    "\n",
    "        # now we run the convolutional layers\n",
    "        x = [conv(x) for conv in self.conv_layers]\n",
    "        \n",
    "        # now we max pool\n",
    "        x = [torch.max(torch.relu(conv), dim=2)[0] for conv in x]\n",
    "\n",
    "        # now we concatenate the results\n",
    "        x = torch.cat(x, dim=1) # (batch_size, num_filters * (max_word_length - kernel_size + 1))\n",
    "        \n",
    "        # finally, we run the fully connected layer\n",
    "        x = self.fc(x)\n",
    "        return x\n",
    "\n",
    "\n",
    "# ELMo part\n",
    "class ELMo(nn.Module):\n",
    "    def __init__(self, cnn_config, elmo_config, char_vocab_size):\n",
    "        # input to this is a batch of sentences. Each sentence is a list of words. Each word is a list of characters.\n",
    "        super(ELMo, self).__init__()\n",
    "        # first, we convert the token to a representation using character embeddings\n",
    "        self.char_cnn = CharCNN(cnn_config['character_embedding_size'], \n",
    "                                cnn_config['num_filters'], \n",
    "                                cnn_config['kernel_size'], \n",
    "                                cnn_config['max_word_length'], \n",
    "                                cnn_config['char_vocab_size'],\n",
    "                                elmo_config['word_embedding_dim'],\n",
    "                                device = device).to(device)\n",
    "        self.forward_lstm = nn.LSTM(elmo_config['word_embedding_dim'], int(elmo_config['word_embedding_dim']/2), \n",
    "                                    1, bidirectional = False).to(device)\n",
    "        self.backward_lstm = nn.LSTM(elmo_config['word_embedding_dim'], int(elmo_config['word_embedding_dim']/2),\n",
    "                                    1, bidirectional = False).to(device)\n",
    "        # based on the number of layers as passed in the argument, sequentially have that many layers\n",
    "        self.forward_lstms = nn.ModuleList([self.forward_lstm for _ in range(elmo_config['num_layers'])])\n",
    "        self.backward_lstms = nn.ModuleList([self.backward_lstm for _ in range(elmo_config['num_layers'])])\n",
    "        self.num_layers = elmo_config['num_layers']\n",
    "        self.fc = nn.Linear(elmo_config['word_embedding_dim'], elmo_config['vocab_size'])\n",
    "        \n",
    "    def forward(self, x):\n",
    "        # character cnn\n",
    "        # convert x to tensor\n",
    "        x = torch.stack(x, dim=0)\n",
    "        x = x.permute(1, 0, 2)\n",
    "        x = [self.char_cnn(word) for word in x]\n",
    "        # lstm1\n",
    "        x = torch.stack(x, dim=1) \n",
    "        x = x.permute(1, 0, 2) \n",
    "        \n",
    "        lstm_output = x\n",
    "        for i in range(self.num_layers):\n",
    "            forward_lstm_output, _ = self.forward_lstms[i](lstm_output)\n",
    "            backward_lstm_output, _ = self.backward_lstms[i](torch.flip(lstm_output, [1]))\n",
    "            backward_lstm_output = torch.flip(backward_lstm_output, [1])\n",
    "            lstm_output = torch.cat((forward_lstm_output, backward_lstm_output), dim = 2)\n",
    "        \n",
    "        x = torch.mean(lstm_output, dim = 1)\n",
    "        x = self.fc(x)\n",
    "        return x, lstm_output\n",
    "     "
   ]
  },
  {
   "cell_type": "code",
   "execution_count": 5,
   "metadata": {},
   "outputs": [],
   "source": [
    "dataset = NextWordDataset(path, 0, 10000)\n",
    "words, targets, vocab, character_vocab = dataset.format(dataset.sentences, 5, True)"
   ]
  },
  {
   "cell_type": "code",
   "execution_count": 6,
   "metadata": {},
   "outputs": [],
   "source": [
    "from torch.utils.data import DataLoader"
   ]
  },
  {
   "cell_type": "code",
   "execution_count": 7,
   "metadata": {},
   "outputs": [],
   "source": [
    "def create_dataloader(words, targets, batch_size):\n",
    "    zipped = list(zip(words, targets))\n",
    "    dataloader = {\n",
    "        'train': DataLoader(zipped, batch_size = batch_size, shuffle = False),\n",
    "    }\n",
    "    return dataloader"
   ]
  },
  {
   "cell_type": "code",
   "execution_count": 8,
   "metadata": {},
   "outputs": [],
   "source": [
    "dataloader = create_dataloader(words, targets, 128)"
   ]
  },
  {
   "cell_type": "code",
   "execution_count": 26,
   "metadata": {},
   "outputs": [],
   "source": [
    "def train(model, len_vocab, word_vocab, character_vocabulary, dataloader):\n",
    "    current = 0\n",
    "    model.to(device)\n",
    "    optimizer = torch.optim.Adam(model.parameters(), lr=0.001)\n",
    "    criterion = nn.CrossEntropyLoss()\n",
    "    for epoch in range(10):\n",
    "        model.train()\n",
    "        total_loss = 0\n",
    "        total_items = 0\n",
    "        correct = 0\n",
    "\n",
    "        for i in range(1):\n",
    "            # dataset = NextWordDataset(path=path, start=current, end=current+100000, vocabulary=word_vocab, character_vocab=character_vocabulary)\n",
    "            # words, targets = dataset.format(dataset.sentences, 5)\n",
    "            # current += 100000\n",
    "            # dataloader = create_dataloader(words, targets, 64)\n",
    "            pbar = tqdm(enumerate(dataloader['train']), total=len(dataloader['train']))\n",
    "            # reset pbar\n",
    "\n",
    "            for j, (word, target) in enumerate(dataloader['train']):\n",
    "                word = [w.to(device) for w in word]\n",
    "                target = target.to(device)\n",
    "                optimizer.zero_grad()\n",
    "                output, _ = model(word)\n",
    "                # one hot encode the target\n",
    "                target = torch.nn.functional.one_hot(target, num_classes = len_vocab).float()\n",
    "                loss = criterion(output, target)\n",
    "                loss.backward()\n",
    "                optimizer.step()\n",
    "                total_loss += loss.item()\n",
    "                total_items += 1\n",
    "                # calculate accuracy, prediction is correct if it is within the top k predictions\n",
    "                # return top k predictions for k = 20\n",
    "                _, topk = torch.topk(output, 20)\n",
    "                # add 1 to correct if target is in top k\n",
    "                target = torch.argmax(target, dim=1)\n",
    "                correct += torch.sum(target.view(-1, 1) == topk)\n",
    "                pbar.update(1)\n",
    "            pbar.close()\n",
    "\n",
    "        print(f'Epoch {epoch} Loss: {total_loss/total_items} Accuracy: {correct/total_items}')"
   ]
  },
  {
   "cell_type": "code",
   "execution_count": 24,
   "metadata": {},
   "outputs": [],
   "source": [
    "model = ELMo(cnn_config = {'character_embedding_size': 16, \n",
    "                           'num_filters': 32, \n",
    "                           'kernel_size': 5, \n",
    "                           'max_word_length': 10, \n",
    "                           'char_vocab_size': len(character_vocab)}, \n",
    "             elmo_config = {'num_layers': 3,\n",
    "                            'word_embedding_dim': 300,\n",
    "                            'vocab_size': len(vocab)}, \n",
    "             char_vocab_size = len(character_vocab)).to(device)\n"
   ]
  },
  {
   "cell_type": "code",
   "execution_count": 27,
   "metadata": {},
   "outputs": [
    {
     "name": "stderr",
     "output_type": "stream",
     "text": [
      "  0%|          | 0/731 [00:00<?, ?it/s]"
     ]
    },
    {
     "name": "stderr",
     "output_type": "stream",
     "text": [
      "100%|██████████| 731/731 [04:17<00:00,  2.84it/s]\n"
     ]
    },
    {
     "name": "stdout",
     "output_type": "stream",
     "text": [
      "Epoch 0 Loss: 8.429014948259137 Accuracy: 18.803010940551758\n"
     ]
    },
    {
     "name": "stderr",
     "output_type": "stream",
     "text": [
      "100%|██████████| 731/731 [04:14<00:00,  2.87it/s]\n"
     ]
    },
    {
     "name": "stdout",
     "output_type": "stream",
     "text": [
      "Epoch 1 Loss: 7.934716470916685 Accuracy: 19.26812744140625\n"
     ]
    },
    {
     "name": "stderr",
     "output_type": "stream",
     "text": [
      "100%|██████████| 731/731 [04:14<00:00,  2.88it/s]\n"
     ]
    },
    {
     "name": "stdout",
     "output_type": "stream",
     "text": [
      "Epoch 2 Loss: 7.899834498824238 Accuracy: 19.051984786987305\n"
     ]
    },
    {
     "name": "stderr",
     "output_type": "stream",
     "text": [
      "100%|██████████| 731/731 [04:20<00:00,  2.80it/s]\n"
     ]
    },
    {
     "name": "stdout",
     "output_type": "stream",
     "text": [
      "Epoch 3 Loss: 7.905022729111762 Accuracy: 19.19562339782715\n"
     ]
    },
    {
     "name": "stderr",
     "output_type": "stream",
     "text": [
      "100%|██████████| 731/731 [04:20<00:00,  2.81it/s]\n"
     ]
    },
    {
     "name": "stdout",
     "output_type": "stream",
     "text": [
      "Epoch 4 Loss: 7.961161589165882 Accuracy: 19.391244888305664\n"
     ]
    },
    {
     "name": "stderr",
     "output_type": "stream",
     "text": [
      "100%|██████████| 731/731 [04:20<00:00,  2.80it/s]\n"
     ]
    },
    {
     "name": "stdout",
     "output_type": "stream",
     "text": [
      "Epoch 5 Loss: 8.026623571294113 Accuracy: 19.21887969970703\n"
     ]
    },
    {
     "name": "stderr",
     "output_type": "stream",
     "text": [
      "100%|██████████| 731/731 [04:21<00:00,  2.79it/s]\n"
     ]
    },
    {
     "name": "stdout",
     "output_type": "stream",
     "text": [
      "Epoch 6 Loss: 7.981884674888955 Accuracy: 19.3844051361084\n"
     ]
    },
    {
     "name": "stderr",
     "output_type": "stream",
     "text": [
      "100%|██████████| 731/731 [04:19<00:00,  2.82it/s]\n"
     ]
    },
    {
     "name": "stdout",
     "output_type": "stream",
     "text": [
      "Epoch 7 Loss: 8.013273296049617 Accuracy: 19.436389923095703\n"
     ]
    },
    {
     "name": "stderr",
     "output_type": "stream",
     "text": [
      "100%|██████████| 731/731 [04:19<00:00,  2.81it/s]\n"
     ]
    },
    {
     "name": "stdout",
     "output_type": "stream",
     "text": [
      "Epoch 8 Loss: 7.970953628400445 Accuracy: 19.482900619506836\n"
     ]
    },
    {
     "name": "stderr",
     "output_type": "stream",
     "text": [
      "100%|██████████| 731/731 [04:13<00:00,  2.88it/s]"
     ]
    },
    {
     "name": "stdout",
     "output_type": "stream",
     "text": [
      "Epoch 9 Loss: 7.966687541653781 Accuracy: 19.471956253051758\n"
     ]
    },
    {
     "name": "stderr",
     "output_type": "stream",
     "text": [
      "\n"
     ]
    }
   ],
   "source": [
    "train(model, len(vocab), vocab, character_vocab, dataloader)"
   ]
  },
  {
   "cell_type": "code",
   "execution_count": 29,
   "metadata": {},
   "outputs": [],
   "source": [
    "# save model as .pt\n",
    "torch.save(model.state_dict(), 'model.pt')"
   ]
  }
 ],
 "metadata": {
  "kernelspec": {
   "display_name": "smai",
   "language": "python",
   "name": "python3"
  },
  "language_info": {
   "codemirror_mode": {
    "name": "ipython",
    "version": 3
   },
   "file_extension": ".py",
   "mimetype": "text/x-python",
   "name": "python",
   "nbconvert_exporter": "python",
   "pygments_lexer": "ipython3",
   "version": "3.7.16"
  }
 },
 "nbformat": 4,
 "nbformat_minor": 2
}
