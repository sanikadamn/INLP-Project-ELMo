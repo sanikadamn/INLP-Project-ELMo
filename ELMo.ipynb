{
 "cells": [
  {
   "cell_type": "code",
   "execution_count": 1,
   "metadata": {},
   "outputs": [
    {
     "name": "stderr",
     "output_type": "stream",
     "text": [
      "/home2/sanika/miniconda3/envs/smai/lib/python3.7/site-packages/tqdm/auto.py:21: TqdmWarning: IProgress not found. Please update jupyter and ipywidgets. See https://ipywidgets.readthedocs.io/en/stable/user_install.html\n",
      "  from .autonotebook import tqdm as notebook_tqdm\n"
     ]
    }
   ],
   "source": [
    "import torch\n",
    "import torch.nn as nn\n",
    "from preprocessing import NextWordDataset"
   ]
  },
  {
   "cell_type": "code",
   "execution_count": 2,
   "metadata": {},
   "outputs": [],
   "source": [
    "device = torch.device(\"cuda\" if torch.cuda.is_available() else \"cpu\")"
   ]
  },
  {
   "cell_type": "code",
   "execution_count": 3,
   "metadata": {},
   "outputs": [],
   "source": [
    "path = '/scratch/sanika/content/sample_data/fulldataset_dedup_final.txt'"
   ]
  },
  {
   "cell_type": "code",
   "execution_count": 4,
   "metadata": {},
   "outputs": [
    {
     "name": "stdout",
     "output_type": "stream",
     "text": [
      "Tokenized data\n"
     ]
    }
   ],
   "source": [
    "dataset = NextWordDataset(path=path, end=10000)"
   ]
  },
  {
   "cell_type": "code",
   "execution_count": 5,
   "metadata": {},
   "outputs": [],
   "source": [
    "words, targets, vocab, character_vocab = dataset.format(dataset.sentences, 5)"
   ]
  },
  {
   "cell_type": "code",
   "execution_count": 7,
   "metadata": {},
   "outputs": [
    {
     "data": {
      "text/plain": [
       "([tensor([48, 41, 19,  1, 41, 33,  0,  0,  0,  0]),\n",
       "  tensor([10, 29, 32, 19, 15,  7, 51,  0,  0,  0]),\n",
       "  tensor([14,  7, 15,  0,  0,  0,  0,  0,  0,  0]),\n",
       "  tensor([14, 47, 41, 19, 29, 48, 33, 51,  0,  0]),\n",
       "  tensor([10, 51,  7, 29, 43, 51,  0,  0,  0,  0])],\n",
       " tensor(70))"
      ]
     },
     "execution_count": 7,
     "metadata": {},
     "output_type": "execute_result"
    }
   ],
   "source": [
    "words[0], targets[0]"
   ]
  },
  {
   "cell_type": "code",
   "execution_count": 6,
   "metadata": {},
   "outputs": [],
   "source": [
    "# make the character embedding and convolutional layer with max pooling\n",
    "class CharCNN(nn.Module):\n",
    "    def __init__(self, character_embedding_size, num_filters, kernel_size, max_word_length, char_vocab_size, word_embedding_dim, device = device):\n",
    "        super(CharCNN, self).__init__()\n",
    "        self.char_embedding = nn.Embedding(char_vocab_size, character_embedding_size)\n",
    "        self.conv_layers = nn.ModuleList([nn.Conv1d(character_embedding_size\n",
    "                                                    , num_filters, kernel_size) for _ in range(max_word_length - kernel_size + 1)])\n",
    "        self.fc = nn.Linear(num_filters * (max_word_length - kernel_size + 1), word_embedding_dim)\n",
    "    def forward(self, x):\n",
    "        # x is a batch of words. Each word is a list of characters (batch_size, max_word_length)\n",
    "        # first, we convert the characters to embeddings\n",
    "        x = self.char_embedding(x) # (batch_size, max_word_length, character_embedding_size)\n",
    "        x = x.permute(0, 2, 1) # (batch_size, character_embedding_size, max_word_length)\n",
    "        # now we run the convolutional layers\n",
    "        x = [conv(x) for conv in self.conv_layers]\n",
    "        # now we max pool\n",
    "        x = [torch.max(torch.relu(conv), dim = 2)[0] for conv in x]\n",
    "        # now we concatenate the results\n",
    "        x = torch.cat(x, dim = 1) # (batch_size, num_filters * (max_word_length - kernel_size + 1))\n",
    "        # finally, we run the fully connected layer\n",
    "        x = self.fc(x)\n",
    "        return x \n",
    "\n",
    "# ELMo part\n",
    "class ELMo(nn.Module):\n",
    "    def __init__(self, cnn_config, elmo_config, char_vocab_size):\n",
    "        # input to this is a batch of sentences. Each sentence is a list of words. Each word is a list of characters.\n",
    "        super(ELMo, self).__init__()\n",
    "        # first, we convert the token to a representation using character embeddings\n",
    "        self.char_cnn = CharCNN(cnn_config['character_embedding_size'], \n",
    "                                cnn_config['num_filters'], \n",
    "                                cnn_config['kernel_size'], \n",
    "                                cnn_config['max_word_length'], \n",
    "                                cnn_config['char_vocab_size'],\n",
    "                                elmo_config['word_embedding_dim'],\n",
    "                                device = device)\n",
    "        self.forward_lstm = nn.LSTM(elmo_config['word_embedding_dim'], int(elmo_config['word_embedding_dim']/2), \n",
    "                                    1, bidirectional = False)\n",
    "        self.backward_lstm = nn.LSTM(elmo_config['word_embedding_dim'], int(elmo_config['word_embedding_dim']/2),\n",
    "                                    1, bidirectional = False)\n",
    "        # based on the number of layers as passed in the argument, sequentially have that many layers\n",
    "        self.forward_lstms = nn.ModuleList([self.forward_lstm for _ in range(elmo_config['num_layers'])])\n",
    "        self.backward_lstms = nn.ModuleList([self.backward_lstm for _ in range(elmo_config['num_layers'])])\n",
    "        self.num_layers = elmo_config['num_layers']\n",
    "        self.fc = nn.Linear(elmo_config['word_embedding_dim'], elmo_config['vocab_size'])\n",
    "        \n",
    "    def forward(self, x):\n",
    "        # character cnn\n",
    "        x = [self.char_cnn(sentence) for sentence in x]\n",
    "        # lstm1\n",
    "        x = torch.stack(x, dim=1) \n",
    "        x = x.permute(1, 0, 2) \n",
    "        \n",
    "        lstm_output = x\n",
    "        for i in range(self.num_layers):\n",
    "            forward_lstm_output, _ = self.forward_lstms[i](lstm_output)\n",
    "            backward_lstm_output, _ = self.backward_lstms[i](torch.flip(lstm_output, [1]))\n",
    "            backward_lstm_output = torch.flip(backward_lstm_output, [1])\n",
    "            lstm_output = torch.cat((forward_lstm_output, backward_lstm_output), dim = 2)\n",
    "        \n",
    "        x = torch.mean(lstm_output, dim = 1)\n",
    "        x = self.fc(x)\n",
    "        return x, lstm_output\n",
    "     "
   ]
  },
  {
   "cell_type": "code",
   "execution_count": 7,
   "metadata": {},
   "outputs": [],
   "source": [
    "model = ELMo(cnn_config = {'character_embedding_size': 16, \n",
    "                           'num_filters': 32, \n",
    "                           'kernel_size': 5, \n",
    "                           'max_word_length': 16, \n",
    "                           'char_vocab_size': len(character_vocab)}, \n",
    "             elmo_config = {'num_layers': 3,\n",
    "                            'word_embedding_dim': 300,\n",
    "                            'vocab_size': 1000}, \n",
    "             char_vocab_size = len(character_vocab)).to(device)\n"
   ]
  },
  {
   "cell_type": "code",
   "execution_count": null,
   "metadata": {},
   "outputs": [],
   "source": []
  },
  {
   "cell_type": "code",
   "execution_count": 11,
   "metadata": {},
   "outputs": [
    {
     "ename": "ValueError",
     "evalue": "not enough values to unpack (expected 2, got 1)",
     "output_type": "error",
     "traceback": [
      "\u001b[0;31m---------------------------------------------------------------------------\u001b[0m",
      "\u001b[0;31mValueError\u001b[0m                                Traceback (most recent call last)",
      "\u001b[0;32m<ipython-input-11-39d1981e2e44>\u001b[0m in \u001b[0;36m<module>\u001b[0;34m\u001b[0m\n\u001b[0;32m----> 1\u001b[0;31m \u001b[0;32mfor\u001b[0m \u001b[0mi\u001b[0m\u001b[0;34m,\u001b[0m \u001b[0;34m(\u001b[0m\u001b[0mx\u001b[0m\u001b[0;34m,\u001b[0m \u001b[0my\u001b[0m\u001b[0;34m)\u001b[0m \u001b[0;32min\u001b[0m \u001b[0menumerate\u001b[0m\u001b[0;34m(\u001b[0m\u001b[0mtrain_loader\u001b[0m\u001b[0;34m)\u001b[0m\u001b[0;34m:\u001b[0m\u001b[0;34m\u001b[0m\u001b[0;34m\u001b[0m\u001b[0m\n\u001b[0m\u001b[1;32m      2\u001b[0m     \u001b[0mx\u001b[0m \u001b[0;34m=\u001b[0m \u001b[0mx\u001b[0m\u001b[0;34m[\u001b[0m\u001b[0;36m0\u001b[0m\u001b[0;34m]\u001b[0m\u001b[0;34m\u001b[0m\u001b[0;34m\u001b[0m\u001b[0m\n\u001b[1;32m      3\u001b[0m     \u001b[0mx\u001b[0m \u001b[0;34m=\u001b[0m \u001b[0mx\u001b[0m\u001b[0;34m.\u001b[0m\u001b[0mto\u001b[0m\u001b[0;34m(\u001b[0m\u001b[0mdevice\u001b[0m\u001b[0;34m)\u001b[0m\u001b[0;34m\u001b[0m\u001b[0;34m\u001b[0m\u001b[0m\n\u001b[1;32m      4\u001b[0m     \u001b[0;31m# model(x)\u001b[0m\u001b[0;34m\u001b[0m\u001b[0;34m\u001b[0m\u001b[0;34m\u001b[0m\u001b[0m\n\u001b[1;32m      5\u001b[0m     \u001b[0;31m# break\u001b[0m\u001b[0;34m\u001b[0m\u001b[0;34m\u001b[0m\u001b[0;34m\u001b[0m\u001b[0m\n",
      "\u001b[0;31mValueError\u001b[0m: not enough values to unpack (expected 2, got 1)"
     ]
    }
   ],
   "source": [
    "for i, (x, y) in enumerate(train_loader):\n",
    "    x = x[0]\n",
    "    x = x.to(device)\n",
    "    # model(x)\n",
    "    # break\n",
    "    print(x)\n",
    "    break"
   ]
  }
 ],
 "metadata": {
  "kernelspec": {
   "display_name": "smai",
   "language": "python",
   "name": "python3"
  },
  "language_info": {
   "codemirror_mode": {
    "name": "ipython",
    "version": 3
   },
   "file_extension": ".py",
   "mimetype": "text/x-python",
   "name": "python",
   "nbconvert_exporter": "python",
   "pygments_lexer": "ipython3",
   "version": "3.7.16"
  }
 },
 "nbformat": 4,
 "nbformat_minor": 2
}
