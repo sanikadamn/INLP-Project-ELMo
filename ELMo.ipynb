{
 "cells": [
  {
   "cell_type": "code",
   "execution_count": 1,
   "metadata": {},
   "outputs": [
    {
     "name": "stderr",
     "output_type": "stream",
     "text": [
      "/home2/sanika/miniconda3/envs/smai/lib/python3.7/site-packages/tqdm/auto.py:21: TqdmWarning: IProgress not found. Please update jupyter and ipywidgets. See https://ipywidgets.readthedocs.io/en/stable/user_install.html\n",
      "  from .autonotebook import tqdm as notebook_tqdm\n"
     ]
    }
   ],
   "source": [
    "import torch\n",
    "import torch.nn as nn\n",
    "from pp import fix, get_char_idx, get_char_idx_flat, get_loaders"
   ]
  },
  {
   "cell_type": "code",
   "execution_count": 2,
   "metadata": {},
   "outputs": [],
   "source": [
    "device = torch.device(\"cuda\" if torch.cuda.is_available() else \"cpu\")"
   ]
  },
  {
   "cell_type": "code",
   "execution_count": 3,
   "metadata": {},
   "outputs": [],
   "source": [
    "train_loader, dev_loader, test_loader, train_flat_loader, dev_flat_loader, test_flat_loader, char_to_idk, idx_to_char, train_tensor = get_loaders('/scratch/sanika/content/sample_data/fulldataset_dedup_final.txt')"
   ]
  },
  {
   "cell_type": "code",
   "execution_count": 54,
   "metadata": {},
   "outputs": [],
   "source": [
    "# make the character embedding and convolutional layer with max pooling\n",
    "class CharCNN(nn.Module):\n",
    "    def __init__(self, character_embedding_size, num_filters, kernel_size, max_word_length, char_vocab_size, word_embedding_dim, device = device):\n",
    "        super(CharCNN, self).__init__()\n",
    "        self.char_embedding = nn.Embedding(char_vocab_size, character_embedding_size)\n",
    "        self.conv_layers = nn.ModuleList([nn.Conv1d(character_embedding_size\n",
    "                                                    , num_filters, kernel_size) for _ in range(max_word_length - kernel_size + 1)])\n",
    "        self.fc = nn.Linear(num_filters * (max_word_length - kernel_size + 1), word_embedding_dim)\n",
    "    def forward(self, x):\n",
    "        # x is a batch of words. Each word is a list of characters (batch_size, max_word_length)\n",
    "        # first, we convert the characters to embeddings\n",
    "        x = self.char_embedding(x) # (batch_size, max_word_length, character_embedding_size)\n",
    "        x = x.permute(0, 2, 1) # (batch_size, character_embedding_size, max_word_length)\n",
    "        # now we run the convolutional layers\n",
    "        x = [conv(x) for conv in self.conv_layers]\n",
    "        # now we max pool\n",
    "        x = [torch.max(torch.relu(conv), dim = 2)[0] for conv in x]\n",
    "        # now we concatenate the results\n",
    "        x = torch.cat(x, dim = 1) # (batch_size, num_filters * (max_word_length - kernel_size + 1))\n",
    "        # finally, we run the fully connected layer\n",
    "        x = self.fc(x)\n",
    "        return x \n",
    "\n",
    "# ELMo part\n",
    "class ELMo(nn.Module):\n",
    "    def __init__(self, cnn_config, elmo_config, char_vocab_size):\n",
    "        # input to this is a batch of sentences. Each sentence is a list of words. Each word is a list of characters.\n",
    "        super(ELMo, self).__init__()\n",
    "        # first, we convert the token to a representation using character embeddings\n",
    "        self.char_cnn = CharCNN(cnn_config['character_embedding_size'], \n",
    "                                cnn_config['num_filters'], \n",
    "                                cnn_config['kernel_size'], \n",
    "                                cnn_config['max_word_length'], \n",
    "                                cnn_config['char_vocab_size'],\n",
    "                                elmo_config['word_embedding_dim'],\n",
    "                                device = device)\n",
    "        self.lstm1 = nn.LSTM(elmo_config['word_embedding_dim'], \n",
    "                             hidden_size=elmo_config['lstm_hidden_size'], \n",
    "                             num_layers=elmo_config['lstm_num_layers'], \n",
    "                             batch_first = True, \n",
    "                             bidirectional = True)\n",
    "        self.lstm2 = nn.LSTM(elmo_config['word_embedding_dim'],\n",
    "                                hidden_size=elmo_config['lstm_hidden_size'], \n",
    "                                num_layers=elmo_config['lstm_num_layers'], \n",
    "                                batch_first = True, \n",
    "                                bidirectional = True)\n",
    "        \n",
    "        self.interpolation_linear = nn.Linear(3, 1)\n",
    "        self.lambdas = nn.Parameter(torch.tensor([0.33, 0.33, 0.33], \n",
    "                                                 device = device, dtype=torch.float32))\n",
    "\n",
    "    def forward(self, x):\n",
    "        # character cnn\n",
    "        x = [self.char_cnn(sentence) for sentence in x]\n",
    "        # lstm1\n",
    "        x = torch.stack(x, dim=1) \n",
    "        x = x.permute(1, 0, 2) # (batch_size, max_sentence_length, num_filters * (max_word_length - kernel_size + 1))\n",
    "        lstm1, _ = self.lstm1(x)\n",
    "        # concatenate the outputs from the forward and backward LSTMs to get a tensor of dimension same as x\n",
    "        lstm1 = torch.cat((lstm1[:, :, :self.lstm1.hidden_size], lstm1[:, :, self.lstm1.hidden_size:]), dim=2)\n",
    "        lstm2_input = lstm1 + x\n",
    "        # lstm2\n",
    "        lstm2, _ = self.lstm2(lstm2_input)\n",
    "        # concatenate the outputs from the forward and backward LSTMs to get a tensor of dimension same as x\n",
    "        lstm2 = torch.cat((lstm2[:, :, :self.lstm2.hidden_size], lstm2[:, :, self.lstm2.hidden_size:]), dim=2)\n",
    "\n",
    "        # interpolation\n",
    "        alpha = torch.nn.functional.softmax(self.lambdas, dim = 0)\n",
    "        x = alpha[0] * lstm1 + alpha[1] * lstm2 + alpha[2] * x\n",
    "        # output of dimension (batch_size, max_sentence_length, 2 * lstm_hidden_size)\n",
    "        \n",
    "        return x\n",
    " "
   ]
  },
  {
   "cell_type": "code",
   "execution_count": 55,
   "metadata": {},
   "outputs": [],
   "source": [
    "model = ELMo(cnn_config = {'character_embedding_size': 16, \n",
    "                           'num_filters': 32, \n",
    "                           'kernel_size': 5, \n",
    "                           'max_word_length': 16, \n",
    "                           'char_vocab_size': len(char_to_idk)}, \n",
    "             elmo_config = {'lstm_hidden_size': 150, \n",
    "                            'lstm_num_layers': 1,\n",
    "                            'word_embedding_dim': 300}, \n",
    "             char_vocab_size = len(char_to_idk)).to(device)\n"
   ]
  },
  {
   "cell_type": "code",
   "execution_count": 56,
   "metadata": {},
   "outputs": [
    {
     "name": "stdout",
     "output_type": "stream",
     "text": [
      "torch.Size([32, 30, 300])\n"
     ]
    },
    {
     "name": "stderr",
     "output_type": "stream",
     "text": [
      "/home2/sanika/miniconda3/envs/smai/lib/python3.7/site-packages/ipykernel_launcher.py:5: UserWarning: To copy construct from a tensor, it is recommended to use sourceTensor.clone().detach() or sourceTensor.clone().detach().requires_grad_(True), rather than torch.tensor(sourceTensor).\n",
      "  \"\"\"\n"
     ]
    }
   ],
   "source": [
    "# run a forward pass\n",
    "# enumerate once through the data loader\n",
    "for i, x in enumerate(train_loader):\n",
    "    # convert x to tensor\n",
    "    x = [torch.tensor(sentence, device = device) for sentence in x]\n",
    "    output = model(x[0])\n",
    "    print(output.shape)\n",
    "    break"
   ]
  }
 ],
 "metadata": {
  "kernelspec": {
   "display_name": "smai",
   "language": "python",
   "name": "python3"
  },
  "language_info": {
   "codemirror_mode": {
    "name": "ipython",
    "version": 3
   },
   "file_extension": ".py",
   "mimetype": "text/x-python",
   "name": "python",
   "nbconvert_exporter": "python",
   "pygments_lexer": "ipython3",
   "version": "3.7.16"
  }
 },
 "nbformat": 4,
 "nbformat_minor": 2
}
