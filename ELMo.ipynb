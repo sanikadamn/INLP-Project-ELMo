{
 "cells": [
  {
   "cell_type": "code",
   "execution_count": 1,
   "metadata": {},
   "outputs": [],
   "source": [
    "import torch\n",
    "import torch.nn as nn"
   ]
  },
  {
   "cell_type": "code",
   "execution_count": 2,
   "metadata": {},
   "outputs": [],
   "source": [
    "device = torch.device(\"cuda\" if torch.cuda.is_available() else \"cpu\")"
   ]
  },
  {
   "cell_type": "code",
   "execution_count": null,
   "metadata": {},
   "outputs": [],
   "source": [
    "# make the character embedding and convolutional layer with max pooling\n",
    "class CharCNN(nn.Module):\n",
    "    def __init__(self, character_embedding_size, num_filters, kernel_size, max_word_length, char_vocab_size):\n",
    "        super(CharCNN, self).__init__()\n",
    "        self.char_embedding = nn.Embedding(char_vocab_size, character_embedding_size)\n",
    "        self.conv_layers = nn.ModuleList([nn.Conv1d(character_embedding_size\n",
    "                                                    , num_filters, kernel_size) for _ in range(max_word_length - kernel_size + 1)])\n",
    "    \n",
    "    def forward(self, x):\n",
    "        # x is a batch of words. Each word is a list of characters (batch_size, max_word_length)\n",
    "        # first, we convert the characters to embeddings\n",
    "        x = self.char_embedding(x) # (batch_size, max_word_length, character_embedding_size)\n",
    "        x = x.permute(0, 2, 1) # (batch_size, character_embedding_size, max_word_length)\n",
    "        # now we run the convolutional layers\n",
    "        x = [conv(x) for conv in self.conv_layers]\n",
    "        # now we max pool\n",
    "        x = [torch.max(torch.relu(conv), dim = 2)[0] for conv in x]\n",
    "        # now we concatenate the results\n",
    "        x = torch.cat(x, dim = 1) # (batch_size, num_filters * (max_word_length - kernel_size + 1))\n",
    "        return x \n",
    "\n",
    "# ELMo part\n",
    "class ELMo(nn.Module):\n",
    "    def __init__(self, cnn_config, elmo_config, char_vocab_size):\n",
    "        # input to this is a batch of sentences. Each sentence is a list of words. Each word is a list of characters.\n",
    "        super(ELMo, self).__init__()\n",
    "        # first, we convert the token to a representation using character embeddings\n",
    "        self.char_cnn = CharCNN(cnn_config['character_embedding_size'], \n",
    "                                cnn_config['num_filters'], \n",
    "                                cnn_config['kernel_size'], \n",
    "                                cnn_config['max_word_length'], \n",
    "                                cnn_config['char_vocab_size'])\n",
    "        self.lstm1 = nn.LSTM(cnn_config['num_filters'] * (cnn_config['max_word_length'] - cnn_config['kernel_size'] + 1), \n",
    "                             hidden_size=elmo_config['lstm_hidden_size'], \n",
    "                             num_layers=elmo_config['lstm_num_layers'], \n",
    "                             batch_first = True, \n",
    "                             bidirectional = True)\n",
    "        self.lstm2 = nn.LSTM(cnn_config['num_filters'] * (cnn_config['max_word_length'] - cnn_config['kernel_size'] + 1),\n",
    "                                hidden_size=elmo_config['lstm_hidden_size'], \n",
    "                                num_layers=elmo_config['lstm_num_layers'], \n",
    "                                batch_first = True, \n",
    "                                bidirectional = True)\n",
    "        \n",
    "        self.interpolation_linear = nn.Linear(3, 1)\n",
    "        self.lambdas = nn.Parameter(torch.tensor([0.33, 0.33, 0.33], \n",
    "                                                 device = device, dtype=torch.float32))\n",
    "\n",
    "    def forward(self, x):\n",
    "        # character cnn\n",
    "        x = [self.char_cnn(sentence) for sentence in x]\n",
    "        # lstm1\n",
    "        x = [torch.unsqueeze(sentence, 0) for sentence in x]\n",
    "        x = torch.cat(x, dim = 0)\n",
    "        lstm1, _ = self.lstm1(x)\n",
    "        # lstm2\n",
    "        lstm2, _ = self.lstm2(lstm1)\n",
    "\n",
    "        # interpolation\n",
    "        alpha = torch.nn.functional.softmax(self.lambdas, dim = 0)\n",
    "        x = alpha[0] * lstm1 + alpha[1] * lstm2 + alpha[2] * x\n",
    "        return x\n",
    "\n",
    "\n",
    "    \n",
    "\n"
   ]
  }
 ],
 "metadata": {
  "kernelspec": {
   "display_name": "smai",
   "language": "python",
   "name": "python3"
  },
  "language_info": {
   "codemirror_mode": {
    "name": "ipython",
    "version": 3
   },
   "file_extension": ".py",
   "mimetype": "text/x-python",
   "name": "python",
   "nbconvert_exporter": "python",
   "pygments_lexer": "ipython3",
   "version": "3.7.16"
  }
 },
 "nbformat": 4,
 "nbformat_minor": 2
}
