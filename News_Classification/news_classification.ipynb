{
 "cells": [
  {
   "cell_type": "code",
   "execution_count": 1,
   "metadata": {},
   "outputs": [],
   "source": [
    "import pandas as pd\n",
    "import numpy as np\n",
    "import torch\n",
    "from torch.utils.data import DataLoader, Dataset\n",
    "import torch.nn as nn\n",
    "from tqdm import tqdm\n",
    "torch.manual_seed(13)\n",
    "from news_classification_models import NewsClassification, NewsClassification_WithoutELMo\n",
    "from news_classification_preprocessing import NewsClassificationDataset, EmbeddingDataset, WordLevelVocab\n",
    "from sklearn.metrics import f1_score, precision_score, recall_score\n",
    "import sys\n",
    "sys.path.append('..')\n",
    "from ELMO import ELMo\n",
    "import wandb\n"
   ]
  },
  {
   "cell_type": "code",
   "execution_count": 2,
   "metadata": {},
   "outputs": [
    {
     "data": {
      "text/plain": [
       "device(type='cuda')"
      ]
     },
     "execution_count": 2,
     "metadata": {},
     "output_type": "execute_result"
    }
   ],
   "source": [
    "device = torch.device('cuda' if torch.cuda.is_available() else 'cpu')\n",
    "device"
   ]
  },
  {
   "cell_type": "code",
   "execution_count": 3,
   "metadata": {},
   "outputs": [],
   "source": [
    "train = pd.read_csv('hindi-train.csv', sep=\"\\t\", encoding='utf-8', header=None)\n",
    "val = pd.read_csv('hindi-test.csv', sep=\"\\t\", encoding='utf-8', header=None)"
   ]
  },
  {
   "cell_type": "code",
   "execution_count": 4,
   "metadata": {},
   "outputs": [],
   "source": [
    "# remove lines where values are nan\n",
    "train = train.dropna()\n",
    "val = val.dropna()"
   ]
  },
  {
   "cell_type": "code",
   "execution_count": 5,
   "metadata": {},
   "outputs": [],
   "source": [
    "# load data (csv)\n",
    "# train = pd.read_csv('indicnlp-news-articles/ta/ta-train.csv')\n",
    "# test = pd.read_csv('indicnlp-news-articles/ta/ta-test.csv')\n",
    "# val = pd.read_csv('indicnlp-news-articles/ta/ta-valid.csv')"
   ]
  },
  {
   "cell_type": "code",
   "execution_count": 6,
   "metadata": {},
   "outputs": [],
   "source": [
    "# the data is the second column, labels are the first\n",
    "train_data = train.iloc[:, 1].values\n",
    "train_labels = train.iloc[:, 0].values\n",
    "# test_data = test.iloc[:, 1].values\n",
    "# test_labels = test.iloc[:, 0].values\n",
    "val_data = val.iloc[:, 1].values\n",
    "val_labels = val.iloc[:, 0].values"
   ]
  },
  {
   "cell_type": "code",
   "execution_count": 7,
   "metadata": {},
   "outputs": [],
   "source": [
    "# conver the labels into values\n",
    "label_map = {label: i for i, label in enumerate(set(train_labels))}\n",
    "train_labels = [label_map[label] for label in train_labels]\n",
    "val_labels = [label_map[label] for label in val_labels]"
   ]
  },
  {
   "cell_type": "code",
   "execution_count": 8,
   "metadata": {},
   "outputs": [],
   "source": [
    "char_vocab = torch.load('../ELMo/char_vocab_hindi.pt')\n",
    "word_vocab = torch.load('../ELMo/word_vocab_hindi.pt')"
   ]
  },
  {
   "cell_type": "code",
   "execution_count": 9,
   "metadata": {},
   "outputs": [],
   "source": [
    "elmo = ELMo(cnn_config = {'character_embedding_size': 16, \n",
    "                           'num_filters': 32, \n",
    "                           'kernel_size': 5, \n",
    "                           'max_word_length': 10, \n",
    "                           'char_vocab_size': char_vocab.num_chars}, \n",
    "             elmo_config = {'num_layers': 3,\n",
    "                            'word_embedding_dim': 150,\n",
    "                            'vocab_size': word_vocab.num_words}, \n",
    "             char_vocab_size = char_vocab.num_chars).to(device)"
   ]
  },
  {
   "cell_type": "code",
   "execution_count": 10,
   "metadata": {},
   "outputs": [
    {
     "data": {
      "text/plain": [
       "<All keys matched successfully>"
      ]
     },
     "execution_count": 10,
     "metadata": {},
     "output_type": "execute_result"
    }
   ],
   "source": [
    "# load model\n",
    "elmo.load_state_dict(torch.load('../ELMo/elmo_hindi.pt'))"
   ]
  },
  {
   "cell_type": "code",
   "execution_count": 11,
   "metadata": {},
   "outputs": [
    {
     "data": {
      "text/plain": [
       "14"
      ]
     },
     "execution_count": 11,
     "metadata": {},
     "output_type": "execute_result"
    }
   ],
   "source": [
    "num_classes = len(set(train_labels))\n",
    "num_classes"
   ]
  },
  {
   "cell_type": "code",
   "execution_count": 12,
   "metadata": {},
   "outputs": [],
   "source": [
    "def train_news(model, train_loader, val_loader, optimizer, criterion, epochs):\n",
    "    model.train()\n",
    "    model.to(device)\n",
    "    for epoch in range(epochs):\n",
    "        model.train()\n",
    "        total_loss = 0\n",
    "        predictions = []\n",
    "        targets = []\n",
    "        predictions_val = []\n",
    "        targets_val = []\n",
    "        loss_val = 0\n",
    "        for batch in tqdm(train_loader):\n",
    "            optimizer.zero_grad()\n",
    "            sentences, labels = batch\n",
    "            sentences = sentences.to(device)\n",
    "            labels = labels.to(device)\n",
    "            output = model(sentences)\n",
    "            onehot_labels = torch.nn.functional.one_hot(labels, num_classes=num_classes).float()\n",
    "            loss = criterion(output, onehot_labels)\n",
    "            loss.backward()\n",
    "            optimizer.step()   \n",
    "            total_loss += loss.item()\n",
    "            predictions.extend(torch.argmax(output, dim=1).tolist())\n",
    "            targets.extend(labels.tolist())\n",
    "        model.eval()\n",
    "        with torch.no_grad():\n",
    "            for batch in val_loader:\n",
    "                sentences, labels = batch\n",
    "                sentences = sentences.to(device)\n",
    "                labels = labels.to(device)\n",
    "                output = model(sentences)\n",
    "                onehot_labels = torch.nn.functional.one_hot(labels, num_classes=num_classes).float()\n",
    "                loss = criterion(output, onehot_labels)\n",
    "                predictions_val.extend(torch.argmax(output, dim=1).tolist())\n",
    "                targets_val.extend(labels.tolist())\n",
    "                loss_val += loss.item()\n",
    "\n",
    "        wandb.log({\"Train Loss\": total_loss/len(train_loader), \n",
    "                   \"Train Accuracy\": torch.sum(torch.tensor(predictions) == torch.tensor(targets)).item()/len(targets), \n",
    "                   \"Val Accuracy\": torch.sum(torch.tensor(predictions_val) == torch.tensor(targets_val)).item()/len(targets_val),\n",
    "                   \"Val Loss\": loss_val/len(val_loader),\n",
    "                   \"Val F1\": f1_score(targets_val, predictions_val, average='macro', zero_division=0),\n",
    "                   \"Val Precision\": precision_score(targets_val, predictions_val, average='macro', zero_division=0),\n",
    "                   \"Val Recall\": recall_score(targets_val, predictions_val, average='macro', zero_division=0)                     \n",
    "                   })\n",
    "        print(f\"Epoch {epoch+1}\")\n",
    "        # print(f\"Train Loss: {total_loss/len(train_loader)}\")\n",
    "        # print(f\"Train Accuracy: {torch.sum(torch.tensor(predictions) == torch.tensor(targets)).item()/len(targets)}\")  \n",
    "        # print(f\"Val Accuracy: {torch.sum(torch.tensor(predictions_val) == torch.tensor(targets_val)).item()/len(targets_val)}\")\n",
    "        # print(f\"Val Loss: {loss_val/len(val_loader)}\")\n"
   ]
  },
  {
   "cell_type": "code",
   "execution_count": 13,
   "metadata": {},
   "outputs": [],
   "source": [
    "configs = [\n",
    "    {'model': 'ELMo', 'language': 'Hindi', 'dataset': 'BBC Hindi News', 'num_classes': num_classes, 'epochs': 15, 'batch_size': 32, 'lr': 0.0005},\n",
    "    # {'model': 'ELMo', 'language': 'Hindi', 'dataset': 'BBC Hindi News', 'num_classes': num_classes, 'epochs': 15, 'batch_size': 64, 'lr': 0.0001},\n",
    "    # {'model': 'ELMo', 'language': 'Hindi', 'dataset': 'BBC Hindi News', 'num_classes': num_classes, 'epochs': 15, 'batch_size': 64, 'lr': 0.00005},\n",
    "    {'model': 'ELMo', 'language': 'Hindi', 'dataset': 'BBC Hindi News', 'num_classes': num_classes, 'epochs': 15, 'batch_size': 32, 'lr': 0.001}\n",
    "]"
   ]
  },
  {
   "cell_type": "code",
   "execution_count": 28,
   "metadata": {},
   "outputs": [
    {
     "data": {
      "text/html": [
       "wandb version 0.16.6 is available!  To upgrade, please run:\n",
       " $ pip install wandb --upgrade"
      ],
      "text/plain": [
       "<IPython.core.display.HTML object>"
      ]
     },
     "metadata": {},
     "output_type": "display_data"
    },
    {
     "data": {
      "text/html": [
       "Tracking run with wandb version 0.16.0"
      ],
      "text/plain": [
       "<IPython.core.display.HTML object>"
      ]
     },
     "metadata": {},
     "output_type": "display_data"
    },
    {
     "data": {
      "text/html": [
       "Run data is saved locally in <code>/home2/sanika/inlp/INLP-Project-ELMo/News_Classification/wandb/run-20240508_001205-ztpzbeg6</code>"
      ],
      "text/plain": [
       "<IPython.core.display.HTML object>"
      ]
     },
     "metadata": {},
     "output_type": "display_data"
    },
    {
     "data": {
      "text/html": [
       "Syncing run <strong><a href='https://wandb.ai/project-ai-scream/INLP-Project-ELMo/runs/ztpzbeg6' target=\"_blank\">Hindi with ELMo</a></strong> to <a href='https://wandb.ai/project-ai-scream/INLP-Project-ELMo' target=\"_blank\">Weights & Biases</a> (<a href='https://wandb.me/run' target=\"_blank\">docs</a>)<br/>"
      ],
      "text/plain": [
       "<IPython.core.display.HTML object>"
      ]
     },
     "metadata": {},
     "output_type": "display_data"
    },
    {
     "data": {
      "text/html": [
       " View project at <a href='https://wandb.ai/project-ai-scream/INLP-Project-ELMo' target=\"_blank\">https://wandb.ai/project-ai-scream/INLP-Project-ELMo</a>"
      ],
      "text/plain": [
       "<IPython.core.display.HTML object>"
      ]
     },
     "metadata": {},
     "output_type": "display_data"
    },
    {
     "data": {
      "text/html": [
       " View run at <a href='https://wandb.ai/project-ai-scream/INLP-Project-ELMo/runs/ztpzbeg6' target=\"_blank\">https://wandb.ai/project-ai-scream/INLP-Project-ELMo/runs/ztpzbeg6</a>"
      ],
      "text/plain": [
       "<IPython.core.display.HTML object>"
      ]
     },
     "metadata": {},
     "output_type": "display_data"
    },
    {
     "name": "stderr",
     "output_type": "stream",
     "text": [
      "100%|██████████| 109/109 [00:23<00:00,  4.73it/s]\n"
     ]
    },
    {
     "name": "stdout",
     "output_type": "stream",
     "text": [
      "Epoch 1\n"
     ]
    },
    {
     "name": "stderr",
     "output_type": "stream",
     "text": [
      "100%|██████████| 109/109 [00:22<00:00,  4.93it/s]\n"
     ]
    },
    {
     "name": "stdout",
     "output_type": "stream",
     "text": [
      "Epoch 2\n"
     ]
    },
    {
     "name": "stderr",
     "output_type": "stream",
     "text": [
      "100%|██████████| 109/109 [00:21<00:00,  5.05it/s]\n"
     ]
    },
    {
     "name": "stdout",
     "output_type": "stream",
     "text": [
      "Epoch 3\n"
     ]
    },
    {
     "name": "stderr",
     "output_type": "stream",
     "text": [
      "100%|██████████| 109/109 [00:21<00:00,  4.99it/s]\n"
     ]
    },
    {
     "name": "stdout",
     "output_type": "stream",
     "text": [
      "Epoch 4\n"
     ]
    },
    {
     "name": "stderr",
     "output_type": "stream",
     "text": [
      "100%|██████████| 109/109 [00:21<00:00,  5.05it/s]\n"
     ]
    },
    {
     "name": "stdout",
     "output_type": "stream",
     "text": [
      "Epoch 5\n"
     ]
    },
    {
     "name": "stderr",
     "output_type": "stream",
     "text": [
      "100%|██████████| 109/109 [00:20<00:00,  5.27it/s]\n"
     ]
    },
    {
     "name": "stdout",
     "output_type": "stream",
     "text": [
      "Epoch 6\n"
     ]
    },
    {
     "name": "stderr",
     "output_type": "stream",
     "text": [
      "100%|██████████| 109/109 [00:21<00:00,  4.99it/s]\n"
     ]
    },
    {
     "name": "stdout",
     "output_type": "stream",
     "text": [
      "Epoch 7\n"
     ]
    },
    {
     "name": "stderr",
     "output_type": "stream",
     "text": [
      "100%|██████████| 109/109 [00:21<00:00,  5.17it/s]\n"
     ]
    },
    {
     "name": "stdout",
     "output_type": "stream",
     "text": [
      "Epoch 8\n"
     ]
    },
    {
     "name": "stderr",
     "output_type": "stream",
     "text": [
      "100%|██████████| 109/109 [00:21<00:00,  4.98it/s]\n"
     ]
    },
    {
     "name": "stdout",
     "output_type": "stream",
     "text": [
      "Epoch 9\n"
     ]
    },
    {
     "name": "stderr",
     "output_type": "stream",
     "text": [
      "100%|██████████| 109/109 [00:23<00:00,  4.60it/s]\n"
     ]
    },
    {
     "name": "stdout",
     "output_type": "stream",
     "text": [
      "Epoch 10\n"
     ]
    },
    {
     "name": "stderr",
     "output_type": "stream",
     "text": [
      "100%|██████████| 109/109 [00:22<00:00,  4.83it/s]\n"
     ]
    },
    {
     "name": "stdout",
     "output_type": "stream",
     "text": [
      "Epoch 11\n"
     ]
    },
    {
     "name": "stderr",
     "output_type": "stream",
     "text": [
      "100%|██████████| 109/109 [00:22<00:00,  4.80it/s]\n"
     ]
    },
    {
     "name": "stdout",
     "output_type": "stream",
     "text": [
      "Epoch 12\n"
     ]
    },
    {
     "name": "stderr",
     "output_type": "stream",
     "text": [
      "100%|██████████| 109/109 [00:23<00:00,  4.65it/s]\n"
     ]
    },
    {
     "name": "stdout",
     "output_type": "stream",
     "text": [
      "Epoch 13\n"
     ]
    },
    {
     "name": "stderr",
     "output_type": "stream",
     "text": [
      "100%|██████████| 109/109 [00:23<00:00,  4.57it/s]\n"
     ]
    },
    {
     "name": "stdout",
     "output_type": "stream",
     "text": [
      "Epoch 14\n"
     ]
    },
    {
     "name": "stderr",
     "output_type": "stream",
     "text": [
      "100%|██████████| 109/109 [00:24<00:00,  4.54it/s]\n"
     ]
    },
    {
     "name": "stdout",
     "output_type": "stream",
     "text": [
      "Epoch 15\n"
     ]
    },
    {
     "name": "stderr",
     "output_type": "stream",
     "text": [
      "wandb: WARNING Source type is set to 'repo' but some required information is missing from the environment. A job will not be created from this run. See https://docs.wandb.ai/guides/launch/create-job\n",
      "\u001b[34m\u001b[1mwandb\u001b[0m: \u001b[32m\u001b[41mERROR\u001b[0m Control-C detected -- Run data was not synced\n"
     ]
    },
    {
     "data": {
      "application/vnd.jupyter.widget-view+json": {
       "model_id": "06e384d376964b3a94d11d799e841827",
       "version_major": 2,
       "version_minor": 0
      },
      "text/plain": [
       "VBox(children=(Label(value='Waiting for wandb.init()...\\r'), FloatProgress(value=0.011113879726164871, max=1.0…"
      ]
     },
     "metadata": {},
     "output_type": "display_data"
    }
   ],
   "source": [
    "for config in configs:\n",
    "    wandb.init(project='INLP-Project-ELMo', group='News Classification', name='Hindi with ELMo', config=config)\n",
    "\n",
    "    dataset = NewsClassificationDataset(train_data, train_labels, char_vocab)\n",
    "    train_loader = DataLoader(dataset, batch_size=config['batch_size'], collate_fn=dataset.collate_fn)\n",
    "    val_dataset = NewsClassificationDataset(val_data, val_labels, char_vocab)\n",
    "    val_loader = DataLoader(val_dataset, batch_size=32, collate_fn=val_dataset.collate_fn)\n",
    "    news_classification = NewsClassification(elmo, 300, num_classes)\n",
    "    wandb.watch(news_classification)\n",
    "\n",
    "    optimizer = torch.optim.Adam(news_classification.parameters(), lr=config['lr'])\n",
    "    criterion = nn.CrossEntropyLoss()\n",
    "    train_news(news_classification, train_loader, val_loader, optimizer, criterion, config['epochs'])\n",
    "    wandb.join()"
   ]
  },
  {
   "cell_type": "code",
   "execution_count": 14,
   "metadata": {},
   "outputs": [],
   "source": [
    "configs = [\n",
    "    # {'model': 'No ELMo', 'language': 'Hindi', 'dataset': 'BBC Hindi News', 'num_classes': num_classes, 'epochs': 15, 'batch_size': 32, 'lr': 0.00005},\n",
    "    # {'model': 'No ELMo', 'language': 'Hindi', 'dataset': 'BBC Hindi News', 'num_classes': num_classes, 'epochs': 15, 'batch_size': 64, 'lr': 0.0001},\n",
    "    # {'model': 'No ELMo', 'language': 'Hindi', 'dataset': 'BBC Hindi News', 'num_classes': num_classes, 'epochs': 15, 'batch_size': 64, 'lr': 0.00005},\n",
    "    {'model': 'No ELMo', 'language': 'Hindi', 'dataset': 'BBC Hindi News', 'num_classes': num_classes, 'epochs': 15, 'batch_size': 32, 'lr': 0.0001},\n",
    "    {'model': 'No ELMo', 'language': 'Hindi', 'dataset': 'BBC Hindi News', 'num_classes': num_classes, 'epochs': 15, 'batch_size': 32, 'lr': 0.0005}\n",
    "]"
   ]
  },
  {
   "cell_type": "code",
   "execution_count": 15,
   "metadata": {},
   "outputs": [
    {
     "name": "stderr",
     "output_type": "stream",
     "text": [
      "Failed to detect the name of this notebook, you can set it manually with the WANDB_NOTEBOOK_NAME environment variable to enable code saving.\n",
      "\u001b[34m\u001b[1mwandb\u001b[0m: Currently logged in as: \u001b[33msanika-damle\u001b[0m (\u001b[33mproject-ai-scream\u001b[0m). Use \u001b[1m`wandb login --relogin`\u001b[0m to force relogin\n"
     ]
    },
    {
     "data": {
      "text/html": [
       "wandb version 0.16.6 is available!  To upgrade, please run:\n",
       " $ pip install wandb --upgrade"
      ],
      "text/plain": [
       "<IPython.core.display.HTML object>"
      ]
     },
     "metadata": {},
     "output_type": "display_data"
    },
    {
     "data": {
      "text/html": [
       "Tracking run with wandb version 0.16.0"
      ],
      "text/plain": [
       "<IPython.core.display.HTML object>"
      ]
     },
     "metadata": {},
     "output_type": "display_data"
    },
    {
     "data": {
      "text/html": [
       "Run data is saved locally in <code>/home2/sanika/inlp/INLP-Project-ELMo/News_Classification/wandb/run-20240508_002420-va8e8boa</code>"
      ],
      "text/plain": [
       "<IPython.core.display.HTML object>"
      ]
     },
     "metadata": {},
     "output_type": "display_data"
    },
    {
     "data": {
      "text/html": [
       "Syncing run <strong><a href='https://wandb.ai/project-ai-scream/INLP-Project-ELMo/runs/va8e8boa' target=\"_blank\">Hindi without ELMo</a></strong> to <a href='https://wandb.ai/project-ai-scream/INLP-Project-ELMo' target=\"_blank\">Weights & Biases</a> (<a href='https://wandb.me/run' target=\"_blank\">docs</a>)<br/>"
      ],
      "text/plain": [
       "<IPython.core.display.HTML object>"
      ]
     },
     "metadata": {},
     "output_type": "display_data"
    },
    {
     "data": {
      "text/html": [
       " View project at <a href='https://wandb.ai/project-ai-scream/INLP-Project-ELMo' target=\"_blank\">https://wandb.ai/project-ai-scream/INLP-Project-ELMo</a>"
      ],
      "text/plain": [
       "<IPython.core.display.HTML object>"
      ]
     },
     "metadata": {},
     "output_type": "display_data"
    },
    {
     "data": {
      "text/html": [
       " View run at <a href='https://wandb.ai/project-ai-scream/INLP-Project-ELMo/runs/va8e8boa' target=\"_blank\">https://wandb.ai/project-ai-scream/INLP-Project-ELMo/runs/va8e8boa</a>"
      ],
      "text/plain": [
       "<IPython.core.display.HTML object>"
      ]
     },
     "metadata": {},
     "output_type": "display_data"
    },
    {
     "name": "stderr",
     "output_type": "stream",
     "text": [
      "100%|██████████| 109/109 [00:12<00:00,  8.78it/s]\n"
     ]
    },
    {
     "name": "stdout",
     "output_type": "stream",
     "text": [
      "Epoch 1\n"
     ]
    },
    {
     "name": "stderr",
     "output_type": "stream",
     "text": [
      "100%|██████████| 109/109 [00:12<00:00,  8.43it/s]\n"
     ]
    },
    {
     "name": "stdout",
     "output_type": "stream",
     "text": [
      "Epoch 2\n"
     ]
    },
    {
     "name": "stderr",
     "output_type": "stream",
     "text": [
      "100%|██████████| 109/109 [00:12<00:00,  8.91it/s]\n"
     ]
    },
    {
     "name": "stdout",
     "output_type": "stream",
     "text": [
      "Epoch 3\n"
     ]
    },
    {
     "name": "stderr",
     "output_type": "stream",
     "text": [
      "100%|██████████| 109/109 [00:12<00:00,  8.79it/s]\n"
     ]
    },
    {
     "name": "stdout",
     "output_type": "stream",
     "text": [
      "Epoch 4\n"
     ]
    },
    {
     "name": "stderr",
     "output_type": "stream",
     "text": [
      "100%|██████████| 109/109 [00:12<00:00,  8.79it/s]\n"
     ]
    },
    {
     "name": "stdout",
     "output_type": "stream",
     "text": [
      "Epoch 5\n"
     ]
    },
    {
     "name": "stderr",
     "output_type": "stream",
     "text": [
      "100%|██████████| 109/109 [00:12<00:00,  8.65it/s]\n"
     ]
    },
    {
     "name": "stdout",
     "output_type": "stream",
     "text": [
      "Epoch 6\n"
     ]
    },
    {
     "name": "stderr",
     "output_type": "stream",
     "text": [
      "100%|██████████| 109/109 [00:12<00:00,  8.77it/s]\n"
     ]
    },
    {
     "name": "stdout",
     "output_type": "stream",
     "text": [
      "Epoch 7\n"
     ]
    },
    {
     "name": "stderr",
     "output_type": "stream",
     "text": [
      "100%|██████████| 109/109 [00:12<00:00,  8.83it/s]\n"
     ]
    },
    {
     "name": "stdout",
     "output_type": "stream",
     "text": [
      "Epoch 8\n"
     ]
    },
    {
     "name": "stderr",
     "output_type": "stream",
     "text": [
      "100%|██████████| 109/109 [00:13<00:00,  8.37it/s]\n"
     ]
    },
    {
     "name": "stdout",
     "output_type": "stream",
     "text": [
      "Epoch 9\n"
     ]
    },
    {
     "name": "stderr",
     "output_type": "stream",
     "text": [
      "100%|██████████| 109/109 [00:12<00:00,  8.64it/s]\n"
     ]
    },
    {
     "name": "stdout",
     "output_type": "stream",
     "text": [
      "Epoch 10\n"
     ]
    },
    {
     "name": "stderr",
     "output_type": "stream",
     "text": [
      "100%|██████████| 109/109 [00:12<00:00,  8.73it/s]\n"
     ]
    },
    {
     "name": "stdout",
     "output_type": "stream",
     "text": [
      "Epoch 11\n"
     ]
    },
    {
     "name": "stderr",
     "output_type": "stream",
     "text": [
      "100%|██████████| 109/109 [00:12<00:00,  8.53it/s]\n"
     ]
    },
    {
     "name": "stdout",
     "output_type": "stream",
     "text": [
      "Epoch 12\n"
     ]
    },
    {
     "name": "stderr",
     "output_type": "stream",
     "text": [
      "100%|██████████| 109/109 [00:12<00:00,  9.05it/s]\n"
     ]
    },
    {
     "name": "stdout",
     "output_type": "stream",
     "text": [
      "Epoch 13\n"
     ]
    },
    {
     "name": "stderr",
     "output_type": "stream",
     "text": [
      "100%|██████████| 109/109 [00:12<00:00,  8.70it/s]\n"
     ]
    },
    {
     "name": "stdout",
     "output_type": "stream",
     "text": [
      "Epoch 14\n"
     ]
    },
    {
     "name": "stderr",
     "output_type": "stream",
     "text": [
      "100%|██████████| 109/109 [00:13<00:00,  8.17it/s]\n"
     ]
    },
    {
     "name": "stdout",
     "output_type": "stream",
     "text": [
      "Epoch 15\n"
     ]
    },
    {
     "name": "stderr",
     "output_type": "stream",
     "text": [
      "wandb: WARNING Source type is set to 'repo' but some required information is missing from the environment. A job will not be created from this run. See https://docs.wandb.ai/guides/launch/create-job\n"
     ]
    },
    {
     "data": {
      "application/vnd.jupyter.widget-view+json": {
       "model_id": "0cdee4a187bf42e18f7e4e986534e2b0",
       "version_major": 2,
       "version_minor": 0
      },
      "text/plain": [
       "VBox(children=(Label(value='0.005 MB of 0.005 MB uploaded\\r'), FloatProgress(value=1.0, max=1.0)))"
      ]
     },
     "metadata": {},
     "output_type": "display_data"
    },
    {
     "data": {
      "text/html": [
       "<style>\n",
       "    table.wandb td:nth-child(1) { padding: 0 10px; text-align: left ; width: auto;} td:nth-child(2) {text-align: left ; width: 100%}\n",
       "    .wandb-row { display: flex; flex-direction: row; flex-wrap: wrap; justify-content: flex-start; width: 100% }\n",
       "    .wandb-col { display: flex; flex-direction: column; flex-basis: 100%; flex: 1; padding: 10px; }\n",
       "    </style>\n",
       "<div class=\"wandb-row\"><div class=\"wandb-col\"><h3>Run history:</h3><br/><table class=\"wandb\"><tr><td>Train Accuracy</td><td>▁▅▅▅▅▅▅▅▅▅▅▅▇▆█</td></tr><tr><td>Train Loss</td><td>█▃▃▂▂▂▂▂▂▂▂▂▁▂▁</td></tr><tr><td>Val Accuracy</td><td>▁▁▁▁▁▁▁▁▁▁▁▁█▁▅</td></tr><tr><td>Val F1</td><td>▁▁▁▁▁▁▁▁▁▁▁▁█▁▅</td></tr><tr><td>Val Loss</td><td>█▄▄▄▄▃▃▃▄▃▃▂▂▃▁</td></tr><tr><td>Val Precision</td><td>▁▁▁▁▁▁▁▁▁▁▁██▁▆</td></tr><tr><td>Val Recall</td><td>▁▁▁▁▁▁▁▁▁▁▁▁█▁▅</td></tr></table><br/></div><div class=\"wandb-col\"><h3>Run summary:</h3><br/><table class=\"wandb\"><tr><td>Train Accuracy</td><td>0.42573</td></tr><tr><td>Train Loss</td><td>1.60443</td></tr><tr><td>Val Accuracy</td><td>0.42725</td></tr><tr><td>Val F1</td><td>0.05473</td></tr><tr><td>Val Loss</td><td>1.55942</td></tr><tr><td>Val Precision</td><td>0.04791</td></tr><tr><td>Val Recall</td><td>0.07718</td></tr></table><br/></div></div>"
      ],
      "text/plain": [
       "<IPython.core.display.HTML object>"
      ]
     },
     "metadata": {},
     "output_type": "display_data"
    },
    {
     "data": {
      "text/html": [
       " View run <strong style=\"color:#cdcd00\">Hindi without ELMo</strong> at: <a href='https://wandb.ai/project-ai-scream/INLP-Project-ELMo/runs/va8e8boa' target=\"_blank\">https://wandb.ai/project-ai-scream/INLP-Project-ELMo/runs/va8e8boa</a><br/>Synced 6 W&B file(s), 0 media file(s), 0 artifact file(s) and 0 other file(s)"
      ],
      "text/plain": [
       "<IPython.core.display.HTML object>"
      ]
     },
     "metadata": {},
     "output_type": "display_data"
    },
    {
     "data": {
      "text/html": [
       "Find logs at: <code>./wandb/run-20240508_002420-va8e8boa/logs</code>"
      ],
      "text/plain": [
       "<IPython.core.display.HTML object>"
      ]
     },
     "metadata": {},
     "output_type": "display_data"
    },
    {
     "data": {
      "text/html": [
       "wandb version 0.16.6 is available!  To upgrade, please run:\n",
       " $ pip install wandb --upgrade"
      ],
      "text/plain": [
       "<IPython.core.display.HTML object>"
      ]
     },
     "metadata": {},
     "output_type": "display_data"
    },
    {
     "data": {
      "text/html": [
       "Tracking run with wandb version 0.16.0"
      ],
      "text/plain": [
       "<IPython.core.display.HTML object>"
      ]
     },
     "metadata": {},
     "output_type": "display_data"
    },
    {
     "data": {
      "text/html": [
       "Run data is saved locally in <code>/home2/sanika/inlp/INLP-Project-ELMo/News_Classification/wandb/run-20240508_002812-82qj3lc1</code>"
      ],
      "text/plain": [
       "<IPython.core.display.HTML object>"
      ]
     },
     "metadata": {},
     "output_type": "display_data"
    },
    {
     "data": {
      "text/html": [
       "Syncing run <strong><a href='https://wandb.ai/project-ai-scream/INLP-Project-ELMo/runs/82qj3lc1' target=\"_blank\">Hindi without ELMo</a></strong> to <a href='https://wandb.ai/project-ai-scream/INLP-Project-ELMo' target=\"_blank\">Weights & Biases</a> (<a href='https://wandb.me/run' target=\"_blank\">docs</a>)<br/>"
      ],
      "text/plain": [
       "<IPython.core.display.HTML object>"
      ]
     },
     "metadata": {},
     "output_type": "display_data"
    },
    {
     "data": {
      "text/html": [
       " View project at <a href='https://wandb.ai/project-ai-scream/INLP-Project-ELMo' target=\"_blank\">https://wandb.ai/project-ai-scream/INLP-Project-ELMo</a>"
      ],
      "text/plain": [
       "<IPython.core.display.HTML object>"
      ]
     },
     "metadata": {},
     "output_type": "display_data"
    },
    {
     "data": {
      "text/html": [
       " View run at <a href='https://wandb.ai/project-ai-scream/INLP-Project-ELMo/runs/82qj3lc1' target=\"_blank\">https://wandb.ai/project-ai-scream/INLP-Project-ELMo/runs/82qj3lc1</a>"
      ],
      "text/plain": [
       "<IPython.core.display.HTML object>"
      ]
     },
     "metadata": {},
     "output_type": "display_data"
    },
    {
     "name": "stderr",
     "output_type": "stream",
     "text": [
      "100%|██████████| 109/109 [00:12<00:00,  9.00it/s]\n"
     ]
    },
    {
     "name": "stdout",
     "output_type": "stream",
     "text": [
      "Epoch 1\n"
     ]
    },
    {
     "name": "stderr",
     "output_type": "stream",
     "text": [
      "100%|██████████| 109/109 [00:12<00:00,  8.59it/s]\n"
     ]
    },
    {
     "name": "stdout",
     "output_type": "stream",
     "text": [
      "Epoch 2\n"
     ]
    },
    {
     "name": "stderr",
     "output_type": "stream",
     "text": [
      "100%|██████████| 109/109 [00:11<00:00,  9.09it/s]\n"
     ]
    },
    {
     "name": "stdout",
     "output_type": "stream",
     "text": [
      "Epoch 3\n"
     ]
    },
    {
     "name": "stderr",
     "output_type": "stream",
     "text": [
      "100%|██████████| 109/109 [00:13<00:00,  8.29it/s]\n"
     ]
    },
    {
     "name": "stdout",
     "output_type": "stream",
     "text": [
      "Epoch 4\n"
     ]
    },
    {
     "name": "stderr",
     "output_type": "stream",
     "text": [
      "100%|██████████| 109/109 [00:12<00:00,  8.56it/s]\n"
     ]
    },
    {
     "name": "stdout",
     "output_type": "stream",
     "text": [
      "Epoch 5\n"
     ]
    },
    {
     "name": "stderr",
     "output_type": "stream",
     "text": [
      "100%|██████████| 109/109 [00:12<00:00,  8.75it/s]\n"
     ]
    },
    {
     "name": "stdout",
     "output_type": "stream",
     "text": [
      "Epoch 6\n"
     ]
    },
    {
     "name": "stderr",
     "output_type": "stream",
     "text": [
      "100%|██████████| 109/109 [00:13<00:00,  8.37it/s]\n"
     ]
    },
    {
     "name": "stdout",
     "output_type": "stream",
     "text": [
      "Epoch 7\n"
     ]
    },
    {
     "name": "stderr",
     "output_type": "stream",
     "text": [
      "100%|██████████| 109/109 [00:12<00:00,  8.65it/s]\n"
     ]
    },
    {
     "name": "stdout",
     "output_type": "stream",
     "text": [
      "Epoch 8\n"
     ]
    },
    {
     "name": "stderr",
     "output_type": "stream",
     "text": [
      "100%|██████████| 109/109 [00:12<00:00,  9.05it/s]\n"
     ]
    },
    {
     "name": "stdout",
     "output_type": "stream",
     "text": [
      "Epoch 9\n"
     ]
    },
    {
     "name": "stderr",
     "output_type": "stream",
     "text": [
      "100%|██████████| 109/109 [00:12<00:00,  8.42it/s]\n"
     ]
    },
    {
     "name": "stdout",
     "output_type": "stream",
     "text": [
      "Epoch 10\n"
     ]
    },
    {
     "name": "stderr",
     "output_type": "stream",
     "text": [
      "100%|██████████| 109/109 [00:12<00:00,  8.49it/s]\n"
     ]
    },
    {
     "name": "stdout",
     "output_type": "stream",
     "text": [
      "Epoch 11\n"
     ]
    },
    {
     "name": "stderr",
     "output_type": "stream",
     "text": [
      "100%|██████████| 109/109 [00:13<00:00,  8.27it/s]\n"
     ]
    },
    {
     "name": "stdout",
     "output_type": "stream",
     "text": [
      "Epoch 12\n"
     ]
    },
    {
     "name": "stderr",
     "output_type": "stream",
     "text": [
      "100%|██████████| 109/109 [00:12<00:00,  8.62it/s]\n"
     ]
    },
    {
     "name": "stdout",
     "output_type": "stream",
     "text": [
      "Epoch 13\n"
     ]
    },
    {
     "name": "stderr",
     "output_type": "stream",
     "text": [
      "100%|██████████| 109/109 [00:12<00:00,  8.59it/s]\n"
     ]
    },
    {
     "name": "stdout",
     "output_type": "stream",
     "text": [
      "Epoch 14\n"
     ]
    },
    {
     "name": "stderr",
     "output_type": "stream",
     "text": [
      "100%|██████████| 109/109 [00:12<00:00,  8.96it/s]\n"
     ]
    },
    {
     "name": "stdout",
     "output_type": "stream",
     "text": [
      "Epoch 15\n"
     ]
    },
    {
     "name": "stderr",
     "output_type": "stream",
     "text": [
      "wandb: WARNING Source type is set to 'repo' but some required information is missing from the environment. A job will not be created from this run. See https://docs.wandb.ai/guides/launch/create-job\n"
     ]
    },
    {
     "data": {
      "application/vnd.jupyter.widget-view+json": {
       "model_id": "e0fbe335460746398d41251adfc8a28a",
       "version_major": 2,
       "version_minor": 0
      },
      "text/plain": [
       "VBox(children=(Label(value='0.005 MB of 0.005 MB uploaded\\r'), FloatProgress(value=1.0, max=1.0)))"
      ]
     },
     "metadata": {},
     "output_type": "display_data"
    },
    {
     "data": {
      "text/html": [
       "<style>\n",
       "    table.wandb td:nth-child(1) { padding: 0 10px; text-align: left ; width: auto;} td:nth-child(2) {text-align: left ; width: 100%}\n",
       "    .wandb-row { display: flex; flex-direction: row; flex-wrap: wrap; justify-content: flex-start; width: 100% }\n",
       "    .wandb-col { display: flex; flex-direction: column; flex-basis: 100%; flex: 1; padding: 10px; }\n",
       "    </style>\n",
       "<div class=\"wandb-row\"><div class=\"wandb-col\"><h3>Run history:</h3><br/><table class=\"wandb\"><tr><td>Train Accuracy</td><td>▁▁▁▂▃▃▄▅▅▅▆▇▇██</td></tr><tr><td>Train Loss</td><td>█▇▇▇▆▆▅▄▄▄▃▃▂▂▁</td></tr><tr><td>Val Accuracy</td><td>▁▁▂▃▄▅▅▅▅▅▆▇███</td></tr><tr><td>Val F1</td><td>▁▁▂▃▃▃▃▃▃▄▇▆▇██</td></tr><tr><td>Val Loss</td><td>██▆▇▅▄▃▃▃▃▃▂▁▁▂</td></tr><tr><td>Val Precision</td><td>▁▁▂▂▂▃▃▂▃▄█▅▆▇▇</td></tr><tr><td>Val Recall</td><td>▁▁▂▂▂▃▃▃▃▃▆▇▇██</td></tr></table><br/></div><div class=\"wandb-col\"><h3>Run summary:</h3><br/><table class=\"wandb\"><tr><td>Train Accuracy</td><td>0.78569</td></tr><tr><td>Train Loss</td><td>0.72424</td></tr><tr><td>Val Accuracy</td><td>0.65589</td></tr><tr><td>Val F1</td><td>0.21352</td></tr><tr><td>Val Loss</td><td>1.24822</td></tr><tr><td>Val Precision</td><td>0.20644</td></tr><tr><td>Val Recall</td><td>0.23348</td></tr></table><br/></div></div>"
      ],
      "text/plain": [
       "<IPython.core.display.HTML object>"
      ]
     },
     "metadata": {},
     "output_type": "display_data"
    },
    {
     "data": {
      "text/html": [
       " View run <strong style=\"color:#cdcd00\">Hindi without ELMo</strong> at: <a href='https://wandb.ai/project-ai-scream/INLP-Project-ELMo/runs/82qj3lc1' target=\"_blank\">https://wandb.ai/project-ai-scream/INLP-Project-ELMo/runs/82qj3lc1</a><br/>Synced 6 W&B file(s), 0 media file(s), 0 artifact file(s) and 0 other file(s)"
      ],
      "text/plain": [
       "<IPython.core.display.HTML object>"
      ]
     },
     "metadata": {},
     "output_type": "display_data"
    },
    {
     "data": {
      "text/html": [
       "Find logs at: <code>./wandb/run-20240508_002812-82qj3lc1/logs</code>"
      ],
      "text/plain": [
       "<IPython.core.display.HTML object>"
      ]
     },
     "metadata": {},
     "output_type": "display_data"
    }
   ],
   "source": [
    "for config in configs:\n",
    "    wandb.init(project='INLP-Project-ELMo', group='News Classification', name='Hindi without ELMo', config=config)\n",
    "    dataset = EmbeddingDataset(train_data, train_labels, word_vocab)\n",
    "    train_loader = DataLoader(dataset, batch_size=config['batch_size'], collate_fn=dataset.collate_fn)\n",
    "    val_dataset = EmbeddingDataset(val_data, val_labels, word_vocab)\n",
    "    val_loader = DataLoader(val_dataset, batch_size=32, collate_fn=val_dataset.collate_fn)\n",
    "    news_classification = NewsClassification_WithoutELMo(150, num_classes, word_vocab)\n",
    "    wandb.watch(news_classification)\n",
    "\n",
    "    optimizer = torch.optim.Adam(news_classification.parameters(), lr=config['lr'])\n",
    "    criterion = nn.CrossEntropyLoss()\n",
    "    train_news(news_classification, train_loader, val_loader, optimizer, criterion, config['epochs'])\n",
    "    wandb.join()"
   ]
  },
  {
   "cell_type": "code",
   "execution_count": null,
   "metadata": {},
   "outputs": [],
   "source": []
  }
 ],
 "metadata": {
  "kernelspec": {
   "display_name": "smai",
   "language": "python",
   "name": "python3"
  },
  "language_info": {
   "codemirror_mode": {
    "name": "ipython",
    "version": 3
   },
   "file_extension": ".py",
   "mimetype": "text/x-python",
   "name": "python",
   "nbconvert_exporter": "python",
   "pygments_lexer": "ipython3",
   "version": "3.7.16"
  }
 },
 "nbformat": 4,
 "nbformat_minor": 2
}
