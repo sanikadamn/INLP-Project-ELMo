{
 "cells": [
  {
   "cell_type": "code",
   "execution_count": 1,
   "metadata": {},
   "outputs": [
    {
     "name": "stderr",
     "output_type": "stream",
     "text": [
      "c:\\Users\\tanve\\AppData\\Local\\Programs\\Python\\Python39\\lib\\site-packages\\torchtext\\vocab\\__init__.py:4: UserWarning: \n",
      "/!\\ IMPORTANT WARNING ABOUT TORCHTEXT STATUS /!\\ \n",
      "Torchtext is deprecated and the last released version will be 0.18 (this one). You can silence this warning by calling the following at the beginnign of your scripts: `import torchtext; torchtext.disable_torchtext_deprecation_warning()`\n",
      "  warnings.warn(torchtext._TORCHTEXT_DEPRECATION_MSG)\n",
      "c:\\Users\\tanve\\AppData\\Local\\Programs\\Python\\Python39\\lib\\site-packages\\torchtext\\utils.py:4: UserWarning: \n",
      "/!\\ IMPORTANT WARNING ABOUT TORCHTEXT STATUS /!\\ \n",
      "Torchtext is deprecated and the last released version will be 0.18 (this one). You can silence this warning by calling the following at the beginnign of your scripts: `import torchtext; torchtext.disable_torchtext_deprecation_warning()`\n",
      "  warnings.warn(torchtext._TORCHTEXT_DEPRECATION_MSG)\n"
     ]
    }
   ],
   "source": [
    "import torch\n",
    "import torch.nn as nn\n",
    "from tqdm import tqdm\n",
    "from ELMO import ELMo\n",
    "import torch.nn.functional as F\n",
    "from sts_loader import STSDataset, wo_ELMO_Dataset, tokenize, split_into_characters\n",
    "from torch.utils.data import DataLoader\n",
    "\n",
    "import wandb"
   ]
  },
  {
   "cell_type": "code",
   "execution_count": 2,
   "metadata": {},
   "outputs": [
    {
     "name": "stdout",
     "output_type": "stream",
     "text": [
      "cuda\n"
     ]
    }
   ],
   "source": [
    "device = torch.device(\"cuda\" if torch.cuda.is_available() else \"cpu\")\n",
    "torch.manual_seed(42)\n",
    "print(device)"
   ]
  },
  {
   "cell_type": "code",
   "execution_count": 3,
   "metadata": {},
   "outputs": [],
   "source": [
    "# Load vocabularies\n",
    "vocab = torch.load('../mar_word_vocab.pt')\n",
    "character_vocab = torch.load('../mar_char_vocab.pt')"
   ]
  },
  {
   "cell_type": "code",
   "execution_count": 4,
   "metadata": {},
   "outputs": [
    {
     "name": "stderr",
     "output_type": "stream",
     "text": [
      "C:\\Users\\tanve\\AppData\\Local\\Temp\\ipykernel_16916\\41700185.py:6: UserWarning: To copy construct from a tensor, it is recommended to use sourceTensor.clone().detach() or sourceTensor.clone().detach().requires_grad_(True), rather than torch.tensor(sourceTensor).\n",
      "  scores = torch.tensor(scores, dtype=torch.float32)\n"
     ]
    }
   ],
   "source": [
    "# Get Sentences and Scores\n",
    "\n",
    "path = '../sts-train-mr.tsv'\n",
    "sts_dataset = STSDataset(path)\n",
    "s1, s2, scores = sts_dataset.format(char_vocab=character_vocab)\n",
    "scores = torch.tensor(scores, dtype=torch.float32)"
   ]
  },
  {
   "cell_type": "code",
   "execution_count": 5,
   "metadata": {},
   "outputs": [
    {
     "name": "stderr",
     "output_type": "stream",
     "text": [
      "C:\\Users\\tanve\\AppData\\Local\\Temp\\ipykernel_16916\\1309467377.py:6: UserWarning: To copy construct from a tensor, it is recommended to use sourceTensor.clone().detach() or sourceTensor.clone().detach().requires_grad_(True), rather than torch.tensor(sourceTensor).\n",
      "  scores_v = torch.tensor(scores_v, dtype=torch.float32)\n"
     ]
    }
   ],
   "source": [
    "# Get Sentences and Scores\n",
    "\n",
    "path = '../sts-dev-mr.tsv'\n",
    "sts_v_dataset = STSDataset(path)\n",
    "s1_v, s2_v, scores_v = sts_v_dataset.format(char_vocab=character_vocab)\n",
    "scores_v = torch.tensor(scores_v, dtype=torch.float32)"
   ]
  },
  {
   "cell_type": "code",
   "execution_count": 6,
   "metadata": {},
   "outputs": [],
   "source": [
    "def create_dataloader(s1, s2, scores, batch_size):\n",
    "    zipped = list(zip(s1, s2, scores))\n",
    "    dataloader = DataLoader(zipped, batch_size=batch_size, shuffle=True)\n",
    "    return dataloader"
   ]
  },
  {
   "cell_type": "code",
   "execution_count": 7,
   "metadata": {},
   "outputs": [],
   "source": [
    "# make the dataloader for modle with elmo\n",
    "s1_val = s1_v\n",
    "s2_val = s2_v\n",
    "scores_val = scores_v\n",
    "batch_size = 128\n",
    "val_dataloader = create_dataloader(s1_val, s2_val, scores_val, batch_size)\n",
    "train_dataloader = create_dataloader(s1, s2, scores, batch_size)"
   ]
  },
  {
   "cell_type": "code",
   "execution_count": 8,
   "metadata": {},
   "outputs": [
    {
     "name": "stderr",
     "output_type": "stream",
     "text": [
      "C:\\Users\\tanve\\AppData\\Local\\Temp\\ipykernel_16916\\2472877923.py:4: UserWarning: To copy construct from a tensor, it is recommended to use sourceTensor.clone().detach() or sourceTensor.clone().detach().requires_grad_(True), rather than torch.tensor(sourceTensor).\n",
      "  scores = torch.tensor(scores, dtype=torch.float32)\n",
      "C:\\Users\\tanve\\AppData\\Local\\Temp\\ipykernel_16916\\2472877923.py:11: UserWarning: To copy construct from a tensor, it is recommended to use sourceTensor.clone().detach() or sourceTensor.clone().detach().requires_grad_(True), rather than torch.tensor(sourceTensor).\n",
      "  scores_v = torch.tensor(scores_v, dtype=torch.float32)\n"
     ]
    }
   ],
   "source": [
    "\n",
    "path = '../sts-train-mr.tsv'\n",
    "sts_dataset = wo_ELMO_Dataset(path,vocab)\n",
    "s1, s2, scores = sts_dataset.format()\n",
    "scores = torch.tensor(scores, dtype=torch.float32)\n",
    "\n",
    "# Get Sentences and Scores\n",
    "\n",
    "path = '../sts-dev-mr.tsv'\n",
    "sts_v_dataset = wo_ELMO_Dataset(path,vocab)\n",
    "s1_v, s2_v, scores_v = sts_v_dataset.format()\n",
    "scores_v = torch.tensor(scores_v, dtype=torch.float32)"
   ]
  },
  {
   "cell_type": "code",
   "execution_count": 9,
   "metadata": {},
   "outputs": [],
   "source": [
    "# make the dataloader for model without elmo\n",
    "sts_dataset = wo_ELMO_Dataset(path, vocab)\n",
    "s1_val = s1_v\n",
    "s2_val = s2_v\n",
    "scores_val = scores_v\n",
    "batch_size = 128\n",
    "val_dataloader_wo_elmo = create_dataloader(s1_val, s2_val, scores_val, batch_size)\n",
    "train_dataloader_wo_elmo = create_dataloader(s1, s2, scores, batch_size)"
   ]
  },
  {
   "cell_type": "code",
   "execution_count": 10,
   "metadata": {},
   "outputs": [
    {
     "data": {
      "text/plain": [
       "tensor([    12,    890,      0,   1261,   3120, 131034,      6,      1,      1,\n",
       "             1,      1,      1,      1,      1,      1,      1,      1,      1,\n",
       "             1,      1,      1,      1,      1,      1,      1,      1,      1,\n",
       "             1,      1,      1])"
      ]
     },
     "execution_count": 10,
     "metadata": {},
     "output_type": "execute_result"
    }
   ],
   "source": [
    "s1[2]"
   ]
  },
  {
   "cell_type": "code",
   "execution_count": 11,
   "metadata": {},
   "outputs": [],
   "source": [
    "model = ELMo(cnn_config = {'character_embedding_size': 16, \n",
    "                           'num_filters': 32, \n",
    "                           'kernel_size': 5, \n",
    "                           'max_word_length': 10, \n",
    "                           'char_vocab_size': character_vocab.num_chars}, \n",
    "             elmo_config = {'num_layers': 3,\n",
    "                            'word_embedding_dim': 150,\n",
    "                            'vocab_size': vocab.num_words}, \n",
    "             char_vocab_size = character_vocab.num_chars).to(device)\n"
   ]
  },
  {
   "cell_type": "code",
   "execution_count": 12,
   "metadata": {},
   "outputs": [
    {
     "data": {
      "text/plain": [
       "<All keys matched successfully>"
      ]
     },
     "execution_count": 12,
     "metadata": {},
     "output_type": "execute_result"
    }
   ],
   "source": [
    "model.load_state_dict(torch.load('../model_elmo_marathi.pt'))"
   ]
  },
  {
   "cell_type": "code",
   "execution_count": 13,
   "metadata": {},
   "outputs": [],
   "source": [
    "word_embedding_dim = 300"
   ]
  },
  {
   "cell_type": "markdown",
   "metadata": {},
   "source": [
    "# Models"
   ]
  },
  {
   "cell_type": "markdown",
   "metadata": {},
   "source": [
    "## ELMo"
   ]
  },
  {
   "cell_type": "code",
   "execution_count": 14,
   "metadata": {},
   "outputs": [],
   "source": [
    "class SimilarityModel(nn.Module):\n",
    "    def __init__(self, elmo):\n",
    "        super(SimilarityModel, self).__init__()\n",
    "        self.elmo = elmo        \n",
    "        self.lambdas = nn.Parameter(torch.randn(3))\n",
    "        self.lstm = nn.LSTM(word_embedding_dim, word_embedding_dim//2, batch_first=True, bidirectional=True, num_layers=1)\n",
    "\n",
    "        for param in self.elmo.parameters():\n",
    "            param.requires_grad = False\n",
    "        \n",
    "    def forward(self, sentence1, sentence2):\n",
    "        forward_output1, backward_output1, final_embeddings1 = self.elmo(sentence1)\n",
    "        encoding1 = torch.zeros_like(final_embeddings1[0])\n",
    "        for i in range(3):\n",
    "            encoding1 += self.lambdas[i] * final_embeddings1[i]\n",
    "\n",
    "        forward_output2, backward_output2, final_embeddings2 = self.elmo(sentence2)\n",
    "        encoding2 = torch.zeros_like(final_embeddings2[0])\n",
    "        for i in range(3):\n",
    "            encoding2 += self.lambdas[i] * final_embeddings2[i]\n",
    "\n",
    "        lstm_out1, (hidden1, cell1) = self.lstm(encoding1)\n",
    "        lstm_out2, (hidden2, cell2) = self.lstm(encoding2)\n",
    "        \n",
    "        lstm_out1 = lstm_out1.reshape(lstm_out1.size(0), -1)\n",
    "        lstm_out2 = lstm_out2.reshape(lstm_out1.size(0), -1)  \n",
    "\n",
    "        cos_sim = (F.cosine_similarity(lstm_out1, lstm_out2, dim=1) + 1)*5/2\n",
    "        return cos_sim\n"
   ]
  },
  {
   "cell_type": "code",
   "execution_count": 15,
   "metadata": {},
   "outputs": [],
   "source": [
    "wandb.join()"
   ]
  },
  {
   "cell_type": "markdown",
   "metadata": {},
   "source": [
    "## Without ELMo"
   ]
  },
  {
   "cell_type": "code",
   "execution_count": 16,
   "metadata": {},
   "outputs": [],
   "source": [
    "class SimilarityModel_wo_elmo(nn.Module):\n",
    "    def __init__(self, vocab_size, word_embedding_dim, hidden_dim):\n",
    "        super(SimilarityModel_wo_elmo, self).__init__()\n",
    "        # Embedding layer with random initialization\n",
    "        self.embedding = nn.Embedding(vocab_size, word_embedding_dim)\n",
    "        # Bidirectional LSTM with specified hidden dimension\n",
    "        self.lstm = nn.LSTM(word_embedding_dim, hidden_dim, batch_first=True, bidirectional=True, num_layers=3)\n",
    "\n",
    "    def forward(self, sentence1, sentence2):\n",
    "        # Convert sentences to embeddings\n",
    "        embeddings1 = self.embedding(sentence1)\n",
    "        embeddings2 = self.embedding(sentence2)\n",
    "        # print(embeddings1.shape)\n",
    "        # print('wateva')\n",
    "        # Pass the embeddings through the LSTM\n",
    "        lstm_out1, _ = self.lstm(embeddings1)\n",
    "        lstm_out2, _ = self.lstm(embeddings2)\n",
    "\n",
    "        # print(lstm_out1.shape)\n",
    "\n",
    "        # Aggregate LSTM outputs: take mean across sequence length\n",
    "        # lstm_out1_mean = torch.mean(lstm_out1, dim=1)\n",
    "        # lstm_out2_mean = torch.mean(lstm_out2, dim=1)\n",
    "\n",
    "        lstm_out1 = lstm_out1.reshape(lstm_out1.size(0), -1)\n",
    "        lstm_out2 = lstm_out2.reshape(lstm_out1.size(0), -1)\n",
    "\n",
    "        # print(lstm_out1.shape)\n",
    "\n",
    "        \n",
    "\n",
    "        # Compute cosine similarity between aggregated LSTM outputs\n",
    "        cos_sim = (F.cosine_similarity(lstm_out1, lstm_out2, dim=1) + 1) * 5 / 2\n",
    "\n",
    "        return cos_sim\n"
   ]
  },
  {
   "cell_type": "code",
   "execution_count": 17,
   "metadata": {},
   "outputs": [],
   "source": [
    "# similarity_model = SimilarityModel(model)\n",
    "similarity_model = SimilarityModel(model).to(device)\n",
    "similarity_model_wo_elmo = SimilarityModel_wo_elmo(vocab.num_words, word_embedding_dim, word_embedding_dim//2).to(device)"
   ]
  },
  {
   "cell_type": "code",
   "execution_count": 18,
   "metadata": {},
   "outputs": [],
   "source": [
    "num_epochs = 10\n",
    "criterion = nn.MSELoss()\n",
    "optimizer = torch.optim.Adam(similarity_model.parameters(), lr=0.001)\n"
   ]
  },
  {
   "cell_type": "code",
   "execution_count": 19,
   "metadata": {},
   "outputs": [],
   "source": [
    "num_epochs = 10\n",
    "\n",
    "# train the model\n",
    "def train(similarity_model, train_dataloader, val_dataloader, num_epochs):\n",
    "    for epoch in range(num_epochs):\n",
    "        similarity_model.train()\n",
    "        total_loss = 0\n",
    "        tdiff = 0\n",
    "        for s1t, s2t, scorest in tqdm(train_dataloader):\n",
    "            s1t = s1t\n",
    "            s2t = s2t\n",
    "            scorest = scorest.to(device)\n",
    "            optimizer.zero_grad()\n",
    "            # print(len(s1[0]))\n",
    "            # stack the sentences\n",
    "            s1t = torch.stack(s1t, dim=1).to(device)\n",
    "            s2t = torch.stack(s2t, dim=1).to(device)\n",
    "            outputs = similarity_model(s1t, s2t)\n",
    "            # print(outputs.squeeze().shape, scores.shape)\n",
    "            # print(outputs.shape, scores.shape)\n",
    "            loss = criterion(outputs, scorest)\n",
    "            tdiff += torch.abs(outputs - scorest).sum().item()\n",
    "            loss.backward()\n",
    "            optimizer.step()\n",
    "            total_loss += loss.item()\n",
    "        print(f\"Epoch {epoch} Loss: {total_loss} Mean Difference: {tdiff/len(s1)}\")\n",
    "\n",
    "        train_loss = total_loss\n",
    "        mean_diff = tdiff/len(s1)\n",
    "\n",
    "        similarity_model.eval()\n",
    "        with torch.no_grad():\n",
    "            total_loss = 0\n",
    "            # calculate mean difference between predicted and actual scores\n",
    "            diff = 0\n",
    "\n",
    "            for s1v, s2v, scoresv in val_dataloader:\n",
    "                s1v = s1v\n",
    "                s2v = s2v\n",
    "                scoresv = scoresv.to(device)\n",
    "                s1v = torch.stack(s1v, dim=1).to(device)\n",
    "                s2v = torch.stack(s2v, dim=1).to(device)\n",
    "                outputs = similarity_model(s1v, s2v)\n",
    "                loss = criterion(outputs, scoresv)\n",
    "\n",
    "                total_loss += loss.item()\n",
    "                diff += torch.abs(outputs - scoresv).sum().item()\n",
    "                # calculate \n",
    "\n",
    "            print(f\"Validation Loss: {total_loss}\" + f\" Mean Difference: {diff/len(s1_val)}\")\n",
    "\n",
    "            val_loss = total_loss\n",
    "            val_mean_diff = diff/len(s1_val)\n",
    "\n",
    "        wandb.log({\"train_loss\": train_loss, \"train_mean_diff\": mean_diff, \"val_loss\": val_loss, \"val_mean_diff\": val_mean_diff})      "
   ]
  },
  {
   "cell_type": "code",
   "execution_count": 20,
   "metadata": {},
   "outputs": [
    {
     "name": "stderr",
     "output_type": "stream",
     "text": [
      "Failed to detect the name of this notebook, you can set it manually with the WANDB_NOTEBOOK_NAME environment variable to enable code saving.\n",
      "wandb: Currently logged in as: tanveer-mustafa (project-ai-scream). Use `wandb login --relogin` to force relogin\n"
     ]
    },
    {
     "data": {
      "text/html": [
       "Tracking run with wandb version 0.17.0"
      ],
      "text/plain": [
       "<IPython.core.display.HTML object>"
      ]
     },
     "metadata": {},
     "output_type": "display_data"
    },
    {
     "data": {
      "text/html": [
       "Run data is saved locally in <code>c:\\Users\\tanve\\OneDrive\\Desktop\\INLP\\INLP-Project-ELMo-main\\ELMo\\STS\\wandb\\run-20240509_045846-99t8lfle</code>"
      ],
      "text/plain": [
       "<IPython.core.display.HTML object>"
      ]
     },
     "metadata": {},
     "output_type": "display_data"
    },
    {
     "data": {
      "text/html": [
       "Syncing run <strong><a href='https://wandb.ai/project-ai-scream/INLP-Project-ELMo/runs/99t8lfle' target=\"_blank\">Marathi with ELMo</a></strong> to <a href='https://wandb.ai/project-ai-scream/INLP-Project-ELMo' target=\"_blank\">Weights & Biases</a> (<a href='https://wandb.me/run' target=\"_blank\">docs</a>)<br/>"
      ],
      "text/plain": [
       "<IPython.core.display.HTML object>"
      ]
     },
     "metadata": {},
     "output_type": "display_data"
    },
    {
     "data": {
      "text/html": [
       " View project at <a href='https://wandb.ai/project-ai-scream/INLP-Project-ELMo' target=\"_blank\">https://wandb.ai/project-ai-scream/INLP-Project-ELMo</a>"
      ],
      "text/plain": [
       "<IPython.core.display.HTML object>"
      ]
     },
     "metadata": {},
     "output_type": "display_data"
    },
    {
     "data": {
      "text/html": [
       " View run at <a href='https://wandb.ai/project-ai-scream/INLP-Project-ELMo/runs/99t8lfle' target=\"_blank\">https://wandb.ai/project-ai-scream/INLP-Project-ELMo/runs/99t8lfle</a>"
      ],
      "text/plain": [
       "<IPython.core.display.HTML object>"
      ]
     },
     "metadata": {},
     "output_type": "display_data"
    },
    {
     "name": "stderr",
     "output_type": "stream",
     "text": [
      "100%|██████████| 45/45 [03:55<00:00,  5.23s/it]\n"
     ]
    },
    {
     "name": "stdout",
     "output_type": "stream",
     "text": [
      "Epoch 0 Loss: 100.23750138282776 Mean Difference: 1.2138592368957477\n",
      "Validation Loss: 25.479499101638794 Mean Difference: 1.2037144673665365\n"
     ]
    },
    {
     "name": "stderr",
     "output_type": "stream",
     "text": [
      "100%|██████████| 45/45 [03:42<00:00,  4.94s/it]\n"
     ]
    },
    {
     "name": "stdout",
     "output_type": "stream",
     "text": [
      "Epoch 1 Loss: 80.4619368314743 Mean Difference: 1.1011802975967184\n",
      "Validation Loss: 24.82803750038147 Mean Difference: 1.1836604919433593\n"
     ]
    },
    {
     "name": "stderr",
     "output_type": "stream",
     "text": [
      "100%|██████████| 45/45 [03:46<00:00,  5.04s/it]\n"
     ]
    },
    {
     "name": "stdout",
     "output_type": "stream",
     "text": [
      "Epoch 2 Loss: 73.04929113388062 Mean Difference: 1.046334499606011\n",
      "Validation Loss: 24.456581592559814 Mean Difference: 1.174253168741862\n"
     ]
    },
    {
     "name": "stderr",
     "output_type": "stream",
     "text": [
      "100%|██████████| 45/45 [04:01<00:00,  5.38s/it]\n"
     ]
    },
    {
     "name": "stdout",
     "output_type": "stream",
     "text": [
      "Epoch 3 Loss: 67.22169744968414 Mean Difference: 1.0036070019981476\n",
      "Validation Loss: 24.283305883407593 Mean Difference: 1.1663210957845052\n"
     ]
    },
    {
     "name": "stderr",
     "output_type": "stream",
     "text": [
      "100%|██████████| 45/45 [03:40<00:00,  4.90s/it]\n"
     ]
    },
    {
     "name": "stdout",
     "output_type": "stream",
     "text": [
      "Epoch 4 Loss: 62.903103709220886 Mean Difference: 0.9676711839690504\n",
      "Validation Loss: 24.413208723068237 Mean Difference: 1.1653148193359375\n"
     ]
    },
    {
     "name": "stderr",
     "output_type": "stream",
     "text": [
      "100%|██████████| 45/45 [03:40<00:00,  4.89s/it]\n"
     ]
    },
    {
     "name": "stdout",
     "output_type": "stream",
     "text": [
      "Epoch 5 Loss: 59.229310631752014 Mean Difference: 0.9383348094645522\n",
      "Validation Loss: 24.173248052597046 Mean Difference: 1.160556167602539\n"
     ]
    },
    {
     "name": "stderr",
     "output_type": "stream",
     "text": [
      "100%|██████████| 45/45 [03:52<00:00,  5.17s/it]\n"
     ]
    },
    {
     "name": "stdout",
     "output_type": "stream",
     "text": [
      "Epoch 6 Loss: 56.06125271320343 Mean Difference: 0.9113916730250263\n",
      "Validation Loss: 24.432723879814148 Mean Difference: 1.1621658121744791\n"
     ]
    },
    {
     "name": "stderr",
     "output_type": "stream",
     "text": [
      "100%|██████████| 45/45 [03:33<00:00,  4.74s/it]\n"
     ]
    },
    {
     "name": "stdout",
     "output_type": "stream",
     "text": [
      "Epoch 7 Loss: 52.43824291229248 Mean Difference: 0.879281791947165\n",
      "Validation Loss: 24.45035696029663 Mean Difference: 1.165475077311198\n"
     ]
    },
    {
     "name": "stderr",
     "output_type": "stream",
     "text": [
      "100%|██████████| 45/45 [03:49<00:00,  5.09s/it]\n"
     ]
    },
    {
     "name": "stdout",
     "output_type": "stream",
     "text": [
      "Epoch 8 Loss: 50.271930515766144 Mean Difference: 0.8581859055043263\n",
      "Validation Loss: 24.58637022972107 Mean Difference: 1.1663705444335937\n"
     ]
    },
    {
     "name": "stderr",
     "output_type": "stream",
     "text": [
      "100%|██████████| 45/45 [03:40<00:00,  4.90s/it]\n"
     ]
    },
    {
     "name": "stdout",
     "output_type": "stream",
     "text": [
      "Epoch 9 Loss: 48.30204528570175 Mean Difference: 0.8398127134425323\n",
      "Validation Loss: 24.83904778957367 Mean Difference: 1.1659285939534505\n"
     ]
    },
    {
     "data": {
      "application/vnd.jupyter.widget-view+json": {
       "model_id": "d9163a3ca567416d94a793f98db87269",
       "version_major": 2,
       "version_minor": 0
      },
      "text/plain": [
       "VBox(children=(Label(value='0.001 MB of 0.001 MB uploaded\\r'), FloatProgress(value=1.0, max=1.0)))"
      ]
     },
     "metadata": {},
     "output_type": "display_data"
    },
    {
     "data": {
      "text/html": [
       "<style>\n",
       "    table.wandb td:nth-child(1) { padding: 0 10px; text-align: left ; width: auto;} td:nth-child(2) {text-align: left ; width: 100%}\n",
       "    .wandb-row { display: flex; flex-direction: row; flex-wrap: wrap; justify-content: flex-start; width: 100% }\n",
       "    .wandb-col { display: flex; flex-direction: column; flex-basis: 100%; flex: 1; padding: 10px; }\n",
       "    </style>\n",
       "<div class=\"wandb-row\"><div class=\"wandb-col\"><h3>Run history:</h3><br/><table class=\"wandb\"><tr><td>train_loss</td><td>█▅▄▄▃▂▂▂▁▁</td></tr><tr><td>train_mean_diff</td><td>█▆▅▄▃▃▂▂▁▁</td></tr><tr><td>val_loss</td><td>█▅▃▂▂▁▂▂▃▅</td></tr><tr><td>val_mean_diff</td><td>█▅▃▂▂▁▁▂▂▂</td></tr></table><br/></div><div class=\"wandb-col\"><h3>Run summary:</h3><br/><table class=\"wandb\"><tr><td>train_loss</td><td>48.30205</td></tr><tr><td>train_mean_diff</td><td>0.83981</td></tr><tr><td>val_loss</td><td>24.83905</td></tr><tr><td>val_mean_diff</td><td>1.16593</td></tr></table><br/></div></div>"
      ],
      "text/plain": [
       "<IPython.core.display.HTML object>"
      ]
     },
     "metadata": {},
     "output_type": "display_data"
    },
    {
     "data": {
      "text/html": [
       " View run <strong style=\"color:#cdcd00\">Marathi with ELMo</strong> at: <a href='https://wandb.ai/project-ai-scream/INLP-Project-ELMo/runs/99t8lfle' target=\"_blank\">https://wandb.ai/project-ai-scream/INLP-Project-ELMo/runs/99t8lfle</a><br/> View project at: <a href='https://wandb.ai/project-ai-scream/INLP-Project-ELMo' target=\"_blank\">https://wandb.ai/project-ai-scream/INLP-Project-ELMo</a><br/>Synced 5 W&B file(s), 0 media file(s), 0 artifact file(s) and 0 other file(s)"
      ],
      "text/plain": [
       "<IPython.core.display.HTML object>"
      ]
     },
     "metadata": {},
     "output_type": "display_data"
    },
    {
     "data": {
      "text/html": [
       "Find logs at: <code>.\\wandb\\run-20240509_045846-99t8lfle\\logs</code>"
      ],
      "text/plain": [
       "<IPython.core.display.HTML object>"
      ]
     },
     "metadata": {},
     "output_type": "display_data"
    }
   ],
   "source": [
    "config = {'model': 'ELMo', 'language': 'Hindi', 'epochs': 50, 'batch_size': 128, 'lr': 0.001}\n",
    "\n",
    "wandb.init(project='INLP-Project-ELMo', group= 'STS', name='Marathi with ELMo', config=config)\n",
    "\n",
    "wandb.watch(similarity_model)\n",
    "\n",
    "train(similarity_model, train_dataloader, val_dataloader, 10)\n",
    "\n",
    "wandb.join()"
   ]
  },
  {
   "cell_type": "code",
   "execution_count": null,
   "metadata": {},
   "outputs": [],
   "source": [
    "# for config in configs:\n",
    "#     wandb.init(project='sts_elmo', group= 'STS', name = 'Hindi with ELMo', config=config)\n",
    "#     train_dataset = wo_ELMO_Dataset(path, vocab)\n",
    "#     similarity_model = SimilarityModel(model).to(device)\n",
    "#     optimizer = torch.optim.Adam(similarity_model.parameters(), lr=config['lr'])\n",
    "#     train(similarity_model, train_dataloader, val_dataloader, config['epochs'])\n",
    "#     wandb.finish()"
   ]
  },
  {
   "cell_type": "code",
   "execution_count": 27,
   "metadata": {},
   "outputs": [],
   "source": [
    "num_epochs = 20\n",
    "\n",
    "criterion = nn.MSELoss()\n",
    "optimizer = torch.optim.Adam(similarity_model_wo_elmo.parameters(), lr=0.001)\n",
    "\n",
    "# train the model\n",
    "def train_wo_elmo(similarity_model_wo_elmo, train_dataloader_wo_elmo, val_dataloader_wo_elmo, num_epochs):\n",
    "    for epoch in range(num_epochs):\n",
    "        similarity_model.train()\n",
    "        total_loss = 0\n",
    "        tdiff = 0\n",
    "        for s1t, s2t, scorest in tqdm(train_dataloader_wo_elmo):\n",
    "            s1t = s1t.to(device)\n",
    "            s2t = s2t.to(device)\n",
    "            scorest = scorest.to(device)\n",
    "            optimizer.zero_grad()\n",
    "            # print(len(s1t[0]))\n",
    "            # stack the sentences\n",
    "            # s1t = torch.stack(s1t, dim=1).to(device)\n",
    "            # s2t = torch.stack(s2t, dim=1).to(device)\n",
    "            outputs = similarity_model_wo_elmo(s1t, s2t)\n",
    "            # print(outputs.squeeze().shape, scores.shape)\n",
    "            # print(outputs.shape, scores.shape)\n",
    "            loss = criterion(outputs, scorest)\n",
    "            tdiff += torch.abs(outputs - scorest).sum().item()\n",
    "            loss.backward()\n",
    "            optimizer.step()\n",
    "            total_loss += loss.item()\n",
    "        print(f\"Epoch {epoch} Loss: {total_loss} Mean Difference: {tdiff/len(s1t)}\")\n",
    "        train_loss = total_loss\n",
    "        mean_diff = tdiff/len(s1)\n",
    "        similarity_model.eval()\n",
    "        with torch.no_grad():\n",
    "            total_loss = 0\n",
    "            # calculate mean difference between predicted and actual scores\n",
    "            diff = 0\n",
    "\n",
    "            for s1v, s2v, scoresv in val_dataloader_wo_elmo:\n",
    "                s1v = s1v.to(device)\n",
    "                s2v = s2v.to(device)\n",
    "                scoresv = scoresv.to(device)\n",
    "                # s1v = torch.stack(s1v, dim=1).to(device)\n",
    "                # s2v = torch.stack(s2v, dim=1).to(device)\n",
    "                outputs = similarity_model_wo_elmo(s1v, s2v)\n",
    "                loss = criterion(outputs, scoresv)\n",
    "\n",
    "                total_loss += loss.item()\n",
    "                diff += torch.abs(outputs - scoresv).sum().item()\n",
    "                val_loss = total_loss\n",
    "                val_mean_diff = diff/len(s1_val)\n",
    "                # calculate \n",
    "\n",
    "            print(f\"Validation Loss: {total_loss}\" + f\" Mean Difference: {diff/len(s1v)}\")\n",
    "        wandb.log({\"train_loss\": train_loss, \"train_mean_diff\": mean_diff, \"val_loss\": val_loss, \"val_mean_diff\": val_mean_diff})      "
   ]
  },
  {
   "cell_type": "code",
   "execution_count": 28,
   "metadata": {},
   "outputs": [
    {
     "data": {
      "text/html": [
       "Tracking run with wandb version 0.17.0"
      ],
      "text/plain": [
       "<IPython.core.display.HTML object>"
      ]
     },
     "metadata": {},
     "output_type": "display_data"
    },
    {
     "data": {
      "text/html": [
       "Run data is saved locally in <code>c:\\Users\\tanve\\OneDrive\\Desktop\\INLP\\INLP-Project-ELMo-main\\ELMo\\STS\\wandb\\run-20240509_043059-7r07sfmw</code>"
      ],
      "text/plain": [
       "<IPython.core.display.HTML object>"
      ]
     },
     "metadata": {},
     "output_type": "display_data"
    },
    {
     "data": {
      "text/html": [
       "Syncing run <strong><a href='https://wandb.ai/project-ai-scream/INLP-Project-ELMo/runs/7r07sfmw' target=\"_blank\">Hindi without ELMo</a></strong> to <a href='https://wandb.ai/project-ai-scream/INLP-Project-ELMo' target=\"_blank\">Weights & Biases</a> (<a href='https://wandb.me/run' target=\"_blank\">docs</a>)<br/>"
      ],
      "text/plain": [
       "<IPython.core.display.HTML object>"
      ]
     },
     "metadata": {},
     "output_type": "display_data"
    },
    {
     "data": {
      "text/html": [
       " View project at <a href='https://wandb.ai/project-ai-scream/INLP-Project-ELMo' target=\"_blank\">https://wandb.ai/project-ai-scream/INLP-Project-ELMo</a>"
      ],
      "text/plain": [
       "<IPython.core.display.HTML object>"
      ]
     },
     "metadata": {},
     "output_type": "display_data"
    },
    {
     "data": {
      "text/html": [
       " View run at <a href='https://wandb.ai/project-ai-scream/INLP-Project-ELMo/runs/7r07sfmw' target=\"_blank\">https://wandb.ai/project-ai-scream/INLP-Project-ELMo/runs/7r07sfmw</a>"
      ],
      "text/plain": [
       "<IPython.core.display.HTML object>"
      ]
     },
     "metadata": {},
     "output_type": "display_data"
    },
    {
     "name": "stderr",
     "output_type": "stream",
     "text": [
      "100%|██████████| 45/45 [00:02<00:00, 18.72it/s]\n"
     ]
    },
    {
     "name": "stdout",
     "output_type": "stream",
     "text": [
      "Epoch 0 Loss: 137.5936574935913 Mean Difference: 67.02966908511952\n",
      "Validation Loss: 29.159468173980713 Mean Difference: 20.55662959554921\n"
     ]
    },
    {
     "name": "stderr",
     "output_type": "stream",
     "text": [
      "100%|██████████| 45/45 [00:02<00:00, 20.36it/s]\n"
     ]
    },
    {
     "name": "stdout",
     "output_type": "stream",
     "text": [
      "Epoch 1 Loss: 81.84941828250885 Mean Difference: 52.85890086899456\n",
      "Validation Loss: 27.19324517250061 Mean Difference: 19.82845978114916\n"
     ]
    },
    {
     "name": "stderr",
     "output_type": "stream",
     "text": [
      "100%|██████████| 45/45 [00:02<00:00, 21.12it/s]\n"
     ]
    },
    {
     "name": "stdout",
     "output_type": "stream",
     "text": [
      "Epoch 2 Loss: 55.960001826286316 Mean Difference: 43.34597360985911\n",
      "Validation Loss: 26.625881791114807 Mean Difference: 19.568138703056004\n"
     ]
    },
    {
     "name": "stderr",
     "output_type": "stream",
     "text": [
      "100%|██████████| 45/45 [00:01<00:00, 23.06it/s]\n"
     ]
    },
    {
     "name": "stdout",
     "output_type": "stream",
     "text": [
      "Epoch 3 Loss: 36.73254865407944 Mean Difference: 34.69818363026676\n",
      "Validation Loss: 28.40826714038849 Mean Difference: 20.170428566310715\n"
     ]
    },
    {
     "name": "stderr",
     "output_type": "stream",
     "text": [
      "100%|██████████| 45/45 [00:02<00:00, 22.37it/s]\n"
     ]
    },
    {
     "name": "stdout",
     "output_type": "stream",
     "text": [
      "Epoch 4 Loss: 23.37160512804985 Mean Difference: 27.383331233619625\n",
      "Validation Loss: 27.826963305473328 Mean Difference: 19.87008053323497\n"
     ]
    },
    {
     "name": "stderr",
     "output_type": "stream",
     "text": [
      "100%|██████████| 45/45 [00:02<00:00, 21.04it/s]\n"
     ]
    },
    {
     "name": "stdout",
     "output_type": "stream",
     "text": [
      "Epoch 5 Loss: 14.81920151412487 Mean Difference: 21.55700654249925\n",
      "Validation Loss: 27.694105863571167 Mean Difference: 19.7839412689209\n"
     ]
    },
    {
     "name": "stderr",
     "output_type": "stream",
     "text": [
      "100%|██████████| 45/45 [00:02<00:00, 21.02it/s]\n"
     ]
    },
    {
     "name": "stdout",
     "output_type": "stream",
     "text": [
      "Epoch 6 Loss: 9.553726121783257 Mean Difference: 16.920278891538963\n",
      "Validation Loss: 27.129385828971863 Mean Difference: 19.518521682075832\n"
     ]
    },
    {
     "name": "stderr",
     "output_type": "stream",
     "text": [
      "100%|██████████| 45/45 [00:02<00:00, 21.24it/s]\n"
     ]
    },
    {
     "name": "stdout",
     "output_type": "stream",
     "text": [
      "Epoch 7 Loss: 6.7596956342458725 Mean Difference: 14.038569898686857\n",
      "Validation Loss: 27.47385346889496 Mean Difference: 19.71524197122325\n"
     ]
    },
    {
     "name": "stderr",
     "output_type": "stream",
     "text": [
      "100%|██████████| 45/45 [00:02<00:00, 21.63it/s]\n"
     ]
    },
    {
     "name": "stdout",
     "output_type": "stream",
     "text": [
      "Epoch 8 Loss: 5.474012479186058 Mean Difference: 12.779764126508663\n",
      "Validation Loss: 27.37376618385315 Mean Difference: 19.706866057022758\n"
     ]
    },
    {
     "name": "stderr",
     "output_type": "stream",
     "text": [
      "100%|██████████| 45/45 [00:02<00:00, 20.62it/s]\n"
     ]
    },
    {
     "name": "stdout",
     "output_type": "stream",
     "text": [
      "Epoch 9 Loss: 4.9657799899578094 Mean Difference: 12.016459065624792\n",
      "Validation Loss: 28.353691458702087 Mean Difference: 19.99085401452106\n"
     ]
    },
    {
     "data": {
      "application/vnd.jupyter.widget-view+json": {
       "model_id": "4446723c425d4034b52ec65092d080d2",
       "version_major": 2,
       "version_minor": 0
      },
      "text/plain": [
       "VBox(children=(Label(value='0.001 MB of 0.001 MB uploaded\\r'), FloatProgress(value=1.0, max=1.0)))"
      ]
     },
     "metadata": {},
     "output_type": "display_data"
    },
    {
     "data": {
      "text/html": [
       "<style>\n",
       "    table.wandb td:nth-child(1) { padding: 0 10px; text-align: left ; width: auto;} td:nth-child(2) {text-align: left ; width: 100%}\n",
       "    .wandb-row { display: flex; flex-direction: row; flex-wrap: wrap; justify-content: flex-start; width: 100% }\n",
       "    .wandb-col { display: flex; flex-direction: column; flex-basis: 100%; flex: 1; padding: 10px; }\n",
       "    </style>\n",
       "<div class=\"wandb-row\"><div class=\"wandb-col\"><h3>Run history:</h3><br/><table class=\"wandb\"><tr><td>train_loss</td><td>█▅▄▃▂▂▁▁▁▁</td></tr><tr><td>train_mean_diff</td><td>█▆▅▄▃▂▂▁▁▁</td></tr><tr><td>val_loss</td><td>█▃▁▆▄▄▂▃▃▆</td></tr><tr><td>val_mean_diff</td><td>█▃▁▅▃▃▁▂▂▄</td></tr></table><br/></div><div class=\"wandb-col\"><h3>Run summary:</h3><br/><table class=\"wandb\"><tr><td>train_loss</td><td>4.96578</td></tr><tr><td>train_mean_diff</td><td>0.24455</td></tr><tr><td>val_loss</td><td>28.35369</td></tr><tr><td>val_mean_diff</td><td>1.22611</td></tr></table><br/></div></div>"
      ],
      "text/plain": [
       "<IPython.core.display.HTML object>"
      ]
     },
     "metadata": {},
     "output_type": "display_data"
    },
    {
     "data": {
      "text/html": [
       " View run <strong style=\"color:#cdcd00\">Hindi without ELMo</strong> at: <a href='https://wandb.ai/project-ai-scream/INLP-Project-ELMo/runs/7r07sfmw' target=\"_blank\">https://wandb.ai/project-ai-scream/INLP-Project-ELMo/runs/7r07sfmw</a><br/> View project at: <a href='https://wandb.ai/project-ai-scream/INLP-Project-ELMo' target=\"_blank\">https://wandb.ai/project-ai-scream/INLP-Project-ELMo</a><br/>Synced 5 W&B file(s), 0 media file(s), 0 artifact file(s) and 0 other file(s)"
      ],
      "text/plain": [
       "<IPython.core.display.HTML object>"
      ]
     },
     "metadata": {},
     "output_type": "display_data"
    },
    {
     "data": {
      "text/html": [
       "Find logs at: <code>.\\wandb\\run-20240509_043059-7r07sfmw\\logs</code>"
      ],
      "text/plain": [
       "<IPython.core.display.HTML object>"
      ]
     },
     "metadata": {},
     "output_type": "display_data"
    }
   ],
   "source": [
    "config = {'model': 'ELMo', 'language': 'Hindi', 'epochs': 50, 'batch_size': 128, 'lr': 0.001}\n",
    "\n",
    "wandb.init(project='INLP-Project-ELMo', group= 'STS', name='Marathi without ELMo', config=config)\n",
    "\n",
    "wandb.watch(similarity_model_wo_elmo)\n",
    "\n",
    "train_wo_elmo(similarity_model_wo_elmo, train_dataloader_wo_elmo, val_dataloader_wo_elmo, 10)\n",
    "\n",
    "wandb.join()"
   ]
  },
  {
   "cell_type": "code",
   "execution_count": 25,
   "metadata": {},
   "outputs": [],
   "source": [
    "kitna = \"कितना\"\n",
    "milta = \"मिलता\"\n",
    "hai = \"है\"\n",
    "se = \"से\"\n",
    "bhookh = \"भूख\"\n",
    "bhookha = \"भूखा\"\n",
    "pyaas = \"प्यास\"\n",
    "imarat = \"इमारत\"\n",
    "\n",
    "mujhe = \"मुझे\"\n",
    "lag = \"लग\"\n",
    "rahi = \"रही\"\n",
    "\n",
    "aur = \"और\"\n",
    "\n",
    "jaise = \"जैसे\"\n",
    "to = \"तो\"\n",
    "waise = \"वैसे\"\n",
    "hi = \"ही\"\n",
    "mere = \"मेरे\"\n",
    "bhai = \"भाई\"\n",
    "\n",
    "bahan = \"बहन\"\n",
    "aa= \"आ\"\n",
    "rahe = \"रहे\"\n",
    "hain = \"हैं\"\n",
    "\n",
    "machwara = \"मच्छरा\"\n",
    "machli = \"मछली\"\n",
    "paani = \"पानी\"\n",
    "mein = \"में\"\n",
    "pakadne = \"पकड़ने\"\n",
    "jaata = \"जाता\"\n",
    "hai = \"है\"\n",
    "\n",
    "sen = [machwara + \" \" + machli + \" \" + paani + \" \" + mein + \" \" + pakadne + \" \" + jaata + \" \" + hai]\n",
    "\n",
    "sentence1 = [mere + \" \" + bhai + \" \" + aur + \" \" + bahan + \" \" + aa + \" \" + rahe + \" \" + hain]\n",
    "\n",
    "# merge the words into a single string\n",
    "sentence = [mujhe + \" \" + bhookh + \" \"+ aur +\" \" + pyaas+\" \" + lag + \" \" +rahi + \" \" + hai]\n",
    "# sentence1 = sen"
   ]
  },
  {
   "cell_type": "code",
   "execution_count": 26,
   "metadata": {},
   "outputs": [
    {
     "data": {
      "text/plain": [
       "['मेरे भाई और बहन आ रहे हैं']"
      ]
     },
     "execution_count": 26,
     "metadata": {},
     "output_type": "execute_result"
    }
   ],
   "source": [
    "sentence1"
   ]
  },
  {
   "cell_type": "code",
   "execution_count": 264,
   "metadata": {},
   "outputs": [
    {
     "data": {
      "text/plain": [
       "[['मच्छरा', 'मछली', 'पानी', 'में', 'पकड़ने', 'जाता', 'है']]"
      ]
     },
     "execution_count": 264,
     "metadata": {},
     "output_type": "execute_result"
    }
   ],
   "source": [
    "t = tokenize(sentence1)\n",
    "t"
   ]
  },
  {
   "cell_type": "code",
   "execution_count": 265,
   "metadata": {},
   "outputs": [],
   "source": [
    "t = tokenize(sentence1)\n",
    "t = split_into_characters(t, character_vocab, word_length=7, sen_len=7)"
   ]
  },
  {
   "cell_type": "code",
   "execution_count": 266,
   "metadata": {},
   "outputs": [
    {
     "data": {
      "text/plain": [
       "[[13, 30, 6, 55, 4, 2, 0],\n",
       " [13, 55, 15, 7, 0, 0, 0],\n",
       " [17, 2, 8, 7, 0, 0, 0],\n",
       " [13, 5, 11, 0, 0, 0, 0],\n",
       " [17, 3, 33, 52, 8, 5, 0],\n",
       " [21, 2, 14, 2, 0, 0, 0],\n",
       " [12, 25, 0, 0, 0, 0, 0]]"
      ]
     },
     "execution_count": 266,
     "metadata": {},
     "output_type": "execute_result"
    }
   ],
   "source": [
    "t[0]"
   ]
  },
  {
   "cell_type": "code",
   "execution_count": 267,
   "metadata": {},
   "outputs": [],
   "source": [
    "# convert t to a list of tensors\n",
    "for i in range(len(t)):\n",
    "    t[i] = torch.tensor(t[i]).to(device)"
   ]
  },
  {
   "cell_type": "code",
   "execution_count": 268,
   "metadata": {},
   "outputs": [
    {
     "data": {
      "text/plain": [
       "[tensor([[13, 30,  6, 55,  4,  2,  0],\n",
       "         [13, 55, 15,  7,  0,  0,  0],\n",
       "         [17,  2,  8,  7,  0,  0,  0],\n",
       "         [13,  5, 11,  0,  0,  0,  0],\n",
       "         [17,  3, 33, 52,  8,  5,  0],\n",
       "         [21,  2, 14,  2,  0,  0,  0],\n",
       "         [12, 25,  0,  0,  0,  0,  0]], device='cuda:0')]"
      ]
     },
     "execution_count": 268,
     "metadata": {},
     "output_type": "execute_result"
    }
   ],
   "source": [
    "t"
   ]
  },
  {
   "cell_type": "code",
   "execution_count": 269,
   "metadata": {},
   "outputs": [],
   "source": [
    "sentence_tensor = torch.stack(t, dim=1)"
   ]
  },
  {
   "cell_type": "code",
   "execution_count": 270,
   "metadata": {},
   "outputs": [],
   "source": [
    "forward_output, backward_output, final_embeddings = model(sentence_tensor)"
   ]
  },
  {
   "cell_type": "code",
   "execution_count": 272,
   "metadata": {},
   "outputs": [],
   "source": [
    "cos_vals = []\n",
    "for i in range(7):\n",
    "    temp = []\n",
    "    for j in range(7):\n",
    "        e1 = final_embeddings[-1][i][0]\n",
    "        e2 = final_embeddings[-1][j][0]\n",
    "        temp.append(F.cosine_similarity(e1, e2, dim=0).item())\n",
    "    cos_vals.append(temp)\n",
    "    "
   ]
  },
  {
   "cell_type": "code",
   "execution_count": null,
   "metadata": {},
   "outputs": [],
   "source": []
  },
  {
   "cell_type": "code",
   "execution_count": 273,
   "metadata": {},
   "outputs": [],
   "source": [
    "# for indices between 0 and 6, make a dictionary of mapping them to words of sentence\n",
    "word_map = {}\n",
    "for i in range(7):\n",
    "    word_map[i] = sentence[0].split()[i]"
   ]
  },
  {
   "cell_type": "code",
   "execution_count": 274,
   "metadata": {},
   "outputs": [
    {
     "data": {
      "text/plain": [
       "{0: 'मुझे', 1: 'भूख', 2: 'और', 3: 'प्यास', 4: 'लग', 5: 'रही', 6: 'है'}"
      ]
     },
     "execution_count": 274,
     "metadata": {},
     "output_type": "execute_result"
    }
   ],
   "source": [
    "word_map"
   ]
  },
  {
   "cell_type": "code",
   "execution_count": 275,
   "metadata": {},
   "outputs": [
    {
     "name": "stderr",
     "output_type": "stream",
     "text": [
      "findfont: Font family 'Tiro Devanagari Hindi' not found.\n",
      "findfont: Font family 'Tiro Devanagari Hindi' not found.\n",
      "c:\\Users\\tanve\\AppData\\Local\\Programs\\Python\\Python39\\lib\\site-packages\\seaborn\\utils.py:61: UserWarning: Glyph 2350 (\\N{DEVANAGARI LETTER MA}) missing from current font.\n",
      "  fig.canvas.draw()\n",
      "c:\\Users\\tanve\\AppData\\Local\\Programs\\Python\\Python39\\lib\\site-packages\\seaborn\\utils.py:61: UserWarning: Matplotlib currently does not support Devanagari natively.\n",
      "  fig.canvas.draw()\n",
      "c:\\Users\\tanve\\AppData\\Local\\Programs\\Python\\Python39\\lib\\site-packages\\seaborn\\utils.py:61: UserWarning: Glyph 2369 (\\N{DEVANAGARI VOWEL SIGN U}) missing from current font.\n",
      "  fig.canvas.draw()\n",
      "c:\\Users\\tanve\\AppData\\Local\\Programs\\Python\\Python39\\lib\\site-packages\\seaborn\\utils.py:61: UserWarning: Glyph 2333 (\\N{DEVANAGARI LETTER JHA}) missing from current font.\n",
      "  fig.canvas.draw()\n",
      "c:\\Users\\tanve\\AppData\\Local\\Programs\\Python\\Python39\\lib\\site-packages\\seaborn\\utils.py:61: UserWarning: Glyph 2375 (\\N{DEVANAGARI VOWEL SIGN E}) missing from current font.\n",
      "  fig.canvas.draw()\n",
      "findfont: Font family 'Tiro Devanagari Hindi' not found.\n",
      "c:\\Users\\tanve\\AppData\\Local\\Programs\\Python\\Python39\\lib\\site-packages\\seaborn\\utils.py:61: UserWarning: Glyph 2349 (\\N{DEVANAGARI LETTER BHA}) missing from current font.\n",
      "  fig.canvas.draw()\n",
      "c:\\Users\\tanve\\AppData\\Local\\Programs\\Python\\Python39\\lib\\site-packages\\seaborn\\utils.py:61: UserWarning: Glyph 2370 (\\N{DEVANAGARI VOWEL SIGN UU}) missing from current font.\n",
      "  fig.canvas.draw()\n",
      "c:\\Users\\tanve\\AppData\\Local\\Programs\\Python\\Python39\\lib\\site-packages\\seaborn\\utils.py:61: UserWarning: Glyph 2326 (\\N{DEVANAGARI LETTER KHA}) missing from current font.\n",
      "  fig.canvas.draw()\n",
      "findfont: Font family 'Tiro Devanagari Hindi' not found.\n",
      "c:\\Users\\tanve\\AppData\\Local\\Programs\\Python\\Python39\\lib\\site-packages\\seaborn\\utils.py:61: UserWarning: Glyph 2324 (\\N{DEVANAGARI LETTER AU}) missing from current font.\n",
      "  fig.canvas.draw()\n",
      "c:\\Users\\tanve\\AppData\\Local\\Programs\\Python\\Python39\\lib\\site-packages\\seaborn\\utils.py:61: UserWarning: Glyph 2352 (\\N{DEVANAGARI LETTER RA}) missing from current font.\n",
      "  fig.canvas.draw()\n",
      "findfont: Font family 'Tiro Devanagari Hindi' not found.\n",
      "c:\\Users\\tanve\\AppData\\Local\\Programs\\Python\\Python39\\lib\\site-packages\\seaborn\\utils.py:61: UserWarning: Glyph 2346 (\\N{DEVANAGARI LETTER PA}) missing from current font.\n",
      "  fig.canvas.draw()\n",
      "c:\\Users\\tanve\\AppData\\Local\\Programs\\Python\\Python39\\lib\\site-packages\\seaborn\\utils.py:61: UserWarning: Glyph 2381 (\\N{DEVANAGARI SIGN VIRAMA}) missing from current font.\n",
      "  fig.canvas.draw()\n",
      "c:\\Users\\tanve\\AppData\\Local\\Programs\\Python\\Python39\\lib\\site-packages\\seaborn\\utils.py:61: UserWarning: Glyph 2351 (\\N{DEVANAGARI LETTER YA}) missing from current font.\n",
      "  fig.canvas.draw()\n",
      "c:\\Users\\tanve\\AppData\\Local\\Programs\\Python\\Python39\\lib\\site-packages\\seaborn\\utils.py:61: UserWarning: Glyph 2366 (\\N{DEVANAGARI VOWEL SIGN AA}) missing from current font.\n",
      "  fig.canvas.draw()\n",
      "c:\\Users\\tanve\\AppData\\Local\\Programs\\Python\\Python39\\lib\\site-packages\\seaborn\\utils.py:61: UserWarning: Glyph 2360 (\\N{DEVANAGARI LETTER SA}) missing from current font.\n",
      "  fig.canvas.draw()\n",
      "findfont: Font family 'Tiro Devanagari Hindi' not found.\n",
      "c:\\Users\\tanve\\AppData\\Local\\Programs\\Python\\Python39\\lib\\site-packages\\seaborn\\utils.py:61: UserWarning: Glyph 2354 (\\N{DEVANAGARI LETTER LA}) missing from current font.\n",
      "  fig.canvas.draw()\n",
      "c:\\Users\\tanve\\AppData\\Local\\Programs\\Python\\Python39\\lib\\site-packages\\seaborn\\utils.py:61: UserWarning: Glyph 2327 (\\N{DEVANAGARI LETTER GA}) missing from current font.\n",
      "  fig.canvas.draw()\n",
      "findfont: Font family 'Tiro Devanagari Hindi' not found.\n",
      "c:\\Users\\tanve\\AppData\\Local\\Programs\\Python\\Python39\\lib\\site-packages\\seaborn\\utils.py:61: UserWarning: Glyph 2361 (\\N{DEVANAGARI LETTER HA}) missing from current font.\n",
      "  fig.canvas.draw()\n",
      "c:\\Users\\tanve\\AppData\\Local\\Programs\\Python\\Python39\\lib\\site-packages\\seaborn\\utils.py:61: UserWarning: Glyph 2368 (\\N{DEVANAGARI VOWEL SIGN II}) missing from current font.\n",
      "  fig.canvas.draw()\n",
      "findfont: Font family 'Tiro Devanagari Hindi' not found.\n",
      "c:\\Users\\tanve\\AppData\\Local\\Programs\\Python\\Python39\\lib\\site-packages\\seaborn\\utils.py:61: UserWarning: Glyph 2376 (\\N{DEVANAGARI VOWEL SIGN AI}) missing from current font.\n",
      "  fig.canvas.draw()\n",
      "findfont: Font family 'Tiro Devanagari Hindi' not found.\n",
      "findfont: Font family 'Tiro Devanagari Hindi' not found.\n",
      "findfont: Font family 'Tiro Devanagari Hindi' not found.\n",
      "findfont: Font family 'Tiro Devanagari Hindi' not found.\n",
      "findfont: Font family 'Tiro Devanagari Hindi' not found.\n",
      "findfont: Font family 'Tiro Devanagari Hindi' not found.\n",
      "findfont: Font family 'Tiro Devanagari Hindi' not found.\n",
      "findfont: Font family 'Tiro Devanagari Hindi' not found.\n",
      "findfont: Font family 'Tiro Devanagari Hindi' not found.\n",
      "findfont: Font family 'Tiro Devanagari Hindi' not found.\n",
      "findfont: Font family 'Tiro Devanagari Hindi' not found.\n",
      "findfont: Font family 'Tiro Devanagari Hindi' not found.\n",
      "findfont: Font family 'Tiro Devanagari Hindi' not found.\n",
      "findfont: Font family 'Tiro Devanagari Hindi' not found.\n",
      "findfont: Font family 'Tiro Devanagari Hindi' not found.\n",
      "findfont: Font family 'Tiro Devanagari Hindi' not found.\n",
      "findfont: Font family 'Tiro Devanagari Hindi' not found.\n",
      "findfont: Font family 'Tiro Devanagari Hindi' not found.\n",
      "findfont: Font family 'Tiro Devanagari Hindi' not found.\n",
      "findfont: Font family 'Tiro Devanagari Hindi' not found.\n",
      "findfont: Font family 'Tiro Devanagari Hindi' not found.\n",
      "findfont: Font family 'Tiro Devanagari Hindi' not found.\n",
      "findfont: Font family 'Tiro Devanagari Hindi' not found.\n",
      "findfont: Font family 'Tiro Devanagari Hindi' not found.\n",
      "findfont: Font family 'Tiro Devanagari Hindi' not found.\n",
      "findfont: Font family 'Tiro Devanagari Hindi' not found.\n",
      "findfont: Font family 'Tiro Devanagari Hindi' not found.\n",
      "findfont: Font family 'Tiro Devanagari Hindi' not found.\n",
      "findfont: Font family 'Tiro Devanagari Hindi' not found.\n",
      "findfont: Font family 'Tiro Devanagari Hindi' not found.\n"
     ]
    },
    {
     "data": {
      "text/plain": [
       "<Axes: >"
      ]
     },
     "execution_count": 275,
     "metadata": {},
     "output_type": "execute_result"
    },
    {
     "name": "stderr",
     "output_type": "stream",
     "text": [
      "findfont: Font family 'Tiro Devanagari Hindi' not found.\n",
      "C:\\Users\\tanve\\AppData\\Roaming\\Python\\Python39\\site-packages\\IPython\\core\\events.py:82: UserWarning: Glyph 2350 (\\N{DEVANAGARI LETTER MA}) missing from current font.\n",
      "  func(*args, **kwargs)\n",
      "C:\\Users\\tanve\\AppData\\Roaming\\Python\\Python39\\site-packages\\IPython\\core\\events.py:82: UserWarning: Matplotlib currently does not support Devanagari natively.\n",
      "  func(*args, **kwargs)\n",
      "C:\\Users\\tanve\\AppData\\Roaming\\Python\\Python39\\site-packages\\IPython\\core\\events.py:82: UserWarning: Glyph 2369 (\\N{DEVANAGARI VOWEL SIGN U}) missing from current font.\n",
      "  func(*args, **kwargs)\n",
      "C:\\Users\\tanve\\AppData\\Roaming\\Python\\Python39\\site-packages\\IPython\\core\\events.py:82: UserWarning: Glyph 2333 (\\N{DEVANAGARI LETTER JHA}) missing from current font.\n",
      "  func(*args, **kwargs)\n",
      "C:\\Users\\tanve\\AppData\\Roaming\\Python\\Python39\\site-packages\\IPython\\core\\events.py:82: UserWarning: Glyph 2375 (\\N{DEVANAGARI VOWEL SIGN E}) missing from current font.\n",
      "  func(*args, **kwargs)\n",
      "findfont: Font family 'Tiro Devanagari Hindi' not found.\n",
      "C:\\Users\\tanve\\AppData\\Roaming\\Python\\Python39\\site-packages\\IPython\\core\\events.py:82: UserWarning: Glyph 2349 (\\N{DEVANAGARI LETTER BHA}) missing from current font.\n",
      "  func(*args, **kwargs)\n",
      "C:\\Users\\tanve\\AppData\\Roaming\\Python\\Python39\\site-packages\\IPython\\core\\events.py:82: UserWarning: Glyph 2370 (\\N{DEVANAGARI VOWEL SIGN UU}) missing from current font.\n",
      "  func(*args, **kwargs)\n",
      "C:\\Users\\tanve\\AppData\\Roaming\\Python\\Python39\\site-packages\\IPython\\core\\events.py:82: UserWarning: Glyph 2326 (\\N{DEVANAGARI LETTER KHA}) missing from current font.\n",
      "  func(*args, **kwargs)\n",
      "findfont: Font family 'Tiro Devanagari Hindi' not found.\n",
      "C:\\Users\\tanve\\AppData\\Roaming\\Python\\Python39\\site-packages\\IPython\\core\\events.py:82: UserWarning: Glyph 2324 (\\N{DEVANAGARI LETTER AU}) missing from current font.\n",
      "  func(*args, **kwargs)\n",
      "C:\\Users\\tanve\\AppData\\Roaming\\Python\\Python39\\site-packages\\IPython\\core\\events.py:82: UserWarning: Glyph 2352 (\\N{DEVANAGARI LETTER RA}) missing from current font.\n",
      "  func(*args, **kwargs)\n",
      "findfont: Font family 'Tiro Devanagari Hindi' not found.\n",
      "C:\\Users\\tanve\\AppData\\Roaming\\Python\\Python39\\site-packages\\IPython\\core\\events.py:82: UserWarning: Glyph 2346 (\\N{DEVANAGARI LETTER PA}) missing from current font.\n",
      "  func(*args, **kwargs)\n",
      "C:\\Users\\tanve\\AppData\\Roaming\\Python\\Python39\\site-packages\\IPython\\core\\events.py:82: UserWarning: Glyph 2381 (\\N{DEVANAGARI SIGN VIRAMA}) missing from current font.\n",
      "  func(*args, **kwargs)\n",
      "C:\\Users\\tanve\\AppData\\Roaming\\Python\\Python39\\site-packages\\IPython\\core\\events.py:82: UserWarning: Glyph 2351 (\\N{DEVANAGARI LETTER YA}) missing from current font.\n",
      "  func(*args, **kwargs)\n",
      "C:\\Users\\tanve\\AppData\\Roaming\\Python\\Python39\\site-packages\\IPython\\core\\events.py:82: UserWarning: Glyph 2366 (\\N{DEVANAGARI VOWEL SIGN AA}) missing from current font.\n",
      "  func(*args, **kwargs)\n",
      "C:\\Users\\tanve\\AppData\\Roaming\\Python\\Python39\\site-packages\\IPython\\core\\events.py:82: UserWarning: Glyph 2360 (\\N{DEVANAGARI LETTER SA}) missing from current font.\n",
      "  func(*args, **kwargs)\n",
      "findfont: Font family 'Tiro Devanagari Hindi' not found.\n",
      "C:\\Users\\tanve\\AppData\\Roaming\\Python\\Python39\\site-packages\\IPython\\core\\events.py:82: UserWarning: Glyph 2354 (\\N{DEVANAGARI LETTER LA}) missing from current font.\n",
      "  func(*args, **kwargs)\n",
      "C:\\Users\\tanve\\AppData\\Roaming\\Python\\Python39\\site-packages\\IPython\\core\\events.py:82: UserWarning: Glyph 2327 (\\N{DEVANAGARI LETTER GA}) missing from current font.\n",
      "  func(*args, **kwargs)\n",
      "findfont: Font family 'Tiro Devanagari Hindi' not found.\n",
      "C:\\Users\\tanve\\AppData\\Roaming\\Python\\Python39\\site-packages\\IPython\\core\\events.py:82: UserWarning: Glyph 2361 (\\N{DEVANAGARI LETTER HA}) missing from current font.\n",
      "  func(*args, **kwargs)\n",
      "C:\\Users\\tanve\\AppData\\Roaming\\Python\\Python39\\site-packages\\IPython\\core\\events.py:82: UserWarning: Glyph 2368 (\\N{DEVANAGARI VOWEL SIGN II}) missing from current font.\n",
      "  func(*args, **kwargs)\n",
      "findfont: Font family 'Tiro Devanagari Hindi' not found.\n",
      "C:\\Users\\tanve\\AppData\\Roaming\\Python\\Python39\\site-packages\\IPython\\core\\events.py:82: UserWarning: Glyph 2376 (\\N{DEVANAGARI VOWEL SIGN AI}) missing from current font.\n",
      "  func(*args, **kwargs)\n",
      "findfont: Font family 'Tiro Devanagari Hindi' not found.\n",
      "findfont: Font family 'Tiro Devanagari Hindi' not found.\n",
      "findfont: Font family 'Tiro Devanagari Hindi' not found.\n",
      "findfont: Font family 'Tiro Devanagari Hindi' not found.\n",
      "findfont: Font family 'Tiro Devanagari Hindi' not found.\n",
      "findfont: Font family 'Tiro Devanagari Hindi' not found.\n",
      "findfont: Font family 'Tiro Devanagari Hindi' not found.\n",
      "findfont: Font family 'Tiro Devanagari Hindi' not found.\n",
      "findfont: Font family 'Tiro Devanagari Hindi' not found.\n",
      "findfont: Font family 'Tiro Devanagari Hindi' not found.\n",
      "findfont: Font family 'Tiro Devanagari Hindi' not found.\n",
      "findfont: Font family 'Tiro Devanagari Hindi' not found.\n",
      "findfont: Font family 'Tiro Devanagari Hindi' not found.\n",
      "findfont: Font family 'Tiro Devanagari Hindi' not found.\n",
      "findfont: Font family 'Tiro Devanagari Hindi' not found.\n",
      "findfont: Font family 'Tiro Devanagari Hindi' not found.\n",
      "findfont: Font family 'Tiro Devanagari Hindi' not found.\n",
      "findfont: Font family 'Tiro Devanagari Hindi' not found.\n",
      "findfont: Font family 'Tiro Devanagari Hindi' not found.\n",
      "findfont: Font family 'Tiro Devanagari Hindi' not found.\n",
      "findfont: Font family 'Tiro Devanagari Hindi' not found.\n",
      "findfont: Font family 'Tiro Devanagari Hindi' not found.\n",
      "findfont: Font family 'Tiro Devanagari Hindi' not found.\n",
      "findfont: Font family 'Tiro Devanagari Hindi' not found.\n",
      "findfont: Font family 'Tiro Devanagari Hindi' not found.\n",
      "findfont: Font family 'Tiro Devanagari Hindi' not found.\n",
      "findfont: Font family 'Tiro Devanagari Hindi' not found.\n",
      "findfont: Font family 'Tiro Devanagari Hindi' not found.\n",
      "findfont: Font family 'Tiro Devanagari Hindi' not found.\n",
      "findfont: Font family 'Tiro Devanagari Hindi' not found.\n",
      "findfont: Font family 'Tiro Devanagari Hindi' not found.\n",
      "findfont: Font family 'Tiro Devanagari Hindi' not found.\n",
      "findfont: Font family 'Tiro Devanagari Hindi' not found.\n",
      "findfont: Font family 'Tiro Devanagari Hindi' not found.\n",
      "findfont: Font family 'Tiro Devanagari Hindi' not found.\n",
      "findfont: Font family 'Tiro Devanagari Hindi' not found.\n",
      "findfont: Font family 'Tiro Devanagari Hindi' not found.\n",
      "findfont: Font family 'Tiro Devanagari Hindi' not found.\n",
      "findfont: Font family 'Tiro Devanagari Hindi' not found.\n",
      "findfont: Font family 'Tiro Devanagari Hindi' not found.\n",
      "findfont: Font family 'Tiro Devanagari Hindi' not found.\n",
      "findfont: Font family 'Tiro Devanagari Hindi' not found.\n",
      "findfont: Font family 'Tiro Devanagari Hindi' not found.\n",
      "findfont: Font family 'Tiro Devanagari Hindi' not found.\n",
      "findfont: Font family 'Tiro Devanagari Hindi' not found.\n",
      "findfont: Font family 'Tiro Devanagari Hindi' not found.\n",
      "findfont: Font family 'Tiro Devanagari Hindi' not found.\n",
      "findfont: Font family 'Tiro Devanagari Hindi' not found.\n",
      "findfont: Font family 'Tiro Devanagari Hindi' not found.\n",
      "findfont: Font family 'Tiro Devanagari Hindi' not found.\n",
      "findfont: Font family 'Tiro Devanagari Hindi' not found.\n",
      "findfont: Font family 'Tiro Devanagari Hindi' not found.\n",
      "findfont: Font family 'Tiro Devanagari Hindi' not found.\n",
      "findfont: Font family 'Tiro Devanagari Hindi' not found.\n",
      "findfont: Font family 'Tiro Devanagari Hindi' not found.\n",
      "findfont: Font family 'Tiro Devanagari Hindi' not found.\n",
      "findfont: Font family 'Tiro Devanagari Hindi' not found.\n",
      "findfont: Font family 'Tiro Devanagari Hindi' not found.\n",
      "findfont: Font family 'Tiro Devanagari Hindi' not found.\n",
      "findfont: Font family 'Tiro Devanagari Hindi' not found.\n",
      "findfont: Font family 'Tiro Devanagari Hindi' not found.\n",
      "findfont: Font family 'Tiro Devanagari Hindi' not found.\n",
      "findfont: Font family 'Tiro Devanagari Hindi' not found.\n",
      "findfont: Font family 'Tiro Devanagari Hindi' not found.\n",
      "findfont: Font family 'Tiro Devanagari Hindi' not found.\n",
      "findfont: Font family 'Tiro Devanagari Hindi' not found.\n",
      "findfont: Font family 'Tiro Devanagari Hindi' not found.\n",
      "findfont: Font family 'Tiro Devanagari Hindi' not found.\n",
      "findfont: Font family 'Tiro Devanagari Hindi' not found.\n",
      "findfont: Font family 'Tiro Devanagari Hindi' not found.\n",
      "findfont: Font family 'Tiro Devanagari Hindi' not found.\n",
      "findfont: Font family 'Tiro Devanagari Hindi' not found.\n",
      "findfont: Font family 'Tiro Devanagari Hindi' not found.\n",
      "findfont: Font family 'Tiro Devanagari Hindi' not found.\n",
      "findfont: Font family 'Tiro Devanagari Hindi' not found.\n",
      "findfont: Font family 'Tiro Devanagari Hindi' not found.\n",
      "findfont: Font family 'Tiro Devanagari Hindi' not found.\n",
      "findfont: Font family 'Tiro Devanagari Hindi' not found.\n",
      "findfont: Font family 'Tiro Devanagari Hindi' not found.\n",
      "findfont: Font family 'Tiro Devanagari Hindi' not found.\n",
      "findfont: Font family 'Tiro Devanagari Hindi' not found.\n",
      "findfont: Font family 'Tiro Devanagari Hindi' not found.\n",
      "findfont: Font family 'Tiro Devanagari Hindi' not found.\n",
      "C:\\Users\\tanve\\AppData\\Roaming\\Python\\Python39\\site-packages\\IPython\\core\\pylabtools.py:152: UserWarning: Glyph 2350 (\\N{DEVANAGARI LETTER MA}) missing from current font.\n",
      "  fig.canvas.print_figure(bytes_io, **kw)\n",
      "C:\\Users\\tanve\\AppData\\Roaming\\Python\\Python39\\site-packages\\IPython\\core\\pylabtools.py:152: UserWarning: Matplotlib currently does not support Devanagari natively.\n",
      "  fig.canvas.print_figure(bytes_io, **kw)\n",
      "C:\\Users\\tanve\\AppData\\Roaming\\Python\\Python39\\site-packages\\IPython\\core\\pylabtools.py:152: UserWarning: Glyph 2369 (\\N{DEVANAGARI VOWEL SIGN U}) missing from current font.\n",
      "  fig.canvas.print_figure(bytes_io, **kw)\n",
      "C:\\Users\\tanve\\AppData\\Roaming\\Python\\Python39\\site-packages\\IPython\\core\\pylabtools.py:152: UserWarning: Glyph 2333 (\\N{DEVANAGARI LETTER JHA}) missing from current font.\n",
      "  fig.canvas.print_figure(bytes_io, **kw)\n",
      "C:\\Users\\tanve\\AppData\\Roaming\\Python\\Python39\\site-packages\\IPython\\core\\pylabtools.py:152: UserWarning: Glyph 2375 (\\N{DEVANAGARI VOWEL SIGN E}) missing from current font.\n",
      "  fig.canvas.print_figure(bytes_io, **kw)\n",
      "findfont: Font family 'Tiro Devanagari Hindi' not found.\n",
      "C:\\Users\\tanve\\AppData\\Roaming\\Python\\Python39\\site-packages\\IPython\\core\\pylabtools.py:152: UserWarning: Glyph 2349 (\\N{DEVANAGARI LETTER BHA}) missing from current font.\n",
      "  fig.canvas.print_figure(bytes_io, **kw)\n",
      "C:\\Users\\tanve\\AppData\\Roaming\\Python\\Python39\\site-packages\\IPython\\core\\pylabtools.py:152: UserWarning: Glyph 2370 (\\N{DEVANAGARI VOWEL SIGN UU}) missing from current font.\n",
      "  fig.canvas.print_figure(bytes_io, **kw)\n",
      "C:\\Users\\tanve\\AppData\\Roaming\\Python\\Python39\\site-packages\\IPython\\core\\pylabtools.py:152: UserWarning: Glyph 2326 (\\N{DEVANAGARI LETTER KHA}) missing from current font.\n",
      "  fig.canvas.print_figure(bytes_io, **kw)\n",
      "findfont: Font family 'Tiro Devanagari Hindi' not found.\n",
      "C:\\Users\\tanve\\AppData\\Roaming\\Python\\Python39\\site-packages\\IPython\\core\\pylabtools.py:152: UserWarning: Glyph 2324 (\\N{DEVANAGARI LETTER AU}) missing from current font.\n",
      "  fig.canvas.print_figure(bytes_io, **kw)\n",
      "C:\\Users\\tanve\\AppData\\Roaming\\Python\\Python39\\site-packages\\IPython\\core\\pylabtools.py:152: UserWarning: Glyph 2352 (\\N{DEVANAGARI LETTER RA}) missing from current font.\n",
      "  fig.canvas.print_figure(bytes_io, **kw)\n",
      "findfont: Font family 'Tiro Devanagari Hindi' not found.\n",
      "C:\\Users\\tanve\\AppData\\Roaming\\Python\\Python39\\site-packages\\IPython\\core\\pylabtools.py:152: UserWarning: Glyph 2346 (\\N{DEVANAGARI LETTER PA}) missing from current font.\n",
      "  fig.canvas.print_figure(bytes_io, **kw)\n",
      "C:\\Users\\tanve\\AppData\\Roaming\\Python\\Python39\\site-packages\\IPython\\core\\pylabtools.py:152: UserWarning: Glyph 2381 (\\N{DEVANAGARI SIGN VIRAMA}) missing from current font.\n",
      "  fig.canvas.print_figure(bytes_io, **kw)\n",
      "C:\\Users\\tanve\\AppData\\Roaming\\Python\\Python39\\site-packages\\IPython\\core\\pylabtools.py:152: UserWarning: Glyph 2351 (\\N{DEVANAGARI LETTER YA}) missing from current font.\n",
      "  fig.canvas.print_figure(bytes_io, **kw)\n",
      "C:\\Users\\tanve\\AppData\\Roaming\\Python\\Python39\\site-packages\\IPython\\core\\pylabtools.py:152: UserWarning: Glyph 2366 (\\N{DEVANAGARI VOWEL SIGN AA}) missing from current font.\n",
      "  fig.canvas.print_figure(bytes_io, **kw)\n",
      "C:\\Users\\tanve\\AppData\\Roaming\\Python\\Python39\\site-packages\\IPython\\core\\pylabtools.py:152: UserWarning: Glyph 2360 (\\N{DEVANAGARI LETTER SA}) missing from current font.\n",
      "  fig.canvas.print_figure(bytes_io, **kw)\n",
      "findfont: Font family 'Tiro Devanagari Hindi' not found.\n",
      "C:\\Users\\tanve\\AppData\\Roaming\\Python\\Python39\\site-packages\\IPython\\core\\pylabtools.py:152: UserWarning: Glyph 2354 (\\N{DEVANAGARI LETTER LA}) missing from current font.\n",
      "  fig.canvas.print_figure(bytes_io, **kw)\n",
      "C:\\Users\\tanve\\AppData\\Roaming\\Python\\Python39\\site-packages\\IPython\\core\\pylabtools.py:152: UserWarning: Glyph 2327 (\\N{DEVANAGARI LETTER GA}) missing from current font.\n",
      "  fig.canvas.print_figure(bytes_io, **kw)\n",
      "findfont: Font family 'Tiro Devanagari Hindi' not found.\n",
      "C:\\Users\\tanve\\AppData\\Roaming\\Python\\Python39\\site-packages\\IPython\\core\\pylabtools.py:152: UserWarning: Glyph 2361 (\\N{DEVANAGARI LETTER HA}) missing from current font.\n",
      "  fig.canvas.print_figure(bytes_io, **kw)\n",
      "C:\\Users\\tanve\\AppData\\Roaming\\Python\\Python39\\site-packages\\IPython\\core\\pylabtools.py:152: UserWarning: Glyph 2368 (\\N{DEVANAGARI VOWEL SIGN II}) missing from current font.\n",
      "  fig.canvas.print_figure(bytes_io, **kw)\n",
      "findfont: Font family 'Tiro Devanagari Hindi' not found.\n",
      "C:\\Users\\tanve\\AppData\\Roaming\\Python\\Python39\\site-packages\\IPython\\core\\pylabtools.py:152: UserWarning: Glyph 2376 (\\N{DEVANAGARI VOWEL SIGN AI}) missing from current font.\n",
      "  fig.canvas.print_figure(bytes_io, **kw)\n",
      "findfont: Font family 'Tiro Devanagari Hindi' not found.\n",
      "findfont: Font family 'Tiro Devanagari Hindi' not found.\n",
      "findfont: Font family 'Tiro Devanagari Hindi' not found.\n",
      "findfont: Font family 'Tiro Devanagari Hindi' not found.\n",
      "findfont: Font family 'Tiro Devanagari Hindi' not found.\n",
      "findfont: Font family 'Tiro Devanagari Hindi' not found.\n",
      "findfont: Font family 'Tiro Devanagari Hindi' not found.\n",
      "findfont: Font family 'Tiro Devanagari Hindi' not found.\n",
      "findfont: Font family 'Tiro Devanagari Hindi' not found.\n",
      "findfont: Font family 'Tiro Devanagari Hindi' not found.\n",
      "findfont: Font family 'Tiro Devanagari Hindi' not found.\n",
      "findfont: Font family 'Tiro Devanagari Hindi' not found.\n",
      "findfont: Font family 'Tiro Devanagari Hindi' not found.\n",
      "findfont: Font family 'Tiro Devanagari Hindi' not found.\n",
      "findfont: Font family 'Tiro Devanagari Hindi' not found.\n",
      "findfont: Font family 'Tiro Devanagari Hindi' not found.\n",
      "findfont: Font family 'Tiro Devanagari Hindi' not found.\n",
      "findfont: Font family 'Tiro Devanagari Hindi' not found.\n",
      "findfont: Font family 'Tiro Devanagari Hindi' not found.\n",
      "findfont: Font family 'Tiro Devanagari Hindi' not found.\n",
      "findfont: Font family 'Tiro Devanagari Hindi' not found.\n",
      "findfont: Font family 'Tiro Devanagari Hindi' not found.\n",
      "findfont: Font family 'Tiro Devanagari Hindi' not found.\n",
      "findfont: Font family 'Tiro Devanagari Hindi' not found.\n",
      "findfont: Font family 'Tiro Devanagari Hindi' not found.\n",
      "findfont: Font family 'Tiro Devanagari Hindi' not found.\n",
      "findfont: Font family 'Tiro Devanagari Hindi' not found.\n",
      "findfont: Font family 'Tiro Devanagari Hindi' not found.\n",
      "findfont: Font family 'Tiro Devanagari Hindi' not found.\n",
      "findfont: Font family 'Tiro Devanagari Hindi' not found.\n",
      "findfont: Font family 'Tiro Devanagari Hindi' not found.\n",
      "findfont: Font family 'Tiro Devanagari Hindi' not found.\n",
      "findfont: Font family 'Tiro Devanagari Hindi' not found.\n",
      "findfont: Font family 'Tiro Devanagari Hindi' not found.\n",
      "findfont: Font family 'Tiro Devanagari Hindi' not found.\n",
      "findfont: Font family 'Tiro Devanagari Hindi' not found.\n",
      "findfont: Font family 'Tiro Devanagari Hindi' not found.\n",
      "findfont: Font family 'Tiro Devanagari Hindi' not found.\n",
      "findfont: Font family 'Tiro Devanagari Hindi' not found.\n",
      "findfont: Font family 'Tiro Devanagari Hindi' not found.\n",
      "findfont: Font family 'Tiro Devanagari Hindi' not found.\n",
      "findfont: Font family 'Tiro Devanagari Hindi' not found.\n",
      "findfont: Font family 'Tiro Devanagari Hindi' not found.\n",
      "findfont: Font family 'Tiro Devanagari Hindi' not found.\n",
      "findfont: Font family 'Tiro Devanagari Hindi' not found.\n",
      "findfont: Font family 'Tiro Devanagari Hindi' not found.\n",
      "findfont: Font family 'Tiro Devanagari Hindi' not found.\n",
      "findfont: Font family 'Tiro Devanagari Hindi' not found.\n",
      "findfont: Font family 'Tiro Devanagari Hindi' not found.\n",
      "findfont: Font family 'Tiro Devanagari Hindi' not found.\n",
      "findfont: Font family 'Tiro Devanagari Hindi' not found.\n",
      "findfont: Font family 'Tiro Devanagari Hindi' not found.\n",
      "findfont: Font family 'Tiro Devanagari Hindi' not found.\n",
      "findfont: Font family 'Tiro Devanagari Hindi' not found.\n",
      "findfont: Font family 'Tiro Devanagari Hindi' not found.\n",
      "findfont: Font family 'Tiro Devanagari Hindi' not found.\n",
      "findfont: Font family 'Tiro Devanagari Hindi' not found.\n",
      "findfont: Font family 'Tiro Devanagari Hindi' not found.\n",
      "findfont: Font family 'Tiro Devanagari Hindi' not found.\n",
      "findfont: Font family 'Tiro Devanagari Hindi' not found.\n",
      "findfont: Font family 'Tiro Devanagari Hindi' not found.\n",
      "findfont: Font family 'Tiro Devanagari Hindi' not found.\n",
      "findfont: Font family 'Tiro Devanagari Hindi' not found.\n",
      "findfont: Font family 'Tiro Devanagari Hindi' not found.\n",
      "findfont: Font family 'Tiro Devanagari Hindi' not found.\n",
      "findfont: Font family 'Tiro Devanagari Hindi' not found.\n",
      "findfont: Font family 'Tiro Devanagari Hindi' not found.\n",
      "findfont: Font family 'Tiro Devanagari Hindi' not found.\n",
      "findfont: Font family 'Tiro Devanagari Hindi' not found.\n",
      "findfont: Font family 'Tiro Devanagari Hindi' not found.\n",
      "findfont: Font family 'Tiro Devanagari Hindi' not found.\n",
      "findfont: Font family 'Tiro Devanagari Hindi' not found.\n",
      "findfont: Font family 'Tiro Devanagari Hindi' not found.\n",
      "findfont: Font family 'Tiro Devanagari Hindi' not found.\n",
      "findfont: Font family 'Tiro Devanagari Hindi' not found.\n",
      "findfont: Font family 'Tiro Devanagari Hindi' not found.\n",
      "findfont: Font family 'Tiro Devanagari Hindi' not found.\n",
      "findfont: Font family 'Tiro Devanagari Hindi' not found.\n",
      "findfont: Font family 'Tiro Devanagari Hindi' not found.\n",
      "findfont: Font family 'Tiro Devanagari Hindi' not found.\n",
      "findfont: Font family 'Tiro Devanagari Hindi' not found.\n",
      "findfont: Font family 'Tiro Devanagari Hindi' not found.\n",
      "findfont: Font family 'Tiro Devanagari Hindi' not found.\n",
      "findfont: Font family 'Tiro Devanagari Hindi' not found.\n",
      "findfont: Font family 'Tiro Devanagari Hindi' not found.\n",
      "findfont: Font family 'Tiro Devanagari Hindi' not found.\n",
      "findfont: Font family 'Tiro Devanagari Hindi' not found.\n",
      "findfont: Font family 'Tiro Devanagari Hindi' not found.\n",
      "findfont: Font family 'Tiro Devanagari Hindi' not found.\n",
      "findfont: Font family 'Tiro Devanagari Hindi' not found.\n",
      "findfont: Font family 'Tiro Devanagari Hindi' not found.\n",
      "findfont: Font family 'Tiro Devanagari Hindi' not found.\n",
      "findfont: Font family 'Tiro Devanagari Hindi' not found.\n",
      "findfont: Font family 'Tiro Devanagari Hindi' not found.\n",
      "findfont: Font family 'Tiro Devanagari Hindi' not found.\n",
      "findfont: Font family 'Tiro Devanagari Hindi' not found.\n"
     ]
    },
    {
     "data": {
      "image/png": "[encoded data removed]",
      "text/plain": [
       "<Figure size 1300x1000 with 2 Axes>"
      ]
     },
     "metadata": {},
     "output_type": "display_data"
    }
   ],
   "source": [
    "# make a heatmap of cosine similarities and annotate with words\n",
    "import seaborn as sns\n",
    "import matplotlib.pyplot as plt\n",
    "\n",
    "plt.figure(figsize=(13, 10))\n",
    "# show the values in the heatmap\n",
    "sns.heatmap(cos_vals, annot=True, xticklabels=[word_map[i] for i in range(7)], yticklabels=[word_map[i] for i in range(7)])\n"
   ]
  },
  {
   "cell_type": "code",
   "execution_count": null,
   "metadata": {},
   "outputs": [],
   "source": []
  }
 ],
 "metadata": {
  "kernelspec": {
   "display_name": "Python 3",
   "language": "python",
   "name": "python3"
  },
  "language_info": {
   "codemirror_mode": {
    "name": "ipython",
    "version": 3
   },
   "file_extension": ".py",
   "mimetype": "text/x-python",
   "name": "python",
   "nbconvert_exporter": "python",
   "pygments_lexer": "ipython3",
   "version": "3.9.7"
  }
 },
 "nbformat": 4,
 "nbformat_minor": 2
}
